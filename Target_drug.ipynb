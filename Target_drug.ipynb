{
  "nbformat": 4,
  "nbformat_minor": 0,
  "metadata": {
    "colab": {
      "provenance": [],
      "authorship_tag": "ABX9TyNqjnCQq+8EBVKkQ9DcDP4/",
      "include_colab_link": true
    },
    "kernelspec": {
      "name": "python3",
      "display_name": "Python 3"
    },
    "language_info": {
      "name": "python"
    },
    "accelerator": "GPU",
    "gpuClass": "standard"
  },
  "cells": [
    {
      "cell_type": "markdown",
      "metadata": {
        "id": "view-in-github",
        "colab_type": "text"
      },
      "source": [
        "<a href=\"https://colab.research.google.com/github/ArunVignesh75/Machine-Learning/blob/main/Target_drug.ipynb\" target=\"_parent\"><img src=\"https://colab.research.google.com/assets/colab-badge.svg\" alt=\"Open In Colab\"/></a>"
      ]
    },
    {
      "cell_type": "code",
      "execution_count": null,
      "metadata": {
        "id": "BMFaApUC8AG7"
      },
      "outputs": [],
      "source": [
        "import pandas as pd\n",
        "import numpy as np\n",
        "from sklearn.model_selection import train_test_split\n",
        "import warnings\n",
        "warnings.filterwarnings('ignore')\n",
        "import xgboost as xgb\n",
        "from sklearn.metrics import accuracy_score, plot_roc_curve, roc_curve, roc_auc_score, confusion_matrix, f1_score\n",
        "from sklearn.model_selection import cross_val_score\n",
        "from sklearn.preprocessing import StandardScaler\n",
        "from sklearn.preprocessing import LabelEncoder\n",
        "from imblearn.combine import SMOTEENN\n",
        "import matplotlib.pyplot as plt\n",
        "import seaborn as sns\n",
        "%matplotlib inline\n"
      ]
    },
    {
      "cell_type": "markdown",
      "source": [],
      "metadata": {
        "id": "yHyvLetXwylj"
      }
    },
    {
      "cell_type": "code",
      "source": [
        "df = pd.read_parquet(\"train.parquet\")\n",
        "df1 = pd.read_parquet(\"test.parquet\")"
      ],
      "metadata": {
        "id": "2VSNzI-acP1o"
      },
      "execution_count": null,
      "outputs": []
    },
    {
      "cell_type": "code",
      "source": [
        "df1"
      ],
      "metadata": {
        "colab": {
          "base_uri": "https://localhost:8080/",
          "height": 424
        },
        "id": "lPyBfI5mgC2I",
        "outputId": "94dae83e-564d-4c93-85c5-ab775d88dcb5"
      },
      "execution_count": null,
      "outputs": [
        {
          "output_type": "execute_result",
          "data": {
            "text/plain": [
              "                                  Patient-Uid       Date        Incident\n",
              "0        a0f9e8a9-1c7c-11ec-8d25-16262ee38c7f 2016-12-08  SYMPTOM_TYPE_0\n",
              "1        a0f9e8a9-1c7c-11ec-8d25-16262ee38c7f 2018-10-17     DRUG_TYPE_0\n",
              "2        a0f9e8a9-1c7c-11ec-8d25-16262ee38c7f 2017-12-01     DRUG_TYPE_2\n",
              "3        a0f9e8a9-1c7c-11ec-8d25-16262ee38c7f 2018-12-05     DRUG_TYPE_1\n",
              "4        a0f9e8a9-1c7c-11ec-8d25-16262ee38c7f 2017-11-04  SYMPTOM_TYPE_0\n",
              "...                                       ...        ...             ...\n",
              "1372854  a10272c9-1c7c-11ec-b3ce-16262ee38c7f 2017-05-11    DRUG_TYPE_13\n",
              "1372856  a10272c9-1c7c-11ec-b3ce-16262ee38c7f 2018-08-22     DRUG_TYPE_2\n",
              "1372857  a10272c9-1c7c-11ec-b3ce-16262ee38c7f 2017-02-04     DRUG_TYPE_2\n",
              "1372858  a10272c9-1c7c-11ec-b3ce-16262ee38c7f 2017-09-25     DRUG_TYPE_8\n",
              "1372859  a10272c9-1c7c-11ec-b3ce-16262ee38c7f 2017-05-19     DRUG_TYPE_7\n",
              "\n",
              "[1065524 rows x 3 columns]"
            ],
            "text/html": [
              "\n",
              "  <div id=\"df-355f749a-5a9a-42f6-a2b6-a8026da1464e\">\n",
              "    <div class=\"colab-df-container\">\n",
              "      <div>\n",
              "<style scoped>\n",
              "    .dataframe tbody tr th:only-of-type {\n",
              "        vertical-align: middle;\n",
              "    }\n",
              "\n",
              "    .dataframe tbody tr th {\n",
              "        vertical-align: top;\n",
              "    }\n",
              "\n",
              "    .dataframe thead th {\n",
              "        text-align: right;\n",
              "    }\n",
              "</style>\n",
              "<table border=\"1\" class=\"dataframe\">\n",
              "  <thead>\n",
              "    <tr style=\"text-align: right;\">\n",
              "      <th></th>\n",
              "      <th>Patient-Uid</th>\n",
              "      <th>Date</th>\n",
              "      <th>Incident</th>\n",
              "    </tr>\n",
              "  </thead>\n",
              "  <tbody>\n",
              "    <tr>\n",
              "      <th>0</th>\n",
              "      <td>a0f9e8a9-1c7c-11ec-8d25-16262ee38c7f</td>\n",
              "      <td>2016-12-08</td>\n",
              "      <td>SYMPTOM_TYPE_0</td>\n",
              "    </tr>\n",
              "    <tr>\n",
              "      <th>1</th>\n",
              "      <td>a0f9e8a9-1c7c-11ec-8d25-16262ee38c7f</td>\n",
              "      <td>2018-10-17</td>\n",
              "      <td>DRUG_TYPE_0</td>\n",
              "    </tr>\n",
              "    <tr>\n",
              "      <th>2</th>\n",
              "      <td>a0f9e8a9-1c7c-11ec-8d25-16262ee38c7f</td>\n",
              "      <td>2017-12-01</td>\n",
              "      <td>DRUG_TYPE_2</td>\n",
              "    </tr>\n",
              "    <tr>\n",
              "      <th>3</th>\n",
              "      <td>a0f9e8a9-1c7c-11ec-8d25-16262ee38c7f</td>\n",
              "      <td>2018-12-05</td>\n",
              "      <td>DRUG_TYPE_1</td>\n",
              "    </tr>\n",
              "    <tr>\n",
              "      <th>4</th>\n",
              "      <td>a0f9e8a9-1c7c-11ec-8d25-16262ee38c7f</td>\n",
              "      <td>2017-11-04</td>\n",
              "      <td>SYMPTOM_TYPE_0</td>\n",
              "    </tr>\n",
              "    <tr>\n",
              "      <th>...</th>\n",
              "      <td>...</td>\n",
              "      <td>...</td>\n",
              "      <td>...</td>\n",
              "    </tr>\n",
              "    <tr>\n",
              "      <th>1372854</th>\n",
              "      <td>a10272c9-1c7c-11ec-b3ce-16262ee38c7f</td>\n",
              "      <td>2017-05-11</td>\n",
              "      <td>DRUG_TYPE_13</td>\n",
              "    </tr>\n",
              "    <tr>\n",
              "      <th>1372856</th>\n",
              "      <td>a10272c9-1c7c-11ec-b3ce-16262ee38c7f</td>\n",
              "      <td>2018-08-22</td>\n",
              "      <td>DRUG_TYPE_2</td>\n",
              "    </tr>\n",
              "    <tr>\n",
              "      <th>1372857</th>\n",
              "      <td>a10272c9-1c7c-11ec-b3ce-16262ee38c7f</td>\n",
              "      <td>2017-02-04</td>\n",
              "      <td>DRUG_TYPE_2</td>\n",
              "    </tr>\n",
              "    <tr>\n",
              "      <th>1372858</th>\n",
              "      <td>a10272c9-1c7c-11ec-b3ce-16262ee38c7f</td>\n",
              "      <td>2017-09-25</td>\n",
              "      <td>DRUG_TYPE_8</td>\n",
              "    </tr>\n",
              "    <tr>\n",
              "      <th>1372859</th>\n",
              "      <td>a10272c9-1c7c-11ec-b3ce-16262ee38c7f</td>\n",
              "      <td>2017-05-19</td>\n",
              "      <td>DRUG_TYPE_7</td>\n",
              "    </tr>\n",
              "  </tbody>\n",
              "</table>\n",
              "<p>1065524 rows × 3 columns</p>\n",
              "</div>\n",
              "      <button class=\"colab-df-convert\" onclick=\"convertToInteractive('df-355f749a-5a9a-42f6-a2b6-a8026da1464e')\"\n",
              "              title=\"Convert this dataframe to an interactive table.\"\n",
              "              style=\"display:none;\">\n",
              "        \n",
              "  <svg xmlns=\"http://www.w3.org/2000/svg\" height=\"24px\"viewBox=\"0 0 24 24\"\n",
              "       width=\"24px\">\n",
              "    <path d=\"M0 0h24v24H0V0z\" fill=\"none\"/>\n",
              "    <path d=\"M18.56 5.44l.94 2.06.94-2.06 2.06-.94-2.06-.94-.94-2.06-.94 2.06-2.06.94zm-11 1L8.5 8.5l.94-2.06 2.06-.94-2.06-.94L8.5 2.5l-.94 2.06-2.06.94zm10 10l.94 2.06.94-2.06 2.06-.94-2.06-.94-.94-2.06-.94 2.06-2.06.94z\"/><path d=\"M17.41 7.96l-1.37-1.37c-.4-.4-.92-.59-1.43-.59-.52 0-1.04.2-1.43.59L10.3 9.45l-7.72 7.72c-.78.78-.78 2.05 0 2.83L4 21.41c.39.39.9.59 1.41.59.51 0 1.02-.2 1.41-.59l7.78-7.78 2.81-2.81c.8-.78.8-2.07 0-2.86zM5.41 20L4 18.59l7.72-7.72 1.47 1.35L5.41 20z\"/>\n",
              "  </svg>\n",
              "      </button>\n",
              "      \n",
              "  <style>\n",
              "    .colab-df-container {\n",
              "      display:flex;\n",
              "      flex-wrap:wrap;\n",
              "      gap: 12px;\n",
              "    }\n",
              "\n",
              "    .colab-df-convert {\n",
              "      background-color: #E8F0FE;\n",
              "      border: none;\n",
              "      border-radius: 50%;\n",
              "      cursor: pointer;\n",
              "      display: none;\n",
              "      fill: #1967D2;\n",
              "      height: 32px;\n",
              "      padding: 0 0 0 0;\n",
              "      width: 32px;\n",
              "    }\n",
              "\n",
              "    .colab-df-convert:hover {\n",
              "      background-color: #E2EBFA;\n",
              "      box-shadow: 0px 1px 2px rgba(60, 64, 67, 0.3), 0px 1px 3px 1px rgba(60, 64, 67, 0.15);\n",
              "      fill: #174EA6;\n",
              "    }\n",
              "\n",
              "    [theme=dark] .colab-df-convert {\n",
              "      background-color: #3B4455;\n",
              "      fill: #D2E3FC;\n",
              "    }\n",
              "\n",
              "    [theme=dark] .colab-df-convert:hover {\n",
              "      background-color: #434B5C;\n",
              "      box-shadow: 0px 1px 3px 1px rgba(0, 0, 0, 0.15);\n",
              "      filter: drop-shadow(0px 1px 2px rgba(0, 0, 0, 0.3));\n",
              "      fill: #FFFFFF;\n",
              "    }\n",
              "  </style>\n",
              "\n",
              "      <script>\n",
              "        const buttonEl =\n",
              "          document.querySelector('#df-355f749a-5a9a-42f6-a2b6-a8026da1464e button.colab-df-convert');\n",
              "        buttonEl.style.display =\n",
              "          google.colab.kernel.accessAllowed ? 'block' : 'none';\n",
              "\n",
              "        async function convertToInteractive(key) {\n",
              "          const element = document.querySelector('#df-355f749a-5a9a-42f6-a2b6-a8026da1464e');\n",
              "          const dataTable =\n",
              "            await google.colab.kernel.invokeFunction('convertToInteractive',\n",
              "                                                     [key], {});\n",
              "          if (!dataTable) return;\n",
              "\n",
              "          const docLinkHtml = 'Like what you see? Visit the ' +\n",
              "            '<a target=\"_blank\" href=https://colab.research.google.com/notebooks/data_table.ipynb>data table notebook</a>'\n",
              "            + ' to learn more about interactive tables.';\n",
              "          element.innerHTML = '';\n",
              "          dataTable['output_type'] = 'display_data';\n",
              "          await google.colab.output.renderOutput(dataTable, element);\n",
              "          const docLink = document.createElement('div');\n",
              "          docLink.innerHTML = docLinkHtml;\n",
              "          element.appendChild(docLink);\n",
              "        }\n",
              "      </script>\n",
              "    </div>\n",
              "  </div>\n",
              "  "
            ]
          },
          "metadata": {},
          "execution_count": 5
        }
      ]
    },
    {
      "cell_type": "code",
      "source": [
        "df"
      ],
      "metadata": {
        "colab": {
          "base_uri": "https://localhost:8080/",
          "height": 424
        },
        "id": "nZ_ClQOLgK7K",
        "outputId": "70f6020d-8d1c-483d-8aa8-d03acf597198"
      },
      "execution_count": null,
      "outputs": [
        {
          "output_type": "execute_result",
          "data": {
            "text/plain": [
              "                                   Patient-Uid       Date           Incident\n",
              "0         a0db1e73-1c7c-11ec-ae39-16262ee38c7f 2019-03-09  PRIMARY_DIAGNOSIS\n",
              "1         a0dc93f2-1c7c-11ec-9cd2-16262ee38c7f 2015-05-16  PRIMARY_DIAGNOSIS\n",
              "3         a0dc94c6-1c7c-11ec-a3a0-16262ee38c7f 2018-01-30     SYMPTOM_TYPE_0\n",
              "4         a0dc950b-1c7c-11ec-b6ec-16262ee38c7f 2015-04-22        DRUG_TYPE_0\n",
              "8         a0dc9543-1c7c-11ec-bb63-16262ee38c7f 2016-06-18        DRUG_TYPE_1\n",
              "...                                        ...        ...                ...\n",
              "29080886  a0ee9f75-1c7c-11ec-94c7-16262ee38c7f 2018-07-06        DRUG_TYPE_6\n",
              "29080897  a0ee1284-1c7c-11ec-a3d5-16262ee38c7f 2017-12-29        DRUG_TYPE_6\n",
              "29080900  a0ee9b26-1c7c-11ec-8a40-16262ee38c7f 2018-10-18       DRUG_TYPE_10\n",
              "29080903  a0ee1a92-1c7c-11ec-8341-16262ee38c7f 2015-09-18        DRUG_TYPE_6\n",
              "29080911  a0ee146e-1c7c-11ec-baee-16262ee38c7f 2018-10-05        DRUG_TYPE_1\n",
              "\n",
              "[3220868 rows x 3 columns]"
            ],
            "text/html": [
              "\n",
              "  <div id=\"df-ef87ac0f-f7ef-4e4e-a456-c53da9e5e6ff\">\n",
              "    <div class=\"colab-df-container\">\n",
              "      <div>\n",
              "<style scoped>\n",
              "    .dataframe tbody tr th:only-of-type {\n",
              "        vertical-align: middle;\n",
              "    }\n",
              "\n",
              "    .dataframe tbody tr th {\n",
              "        vertical-align: top;\n",
              "    }\n",
              "\n",
              "    .dataframe thead th {\n",
              "        text-align: right;\n",
              "    }\n",
              "</style>\n",
              "<table border=\"1\" class=\"dataframe\">\n",
              "  <thead>\n",
              "    <tr style=\"text-align: right;\">\n",
              "      <th></th>\n",
              "      <th>Patient-Uid</th>\n",
              "      <th>Date</th>\n",
              "      <th>Incident</th>\n",
              "    </tr>\n",
              "  </thead>\n",
              "  <tbody>\n",
              "    <tr>\n",
              "      <th>0</th>\n",
              "      <td>a0db1e73-1c7c-11ec-ae39-16262ee38c7f</td>\n",
              "      <td>2019-03-09</td>\n",
              "      <td>PRIMARY_DIAGNOSIS</td>\n",
              "    </tr>\n",
              "    <tr>\n",
              "      <th>1</th>\n",
              "      <td>a0dc93f2-1c7c-11ec-9cd2-16262ee38c7f</td>\n",
              "      <td>2015-05-16</td>\n",
              "      <td>PRIMARY_DIAGNOSIS</td>\n",
              "    </tr>\n",
              "    <tr>\n",
              "      <th>3</th>\n",
              "      <td>a0dc94c6-1c7c-11ec-a3a0-16262ee38c7f</td>\n",
              "      <td>2018-01-30</td>\n",
              "      <td>SYMPTOM_TYPE_0</td>\n",
              "    </tr>\n",
              "    <tr>\n",
              "      <th>4</th>\n",
              "      <td>a0dc950b-1c7c-11ec-b6ec-16262ee38c7f</td>\n",
              "      <td>2015-04-22</td>\n",
              "      <td>DRUG_TYPE_0</td>\n",
              "    </tr>\n",
              "    <tr>\n",
              "      <th>8</th>\n",
              "      <td>a0dc9543-1c7c-11ec-bb63-16262ee38c7f</td>\n",
              "      <td>2016-06-18</td>\n",
              "      <td>DRUG_TYPE_1</td>\n",
              "    </tr>\n",
              "    <tr>\n",
              "      <th>...</th>\n",
              "      <td>...</td>\n",
              "      <td>...</td>\n",
              "      <td>...</td>\n",
              "    </tr>\n",
              "    <tr>\n",
              "      <th>29080886</th>\n",
              "      <td>a0ee9f75-1c7c-11ec-94c7-16262ee38c7f</td>\n",
              "      <td>2018-07-06</td>\n",
              "      <td>DRUG_TYPE_6</td>\n",
              "    </tr>\n",
              "    <tr>\n",
              "      <th>29080897</th>\n",
              "      <td>a0ee1284-1c7c-11ec-a3d5-16262ee38c7f</td>\n",
              "      <td>2017-12-29</td>\n",
              "      <td>DRUG_TYPE_6</td>\n",
              "    </tr>\n",
              "    <tr>\n",
              "      <th>29080900</th>\n",
              "      <td>a0ee9b26-1c7c-11ec-8a40-16262ee38c7f</td>\n",
              "      <td>2018-10-18</td>\n",
              "      <td>DRUG_TYPE_10</td>\n",
              "    </tr>\n",
              "    <tr>\n",
              "      <th>29080903</th>\n",
              "      <td>a0ee1a92-1c7c-11ec-8341-16262ee38c7f</td>\n",
              "      <td>2015-09-18</td>\n",
              "      <td>DRUG_TYPE_6</td>\n",
              "    </tr>\n",
              "    <tr>\n",
              "      <th>29080911</th>\n",
              "      <td>a0ee146e-1c7c-11ec-baee-16262ee38c7f</td>\n",
              "      <td>2018-10-05</td>\n",
              "      <td>DRUG_TYPE_1</td>\n",
              "    </tr>\n",
              "  </tbody>\n",
              "</table>\n",
              "<p>3220868 rows × 3 columns</p>\n",
              "</div>\n",
              "      <button class=\"colab-df-convert\" onclick=\"convertToInteractive('df-ef87ac0f-f7ef-4e4e-a456-c53da9e5e6ff')\"\n",
              "              title=\"Convert this dataframe to an interactive table.\"\n",
              "              style=\"display:none;\">\n",
              "        \n",
              "  <svg xmlns=\"http://www.w3.org/2000/svg\" height=\"24px\"viewBox=\"0 0 24 24\"\n",
              "       width=\"24px\">\n",
              "    <path d=\"M0 0h24v24H0V0z\" fill=\"none\"/>\n",
              "    <path d=\"M18.56 5.44l.94 2.06.94-2.06 2.06-.94-2.06-.94-.94-2.06-.94 2.06-2.06.94zm-11 1L8.5 8.5l.94-2.06 2.06-.94-2.06-.94L8.5 2.5l-.94 2.06-2.06.94zm10 10l.94 2.06.94-2.06 2.06-.94-2.06-.94-.94-2.06-.94 2.06-2.06.94z\"/><path d=\"M17.41 7.96l-1.37-1.37c-.4-.4-.92-.59-1.43-.59-.52 0-1.04.2-1.43.59L10.3 9.45l-7.72 7.72c-.78.78-.78 2.05 0 2.83L4 21.41c.39.39.9.59 1.41.59.51 0 1.02-.2 1.41-.59l7.78-7.78 2.81-2.81c.8-.78.8-2.07 0-2.86zM5.41 20L4 18.59l7.72-7.72 1.47 1.35L5.41 20z\"/>\n",
              "  </svg>\n",
              "      </button>\n",
              "      \n",
              "  <style>\n",
              "    .colab-df-container {\n",
              "      display:flex;\n",
              "      flex-wrap:wrap;\n",
              "      gap: 12px;\n",
              "    }\n",
              "\n",
              "    .colab-df-convert {\n",
              "      background-color: #E8F0FE;\n",
              "      border: none;\n",
              "      border-radius: 50%;\n",
              "      cursor: pointer;\n",
              "      display: none;\n",
              "      fill: #1967D2;\n",
              "      height: 32px;\n",
              "      padding: 0 0 0 0;\n",
              "      width: 32px;\n",
              "    }\n",
              "\n",
              "    .colab-df-convert:hover {\n",
              "      background-color: #E2EBFA;\n",
              "      box-shadow: 0px 1px 2px rgba(60, 64, 67, 0.3), 0px 1px 3px 1px rgba(60, 64, 67, 0.15);\n",
              "      fill: #174EA6;\n",
              "    }\n",
              "\n",
              "    [theme=dark] .colab-df-convert {\n",
              "      background-color: #3B4455;\n",
              "      fill: #D2E3FC;\n",
              "    }\n",
              "\n",
              "    [theme=dark] .colab-df-convert:hover {\n",
              "      background-color: #434B5C;\n",
              "      box-shadow: 0px 1px 3px 1px rgba(0, 0, 0, 0.15);\n",
              "      filter: drop-shadow(0px 1px 2px rgba(0, 0, 0, 0.3));\n",
              "      fill: #FFFFFF;\n",
              "    }\n",
              "  </style>\n",
              "\n",
              "      <script>\n",
              "        const buttonEl =\n",
              "          document.querySelector('#df-ef87ac0f-f7ef-4e4e-a456-c53da9e5e6ff button.colab-df-convert');\n",
              "        buttonEl.style.display =\n",
              "          google.colab.kernel.accessAllowed ? 'block' : 'none';\n",
              "\n",
              "        async function convertToInteractive(key) {\n",
              "          const element = document.querySelector('#df-ef87ac0f-f7ef-4e4e-a456-c53da9e5e6ff');\n",
              "          const dataTable =\n",
              "            await google.colab.kernel.invokeFunction('convertToInteractive',\n",
              "                                                     [key], {});\n",
              "          if (!dataTable) return;\n",
              "\n",
              "          const docLinkHtml = 'Like what you see? Visit the ' +\n",
              "            '<a target=\"_blank\" href=https://colab.research.google.com/notebooks/data_table.ipynb>data table notebook</a>'\n",
              "            + ' to learn more about interactive tables.';\n",
              "          element.innerHTML = '';\n",
              "          dataTable['output_type'] = 'display_data';\n",
              "          await google.colab.output.renderOutput(dataTable, element);\n",
              "          const docLink = document.createElement('div');\n",
              "          docLink.innerHTML = docLinkHtml;\n",
              "          element.appendChild(docLink);\n",
              "        }\n",
              "      </script>\n",
              "    </div>\n",
              "  </div>\n",
              "  "
            ]
          },
          "metadata": {},
          "execution_count": 6
        }
      ]
    },
    {
      "cell_type": "code",
      "source": [
        "df.Incident.unique()"
      ],
      "metadata": {
        "colab": {
          "base_uri": "https://localhost:8080/"
        },
        "id": "uw8iPJH6gOt0",
        "outputId": "9bc832fb-e91a-4ca1-d692-5417e2895dd8"
      },
      "execution_count": null,
      "outputs": [
        {
          "output_type": "execute_result",
          "data": {
            "text/plain": [
              "array(['PRIMARY_DIAGNOSIS', 'SYMPTOM_TYPE_0', 'DRUG_TYPE_0',\n",
              "       'DRUG_TYPE_1', 'DRUG_TYPE_2', 'TEST_TYPE_0', 'DRUG_TYPE_3',\n",
              "       'DRUG_TYPE_4', 'DRUG_TYPE_5', 'DRUG_TYPE_6', 'DRUG_TYPE_8',\n",
              "       'DRUG_TYPE_7', 'SYMPTOM_TYPE_1', 'DRUG_TYPE_10', 'SYMPTOM_TYPE_29',\n",
              "       'SYMPTOM_TYPE_2', 'DRUG_TYPE_11', 'DRUG_TYPE_9', 'DRUG_TYPE_13',\n",
              "       'SYMPTOM_TYPE_5', 'TEST_TYPE_1', 'SYMPTOM_TYPE_6', 'TEST_TYPE_2',\n",
              "       'SYMPTOM_TYPE_3', 'SYMPTOM_TYPE_8', 'DRUG_TYPE_14', 'DRUG_TYPE_12',\n",
              "       'SYMPTOM_TYPE_9', 'SYMPTOM_TYPE_10', 'SYMPTOM_TYPE_7',\n",
              "       'SYMPTOM_TYPE_11', 'TEST_TYPE_3', 'DRUG_TYPE_15', 'SYMPTOM_TYPE_4',\n",
              "       'SYMPTOM_TYPE_14', 'SYMPTOM_TYPE_13', 'SYMPTOM_TYPE_16',\n",
              "       'SYMPTOM_TYPE_17', 'SYMPTOM_TYPE_15', 'SYMPTOM_TYPE_18',\n",
              "       'SYMPTOM_TYPE_12', 'SYMPTOM_TYPE_20', 'SYMPTOM_TYPE_21',\n",
              "       'DRUG_TYPE_17', 'SYMPTOM_TYPE_22', 'TEST_TYPE_4',\n",
              "       'SYMPTOM_TYPE_23', 'DRUG_TYPE_16', 'TEST_TYPE_5',\n",
              "       'SYMPTOM_TYPE_19', 'SYMPTOM_TYPE_24', 'SYMPTOM_TYPE_25',\n",
              "       'SYMPTOM_TYPE_26', 'SYMPTOM_TYPE_27', 'DRUG_TYPE_18',\n",
              "       'SYMPTOM_TYPE_28', 'TARGET DRUG'], dtype=object)"
            ]
          },
          "metadata": {},
          "execution_count": 7
        }
      ]
    },
    {
      "cell_type": "code",
      "source": [
        "df['Patient-Uid'].unique"
      ],
      "metadata": {
        "colab": {
          "base_uri": "https://localhost:8080/"
        },
        "id": "7VdtuxPkdZrB",
        "outputId": "4f892062-21f9-47e7-a983-3d0519da9370"
      },
      "execution_count": null,
      "outputs": [
        {
          "output_type": "execute_result",
          "data": {
            "text/plain": [
              "<bound method Series.unique of 0           a0db1e73-1c7c-11ec-ae39-16262ee38c7f\n",
              "1           a0dc93f2-1c7c-11ec-9cd2-16262ee38c7f\n",
              "3           a0dc94c6-1c7c-11ec-a3a0-16262ee38c7f\n",
              "4           a0dc950b-1c7c-11ec-b6ec-16262ee38c7f\n",
              "8           a0dc9543-1c7c-11ec-bb63-16262ee38c7f\n",
              "                            ...                 \n",
              "29080886    a0ee9f75-1c7c-11ec-94c7-16262ee38c7f\n",
              "29080897    a0ee1284-1c7c-11ec-a3d5-16262ee38c7f\n",
              "29080900    a0ee9b26-1c7c-11ec-8a40-16262ee38c7f\n",
              "29080903    a0ee1a92-1c7c-11ec-8341-16262ee38c7f\n",
              "29080911    a0ee146e-1c7c-11ec-baee-16262ee38c7f\n",
              "Name: Patient-Uid, Length: 3220868, dtype: object>"
            ]
          },
          "metadata": {},
          "execution_count": 8
        }
      ]
    },
    {
      "cell_type": "code",
      "source": [
        "df.isnull().sum()"
      ],
      "metadata": {
        "colab": {
          "base_uri": "https://localhost:8080/"
        },
        "id": "d98wQZUAQbCK",
        "outputId": "b9ac2f14-7c73-41e3-e623-f86102aec55c"
      },
      "execution_count": null,
      "outputs": [
        {
          "output_type": "execute_result",
          "data": {
            "text/plain": [
              "Patient-Uid    0\n",
              "Date           0\n",
              "Incident       0\n",
              "dtype: int64"
            ]
          },
          "metadata": {},
          "execution_count": 9
        }
      ]
    },
    {
      "cell_type": "code",
      "source": [
        "df1.isnull().sum()"
      ],
      "metadata": {
        "colab": {
          "base_uri": "https://localhost:8080/"
        },
        "id": "lBA3Qv3cf2oO",
        "outputId": "4f1326da-f2fe-4730-8877-d7b89015a691"
      },
      "execution_count": null,
      "outputs": [
        {
          "output_type": "execute_result",
          "data": {
            "text/plain": [
              "Patient-Uid    0\n",
              "Date           0\n",
              "Incident       0\n",
              "dtype: int64"
            ]
          },
          "metadata": {},
          "execution_count": 10
        }
      ]
    },
    {
      "cell_type": "code",
      "source": [
        "df1.dtypes"
      ],
      "metadata": {
        "colab": {
          "base_uri": "https://localhost:8080/"
        },
        "id": "rg3vfa-3f8ct",
        "outputId": "2677d9bd-3abe-4c74-f274-869a7a4da6c0"
      },
      "execution_count": null,
      "outputs": [
        {
          "output_type": "execute_result",
          "data": {
            "text/plain": [
              "Patient-Uid            object\n",
              "Date           datetime64[ns]\n",
              "Incident               object\n",
              "dtype: object"
            ]
          },
          "metadata": {},
          "execution_count": 11
        }
      ]
    },
    {
      "cell_type": "code",
      "source": [
        "df.dtypes"
      ],
      "metadata": {
        "colab": {
          "base_uri": "https://localhost:8080/"
        },
        "id": "iAh8wIC-3UWy",
        "outputId": "628a09c7-16e8-4fe5-a79e-5bc3f4cc5df8"
      },
      "execution_count": null,
      "outputs": [
        {
          "output_type": "execute_result",
          "data": {
            "text/plain": [
              "Patient-Uid            object\n",
              "Date           datetime64[ns]\n",
              "Incident               object\n",
              "dtype: object"
            ]
          },
          "metadata": {},
          "execution_count": 12
        }
      ]
    },
    {
      "cell_type": "code",
      "source": [
        "df = df.groupby(['Patient-Uid', 'Date']).sum().reset_index().sort_values(by=['Patient-Uid', 'Date'], ascending=True)\n",
        "df"
      ],
      "metadata": {
        "colab": {
          "base_uri": "https://localhost:8080/",
          "height": 424
        },
        "id": "OuHjfXjjzXnN",
        "outputId": "299b03c1-40e1-4970-eb31-7973e679abfe"
      },
      "execution_count": null,
      "outputs": [
        {
          "output_type": "execute_result",
          "data": {
            "text/plain": [
              "                                  Patient-Uid       Date  \\\n",
              "0        a0db1e73-1c7c-11ec-ae39-16262ee38c7f 2015-09-22   \n",
              "1        a0db1e73-1c7c-11ec-ae39-16262ee38c7f 2018-04-13   \n",
              "2        a0db1e73-1c7c-11ec-ae39-16262ee38c7f 2018-05-02   \n",
              "3        a0db1e73-1c7c-11ec-ae39-16262ee38c7f 2018-11-23   \n",
              "4        a0db1e73-1c7c-11ec-ae39-16262ee38c7f 2018-11-24   \n",
              "...                                       ...        ...   \n",
              "2341872  a0f0d582-1c7c-11ec-a6c1-16262ee38c7f 2020-06-19   \n",
              "2341873  a0f0d582-1c7c-11ec-a6c1-16262ee38c7f 2020-07-09   \n",
              "2341874  a0f0d582-1c7c-11ec-a6c1-16262ee38c7f 2020-07-10   \n",
              "2341875  a0f0d582-1c7c-11ec-a6c1-16262ee38c7f 2020-08-05   \n",
              "2341876  a0f0d582-1c7c-11ec-a6c1-16262ee38c7f 2020-08-08   \n",
              "\n",
              "                                                  Incident  \n",
              "0                                              DRUG_TYPE_7  \n",
              "1                                           SYMPTOM_TYPE_2  \n",
              "2                                              DRUG_TYPE_7  \n",
              "3        SYMPTOM_TYPE_0DRUG_TYPE_9DRUG_TYPE_0TEST_TYPE_...  \n",
              "4                                   DRUG_TYPE_7DRUG_TYPE_0  \n",
              "...                                                    ...  \n",
              "2341872                                        DRUG_TYPE_6  \n",
              "2341873                                        TARGET DRUG  \n",
              "2341874                                        DRUG_TYPE_1  \n",
              "2341875                                        TARGET DRUG  \n",
              "2341876                                        DRUG_TYPE_5  \n",
              "\n",
              "[2341877 rows x 3 columns]"
            ],
            "text/html": [
              "\n",
              "  <div id=\"df-33d5b68c-8257-48b9-a340-a83f3f8f1817\">\n",
              "    <div class=\"colab-df-container\">\n",
              "      <div>\n",
              "<style scoped>\n",
              "    .dataframe tbody tr th:only-of-type {\n",
              "        vertical-align: middle;\n",
              "    }\n",
              "\n",
              "    .dataframe tbody tr th {\n",
              "        vertical-align: top;\n",
              "    }\n",
              "\n",
              "    .dataframe thead th {\n",
              "        text-align: right;\n",
              "    }\n",
              "</style>\n",
              "<table border=\"1\" class=\"dataframe\">\n",
              "  <thead>\n",
              "    <tr style=\"text-align: right;\">\n",
              "      <th></th>\n",
              "      <th>Patient-Uid</th>\n",
              "      <th>Date</th>\n",
              "      <th>Incident</th>\n",
              "    </tr>\n",
              "  </thead>\n",
              "  <tbody>\n",
              "    <tr>\n",
              "      <th>0</th>\n",
              "      <td>a0db1e73-1c7c-11ec-ae39-16262ee38c7f</td>\n",
              "      <td>2015-09-22</td>\n",
              "      <td>DRUG_TYPE_7</td>\n",
              "    </tr>\n",
              "    <tr>\n",
              "      <th>1</th>\n",
              "      <td>a0db1e73-1c7c-11ec-ae39-16262ee38c7f</td>\n",
              "      <td>2018-04-13</td>\n",
              "      <td>SYMPTOM_TYPE_2</td>\n",
              "    </tr>\n",
              "    <tr>\n",
              "      <th>2</th>\n",
              "      <td>a0db1e73-1c7c-11ec-ae39-16262ee38c7f</td>\n",
              "      <td>2018-05-02</td>\n",
              "      <td>DRUG_TYPE_7</td>\n",
              "    </tr>\n",
              "    <tr>\n",
              "      <th>3</th>\n",
              "      <td>a0db1e73-1c7c-11ec-ae39-16262ee38c7f</td>\n",
              "      <td>2018-11-23</td>\n",
              "      <td>SYMPTOM_TYPE_0DRUG_TYPE_9DRUG_TYPE_0TEST_TYPE_...</td>\n",
              "    </tr>\n",
              "    <tr>\n",
              "      <th>4</th>\n",
              "      <td>a0db1e73-1c7c-11ec-ae39-16262ee38c7f</td>\n",
              "      <td>2018-11-24</td>\n",
              "      <td>DRUG_TYPE_7DRUG_TYPE_0</td>\n",
              "    </tr>\n",
              "    <tr>\n",
              "      <th>...</th>\n",
              "      <td>...</td>\n",
              "      <td>...</td>\n",
              "      <td>...</td>\n",
              "    </tr>\n",
              "    <tr>\n",
              "      <th>2341872</th>\n",
              "      <td>a0f0d582-1c7c-11ec-a6c1-16262ee38c7f</td>\n",
              "      <td>2020-06-19</td>\n",
              "      <td>DRUG_TYPE_6</td>\n",
              "    </tr>\n",
              "    <tr>\n",
              "      <th>2341873</th>\n",
              "      <td>a0f0d582-1c7c-11ec-a6c1-16262ee38c7f</td>\n",
              "      <td>2020-07-09</td>\n",
              "      <td>TARGET DRUG</td>\n",
              "    </tr>\n",
              "    <tr>\n",
              "      <th>2341874</th>\n",
              "      <td>a0f0d582-1c7c-11ec-a6c1-16262ee38c7f</td>\n",
              "      <td>2020-07-10</td>\n",
              "      <td>DRUG_TYPE_1</td>\n",
              "    </tr>\n",
              "    <tr>\n",
              "      <th>2341875</th>\n",
              "      <td>a0f0d582-1c7c-11ec-a6c1-16262ee38c7f</td>\n",
              "      <td>2020-08-05</td>\n",
              "      <td>TARGET DRUG</td>\n",
              "    </tr>\n",
              "    <tr>\n",
              "      <th>2341876</th>\n",
              "      <td>a0f0d582-1c7c-11ec-a6c1-16262ee38c7f</td>\n",
              "      <td>2020-08-08</td>\n",
              "      <td>DRUG_TYPE_5</td>\n",
              "    </tr>\n",
              "  </tbody>\n",
              "</table>\n",
              "<p>2341877 rows × 3 columns</p>\n",
              "</div>\n",
              "      <button class=\"colab-df-convert\" onclick=\"convertToInteractive('df-33d5b68c-8257-48b9-a340-a83f3f8f1817')\"\n",
              "              title=\"Convert this dataframe to an interactive table.\"\n",
              "              style=\"display:none;\">\n",
              "        \n",
              "  <svg xmlns=\"http://www.w3.org/2000/svg\" height=\"24px\"viewBox=\"0 0 24 24\"\n",
              "       width=\"24px\">\n",
              "    <path d=\"M0 0h24v24H0V0z\" fill=\"none\"/>\n",
              "    <path d=\"M18.56 5.44l.94 2.06.94-2.06 2.06-.94-2.06-.94-.94-2.06-.94 2.06-2.06.94zm-11 1L8.5 8.5l.94-2.06 2.06-.94-2.06-.94L8.5 2.5l-.94 2.06-2.06.94zm10 10l.94 2.06.94-2.06 2.06-.94-2.06-.94-.94-2.06-.94 2.06-2.06.94z\"/><path d=\"M17.41 7.96l-1.37-1.37c-.4-.4-.92-.59-1.43-.59-.52 0-1.04.2-1.43.59L10.3 9.45l-7.72 7.72c-.78.78-.78 2.05 0 2.83L4 21.41c.39.39.9.59 1.41.59.51 0 1.02-.2 1.41-.59l7.78-7.78 2.81-2.81c.8-.78.8-2.07 0-2.86zM5.41 20L4 18.59l7.72-7.72 1.47 1.35L5.41 20z\"/>\n",
              "  </svg>\n",
              "      </button>\n",
              "      \n",
              "  <style>\n",
              "    .colab-df-container {\n",
              "      display:flex;\n",
              "      flex-wrap:wrap;\n",
              "      gap: 12px;\n",
              "    }\n",
              "\n",
              "    .colab-df-convert {\n",
              "      background-color: #E8F0FE;\n",
              "      border: none;\n",
              "      border-radius: 50%;\n",
              "      cursor: pointer;\n",
              "      display: none;\n",
              "      fill: #1967D2;\n",
              "      height: 32px;\n",
              "      padding: 0 0 0 0;\n",
              "      width: 32px;\n",
              "    }\n",
              "\n",
              "    .colab-df-convert:hover {\n",
              "      background-color: #E2EBFA;\n",
              "      box-shadow: 0px 1px 2px rgba(60, 64, 67, 0.3), 0px 1px 3px 1px rgba(60, 64, 67, 0.15);\n",
              "      fill: #174EA6;\n",
              "    }\n",
              "\n",
              "    [theme=dark] .colab-df-convert {\n",
              "      background-color: #3B4455;\n",
              "      fill: #D2E3FC;\n",
              "    }\n",
              "\n",
              "    [theme=dark] .colab-df-convert:hover {\n",
              "      background-color: #434B5C;\n",
              "      box-shadow: 0px 1px 3px 1px rgba(0, 0, 0, 0.15);\n",
              "      filter: drop-shadow(0px 1px 2px rgba(0, 0, 0, 0.3));\n",
              "      fill: #FFFFFF;\n",
              "    }\n",
              "  </style>\n",
              "\n",
              "      <script>\n",
              "        const buttonEl =\n",
              "          document.querySelector('#df-33d5b68c-8257-48b9-a340-a83f3f8f1817 button.colab-df-convert');\n",
              "        buttonEl.style.display =\n",
              "          google.colab.kernel.accessAllowed ? 'block' : 'none';\n",
              "\n",
              "        async function convertToInteractive(key) {\n",
              "          const element = document.querySelector('#df-33d5b68c-8257-48b9-a340-a83f3f8f1817');\n",
              "          const dataTable =\n",
              "            await google.colab.kernel.invokeFunction('convertToInteractive',\n",
              "                                                     [key], {});\n",
              "          if (!dataTable) return;\n",
              "\n",
              "          const docLinkHtml = 'Like what you see? Visit the ' +\n",
              "            '<a target=\"_blank\" href=https://colab.research.google.com/notebooks/data_table.ipynb>data table notebook</a>'\n",
              "            + ' to learn more about interactive tables.';\n",
              "          element.innerHTML = '';\n",
              "          dataTable['output_type'] = 'display_data';\n",
              "          await google.colab.output.renderOutput(dataTable, element);\n",
              "          const docLink = document.createElement('div');\n",
              "          docLink.innerHTML = docLinkHtml;\n",
              "          element.appendChild(docLink);\n",
              "        }\n",
              "      </script>\n",
              "    </div>\n",
              "  </div>\n",
              "  "
            ]
          },
          "metadata": {},
          "execution_count": 13
        }
      ]
    },
    {
      "cell_type": "code",
      "source": [
        "df1 = df1.groupby(['Patient-Uid', 'Date']).sum().reset_index().sort_values(by=['Patient-Uid', 'Date'], ascending=True)\n",
        "df1"
      ],
      "metadata": {
        "colab": {
          "base_uri": "https://localhost:8080/",
          "height": 424
        },
        "id": "glVoL6fIgFzH",
        "outputId": "b3402f7e-f73b-4ac1-d070-7649ab9e30bb"
      },
      "execution_count": null,
      "outputs": [
        {
          "output_type": "execute_result",
          "data": {
            "text/plain": [
              "                                 Patient-Uid       Date  \\\n",
              "0       a0f9e8a9-1c7c-11ec-8d25-16262ee38c7f 2016-06-23   \n",
              "1       a0f9e8a9-1c7c-11ec-8d25-16262ee38c7f 2016-12-08   \n",
              "2       a0f9e8a9-1c7c-11ec-8d25-16262ee38c7f 2016-12-22   \n",
              "3       a0f9e8a9-1c7c-11ec-8d25-16262ee38c7f 2017-03-16   \n",
              "4       a0f9e8a9-1c7c-11ec-8d25-16262ee38c7f 2017-09-12   \n",
              "...                                      ...        ...   \n",
              "779980  a10272c9-1c7c-11ec-b3ce-16262ee38c7f 2018-11-03   \n",
              "779981  a10272c9-1c7c-11ec-b3ce-16262ee38c7f 2018-11-07   \n",
              "779982  a10272c9-1c7c-11ec-b3ce-16262ee38c7f 2019-01-09   \n",
              "779983  a10272c9-1c7c-11ec-b3ce-16262ee38c7f 2019-02-05   \n",
              "779984  a10272c9-1c7c-11ec-b3ce-16262ee38c7f 2019-03-06   \n",
              "\n",
              "                                                 Incident  \n",
              "0                                             DRUG_TYPE_7  \n",
              "1       SYMPTOM_TYPE_0TEST_TYPE_0DRUG_TYPE_0PRIMARY_DI...  \n",
              "2                      PRIMARY_DIAGNOSISPRIMARY_DIAGNOSIS  \n",
              "3                                          SYMPTOM_TYPE_6  \n",
              "4                      PRIMARY_DIAGNOSISPRIMARY_DIAGNOSIS  \n",
              "...                                                   ...  \n",
              "779980                                        DRUG_TYPE_7  \n",
              "779981                 DRUG_TYPE_8DRUG_TYPE_8DRUG_TYPE_13  \n",
              "779982      DRUG_TYPE_8DRUG_TYPE_13DRUG_TYPE_2DRUG_TYPE_7  \n",
              "779983                            DRUG_TYPE_13DRUG_TYPE_8  \n",
              "779984  DRUG_TYPE_13DRUG_TYPE_0DRUG_TYPE_8DRUG_TYPE_2D...  \n",
              "\n",
              "[779985 rows x 3 columns]"
            ],
            "text/html": [
              "\n",
              "  <div id=\"df-7e2fe4ad-7367-4611-8797-63c601cdcef8\">\n",
              "    <div class=\"colab-df-container\">\n",
              "      <div>\n",
              "<style scoped>\n",
              "    .dataframe tbody tr th:only-of-type {\n",
              "        vertical-align: middle;\n",
              "    }\n",
              "\n",
              "    .dataframe tbody tr th {\n",
              "        vertical-align: top;\n",
              "    }\n",
              "\n",
              "    .dataframe thead th {\n",
              "        text-align: right;\n",
              "    }\n",
              "</style>\n",
              "<table border=\"1\" class=\"dataframe\">\n",
              "  <thead>\n",
              "    <tr style=\"text-align: right;\">\n",
              "      <th></th>\n",
              "      <th>Patient-Uid</th>\n",
              "      <th>Date</th>\n",
              "      <th>Incident</th>\n",
              "    </tr>\n",
              "  </thead>\n",
              "  <tbody>\n",
              "    <tr>\n",
              "      <th>0</th>\n",
              "      <td>a0f9e8a9-1c7c-11ec-8d25-16262ee38c7f</td>\n",
              "      <td>2016-06-23</td>\n",
              "      <td>DRUG_TYPE_7</td>\n",
              "    </tr>\n",
              "    <tr>\n",
              "      <th>1</th>\n",
              "      <td>a0f9e8a9-1c7c-11ec-8d25-16262ee38c7f</td>\n",
              "      <td>2016-12-08</td>\n",
              "      <td>SYMPTOM_TYPE_0TEST_TYPE_0DRUG_TYPE_0PRIMARY_DI...</td>\n",
              "    </tr>\n",
              "    <tr>\n",
              "      <th>2</th>\n",
              "      <td>a0f9e8a9-1c7c-11ec-8d25-16262ee38c7f</td>\n",
              "      <td>2016-12-22</td>\n",
              "      <td>PRIMARY_DIAGNOSISPRIMARY_DIAGNOSIS</td>\n",
              "    </tr>\n",
              "    <tr>\n",
              "      <th>3</th>\n",
              "      <td>a0f9e8a9-1c7c-11ec-8d25-16262ee38c7f</td>\n",
              "      <td>2017-03-16</td>\n",
              "      <td>SYMPTOM_TYPE_6</td>\n",
              "    </tr>\n",
              "    <tr>\n",
              "      <th>4</th>\n",
              "      <td>a0f9e8a9-1c7c-11ec-8d25-16262ee38c7f</td>\n",
              "      <td>2017-09-12</td>\n",
              "      <td>PRIMARY_DIAGNOSISPRIMARY_DIAGNOSIS</td>\n",
              "    </tr>\n",
              "    <tr>\n",
              "      <th>...</th>\n",
              "      <td>...</td>\n",
              "      <td>...</td>\n",
              "      <td>...</td>\n",
              "    </tr>\n",
              "    <tr>\n",
              "      <th>779980</th>\n",
              "      <td>a10272c9-1c7c-11ec-b3ce-16262ee38c7f</td>\n",
              "      <td>2018-11-03</td>\n",
              "      <td>DRUG_TYPE_7</td>\n",
              "    </tr>\n",
              "    <tr>\n",
              "      <th>779981</th>\n",
              "      <td>a10272c9-1c7c-11ec-b3ce-16262ee38c7f</td>\n",
              "      <td>2018-11-07</td>\n",
              "      <td>DRUG_TYPE_8DRUG_TYPE_8DRUG_TYPE_13</td>\n",
              "    </tr>\n",
              "    <tr>\n",
              "      <th>779982</th>\n",
              "      <td>a10272c9-1c7c-11ec-b3ce-16262ee38c7f</td>\n",
              "      <td>2019-01-09</td>\n",
              "      <td>DRUG_TYPE_8DRUG_TYPE_13DRUG_TYPE_2DRUG_TYPE_7</td>\n",
              "    </tr>\n",
              "    <tr>\n",
              "      <th>779983</th>\n",
              "      <td>a10272c9-1c7c-11ec-b3ce-16262ee38c7f</td>\n",
              "      <td>2019-02-05</td>\n",
              "      <td>DRUG_TYPE_13DRUG_TYPE_8</td>\n",
              "    </tr>\n",
              "    <tr>\n",
              "      <th>779984</th>\n",
              "      <td>a10272c9-1c7c-11ec-b3ce-16262ee38c7f</td>\n",
              "      <td>2019-03-06</td>\n",
              "      <td>DRUG_TYPE_13DRUG_TYPE_0DRUG_TYPE_8DRUG_TYPE_2D...</td>\n",
              "    </tr>\n",
              "  </tbody>\n",
              "</table>\n",
              "<p>779985 rows × 3 columns</p>\n",
              "</div>\n",
              "      <button class=\"colab-df-convert\" onclick=\"convertToInteractive('df-7e2fe4ad-7367-4611-8797-63c601cdcef8')\"\n",
              "              title=\"Convert this dataframe to an interactive table.\"\n",
              "              style=\"display:none;\">\n",
              "        \n",
              "  <svg xmlns=\"http://www.w3.org/2000/svg\" height=\"24px\"viewBox=\"0 0 24 24\"\n",
              "       width=\"24px\">\n",
              "    <path d=\"M0 0h24v24H0V0z\" fill=\"none\"/>\n",
              "    <path d=\"M18.56 5.44l.94 2.06.94-2.06 2.06-.94-2.06-.94-.94-2.06-.94 2.06-2.06.94zm-11 1L8.5 8.5l.94-2.06 2.06-.94-2.06-.94L8.5 2.5l-.94 2.06-2.06.94zm10 10l.94 2.06.94-2.06 2.06-.94-2.06-.94-.94-2.06-.94 2.06-2.06.94z\"/><path d=\"M17.41 7.96l-1.37-1.37c-.4-.4-.92-.59-1.43-.59-.52 0-1.04.2-1.43.59L10.3 9.45l-7.72 7.72c-.78.78-.78 2.05 0 2.83L4 21.41c.39.39.9.59 1.41.59.51 0 1.02-.2 1.41-.59l7.78-7.78 2.81-2.81c.8-.78.8-2.07 0-2.86zM5.41 20L4 18.59l7.72-7.72 1.47 1.35L5.41 20z\"/>\n",
              "  </svg>\n",
              "      </button>\n",
              "      \n",
              "  <style>\n",
              "    .colab-df-container {\n",
              "      display:flex;\n",
              "      flex-wrap:wrap;\n",
              "      gap: 12px;\n",
              "    }\n",
              "\n",
              "    .colab-df-convert {\n",
              "      background-color: #E8F0FE;\n",
              "      border: none;\n",
              "      border-radius: 50%;\n",
              "      cursor: pointer;\n",
              "      display: none;\n",
              "      fill: #1967D2;\n",
              "      height: 32px;\n",
              "      padding: 0 0 0 0;\n",
              "      width: 32px;\n",
              "    }\n",
              "\n",
              "    .colab-df-convert:hover {\n",
              "      background-color: #E2EBFA;\n",
              "      box-shadow: 0px 1px 2px rgba(60, 64, 67, 0.3), 0px 1px 3px 1px rgba(60, 64, 67, 0.15);\n",
              "      fill: #174EA6;\n",
              "    }\n",
              "\n",
              "    [theme=dark] .colab-df-convert {\n",
              "      background-color: #3B4455;\n",
              "      fill: #D2E3FC;\n",
              "    }\n",
              "\n",
              "    [theme=dark] .colab-df-convert:hover {\n",
              "      background-color: #434B5C;\n",
              "      box-shadow: 0px 1px 3px 1px rgba(0, 0, 0, 0.15);\n",
              "      filter: drop-shadow(0px 1px 2px rgba(0, 0, 0, 0.3));\n",
              "      fill: #FFFFFF;\n",
              "    }\n",
              "  </style>\n",
              "\n",
              "      <script>\n",
              "        const buttonEl =\n",
              "          document.querySelector('#df-7e2fe4ad-7367-4611-8797-63c601cdcef8 button.colab-df-convert');\n",
              "        buttonEl.style.display =\n",
              "          google.colab.kernel.accessAllowed ? 'block' : 'none';\n",
              "\n",
              "        async function convertToInteractive(key) {\n",
              "          const element = document.querySelector('#df-7e2fe4ad-7367-4611-8797-63c601cdcef8');\n",
              "          const dataTable =\n",
              "            await google.colab.kernel.invokeFunction('convertToInteractive',\n",
              "                                                     [key], {});\n",
              "          if (!dataTable) return;\n",
              "\n",
              "          const docLinkHtml = 'Like what you see? Visit the ' +\n",
              "            '<a target=\"_blank\" href=https://colab.research.google.com/notebooks/data_table.ipynb>data table notebook</a>'\n",
              "            + ' to learn more about interactive tables.';\n",
              "          element.innerHTML = '';\n",
              "          dataTable['output_type'] = 'display_data';\n",
              "          await google.colab.output.renderOutput(dataTable, element);\n",
              "          const docLink = document.createElement('div');\n",
              "          docLink.innerHTML = docLinkHtml;\n",
              "          element.appendChild(docLink);\n",
              "        }\n",
              "      </script>\n",
              "    </div>\n",
              "  </div>\n",
              "  "
            ]
          },
          "metadata": {},
          "execution_count": 14
        }
      ]
    },
    {
      "cell_type": "code",
      "source": [
        "df1.Incident.unique()"
      ],
      "metadata": {
        "colab": {
          "base_uri": "https://localhost:8080/"
        },
        "id": "Nuf650dwq7QE",
        "outputId": "39d2a94d-ce29-4ca9-d30d-d345c594933a"
      },
      "execution_count": null,
      "outputs": [
        {
          "output_type": "execute_result",
          "data": {
            "text/plain": [
              "array(['DRUG_TYPE_7',\n",
              "       'SYMPTOM_TYPE_0TEST_TYPE_0DRUG_TYPE_0PRIMARY_DIAGNOSISDRUG_TYPE_11SYMPTOM_TYPE_6DRUG_TYPE_2',\n",
              "       'PRIMARY_DIAGNOSISPRIMARY_DIAGNOSIS', ...,\n",
              "       'DRUG_TYPE_8DRUG_TYPE_7DRUG_TYPE_5',\n",
              "       'DRUG_TYPE_8DRUG_TYPE_13DRUG_TYPE_2DRUG_TYPE_7',\n",
              "       'DRUG_TYPE_13DRUG_TYPE_0DRUG_TYPE_8DRUG_TYPE_2DRUG_TYPE_8'],\n",
              "      dtype=object)"
            ]
          },
          "metadata": {},
          "execution_count": 26
        }
      ]
    },
    {
      "cell_type": "code",
      "source": [
        "df_target = df[['Patient-Uid', 'Date', 'Incident']]\n",
        "\n",
        "#filter only rows where the incident is 'TARGET DRUG'\n",
        "df_target = df_target[df_target['Incident'] == 'TARGET DRUG']\n",
        "\n",
        "#create a new column with the difference between the date and the first prescription date\n",
        "df_target['days_since_first_prescription'] = (df_target.groupby('Patient-Uid')['Date'].transform(min) - df_target['Date']).dt.days\n",
        "\n",
        "#filter only rows where the difference is less than or equal to 30\n",
        "df_target = df_target[df_target['days_since_first_prescription'] <= 30]\n",
        "\n",
        "#drop the irrelevant columns\n",
        "df_target.drop(['Incident', 'days_since_first_prescription'], axis=1, inplace=True)\n",
        "\n",
        "#drop duplicate patient-uids\n",
        "df_target.drop_duplicates(subset=['Patient-Uid'], keep='first', inplace=True)\n",
        "\n",
        "#rename the dataframe\n",
        "patient_id = df_target.rename(columns={'Patient-Uid': 'patient_id'})"
      ],
      "metadata": {
        "id": "W7KY1ogHTbKg"
      },
      "execution_count": null,
      "outputs": []
    },
    {
      "cell_type": "code",
      "source": [
        "patient_id"
      ],
      "metadata": {
        "colab": {
          "base_uri": "https://localhost:8080/",
          "height": 424
        },
        "id": "hy0lEwUMFiSk",
        "outputId": "fb3e9381-5ecf-4223-b22f-12600c50e557"
      },
      "execution_count": null,
      "outputs": [
        {
          "output_type": "execute_result",
          "data": {
            "text/plain": [
              "                                   patient_id       Date\n",
              "1318679  a0e9c3e3-1c7c-11ec-a8b9-16262ee38c7f 2019-12-12\n",
              "1318895  a0e9c443-1c7c-11ec-9eb0-16262ee38c7f 2019-09-10\n",
              "1319073  a0e9c4a3-1c7c-11ec-aa86-16262ee38c7f 2020-03-10\n",
              "1319234  a0e9c4d2-1c7c-11ec-8183-16262ee38c7f 2019-02-21\n",
              "1319658  a0e9c561-1c7c-11ec-ac1a-16262ee38c7f 2019-05-10\n",
              "...                                       ...        ...\n",
              "2340970  a0f0d3ab-1c7c-11ec-8e8b-16262ee38c7f 2019-09-03\n",
              "2341386  a0f0d496-1c7c-11ec-ab26-16262ee38c7f 2018-07-18\n",
              "2341523  a0f0d4c5-1c7c-11ec-bfec-16262ee38c7f 2020-06-16\n",
              "2341696  a0f0d523-1c7c-11ec-89d2-16262ee38c7f 2020-06-17\n",
              "2341871  a0f0d582-1c7c-11ec-a6c1-16262ee38c7f 2020-06-18\n",
              "\n",
              "[3544 rows x 2 columns]"
            ],
            "text/html": [
              "\n",
              "  <div id=\"df-776840e2-0d46-4d73-8d71-6005c1b072b2\">\n",
              "    <div class=\"colab-df-container\">\n",
              "      <div>\n",
              "<style scoped>\n",
              "    .dataframe tbody tr th:only-of-type {\n",
              "        vertical-align: middle;\n",
              "    }\n",
              "\n",
              "    .dataframe tbody tr th {\n",
              "        vertical-align: top;\n",
              "    }\n",
              "\n",
              "    .dataframe thead th {\n",
              "        text-align: right;\n",
              "    }\n",
              "</style>\n",
              "<table border=\"1\" class=\"dataframe\">\n",
              "  <thead>\n",
              "    <tr style=\"text-align: right;\">\n",
              "      <th></th>\n",
              "      <th>patient_id</th>\n",
              "      <th>Date</th>\n",
              "    </tr>\n",
              "  </thead>\n",
              "  <tbody>\n",
              "    <tr>\n",
              "      <th>1318679</th>\n",
              "      <td>a0e9c3e3-1c7c-11ec-a8b9-16262ee38c7f</td>\n",
              "      <td>2019-12-12</td>\n",
              "    </tr>\n",
              "    <tr>\n",
              "      <th>1318895</th>\n",
              "      <td>a0e9c443-1c7c-11ec-9eb0-16262ee38c7f</td>\n",
              "      <td>2019-09-10</td>\n",
              "    </tr>\n",
              "    <tr>\n",
              "      <th>1319073</th>\n",
              "      <td>a0e9c4a3-1c7c-11ec-aa86-16262ee38c7f</td>\n",
              "      <td>2020-03-10</td>\n",
              "    </tr>\n",
              "    <tr>\n",
              "      <th>1319234</th>\n",
              "      <td>a0e9c4d2-1c7c-11ec-8183-16262ee38c7f</td>\n",
              "      <td>2019-02-21</td>\n",
              "    </tr>\n",
              "    <tr>\n",
              "      <th>1319658</th>\n",
              "      <td>a0e9c561-1c7c-11ec-ac1a-16262ee38c7f</td>\n",
              "      <td>2019-05-10</td>\n",
              "    </tr>\n",
              "    <tr>\n",
              "      <th>...</th>\n",
              "      <td>...</td>\n",
              "      <td>...</td>\n",
              "    </tr>\n",
              "    <tr>\n",
              "      <th>2340970</th>\n",
              "      <td>a0f0d3ab-1c7c-11ec-8e8b-16262ee38c7f</td>\n",
              "      <td>2019-09-03</td>\n",
              "    </tr>\n",
              "    <tr>\n",
              "      <th>2341386</th>\n",
              "      <td>a0f0d496-1c7c-11ec-ab26-16262ee38c7f</td>\n",
              "      <td>2018-07-18</td>\n",
              "    </tr>\n",
              "    <tr>\n",
              "      <th>2341523</th>\n",
              "      <td>a0f0d4c5-1c7c-11ec-bfec-16262ee38c7f</td>\n",
              "      <td>2020-06-16</td>\n",
              "    </tr>\n",
              "    <tr>\n",
              "      <th>2341696</th>\n",
              "      <td>a0f0d523-1c7c-11ec-89d2-16262ee38c7f</td>\n",
              "      <td>2020-06-17</td>\n",
              "    </tr>\n",
              "    <tr>\n",
              "      <th>2341871</th>\n",
              "      <td>a0f0d582-1c7c-11ec-a6c1-16262ee38c7f</td>\n",
              "      <td>2020-06-18</td>\n",
              "    </tr>\n",
              "  </tbody>\n",
              "</table>\n",
              "<p>3544 rows × 2 columns</p>\n",
              "</div>\n",
              "      <button class=\"colab-df-convert\" onclick=\"convertToInteractive('df-776840e2-0d46-4d73-8d71-6005c1b072b2')\"\n",
              "              title=\"Convert this dataframe to an interactive table.\"\n",
              "              style=\"display:none;\">\n",
              "        \n",
              "  <svg xmlns=\"http://www.w3.org/2000/svg\" height=\"24px\"viewBox=\"0 0 24 24\"\n",
              "       width=\"24px\">\n",
              "    <path d=\"M0 0h24v24H0V0z\" fill=\"none\"/>\n",
              "    <path d=\"M18.56 5.44l.94 2.06.94-2.06 2.06-.94-2.06-.94-.94-2.06-.94 2.06-2.06.94zm-11 1L8.5 8.5l.94-2.06 2.06-.94-2.06-.94L8.5 2.5l-.94 2.06-2.06.94zm10 10l.94 2.06.94-2.06 2.06-.94-2.06-.94-.94-2.06-.94 2.06-2.06.94z\"/><path d=\"M17.41 7.96l-1.37-1.37c-.4-.4-.92-.59-1.43-.59-.52 0-1.04.2-1.43.59L10.3 9.45l-7.72 7.72c-.78.78-.78 2.05 0 2.83L4 21.41c.39.39.9.59 1.41.59.51 0 1.02-.2 1.41-.59l7.78-7.78 2.81-2.81c.8-.78.8-2.07 0-2.86zM5.41 20L4 18.59l7.72-7.72 1.47 1.35L5.41 20z\"/>\n",
              "  </svg>\n",
              "      </button>\n",
              "      \n",
              "  <style>\n",
              "    .colab-df-container {\n",
              "      display:flex;\n",
              "      flex-wrap:wrap;\n",
              "      gap: 12px;\n",
              "    }\n",
              "\n",
              "    .colab-df-convert {\n",
              "      background-color: #E8F0FE;\n",
              "      border: none;\n",
              "      border-radius: 50%;\n",
              "      cursor: pointer;\n",
              "      display: none;\n",
              "      fill: #1967D2;\n",
              "      height: 32px;\n",
              "      padding: 0 0 0 0;\n",
              "      width: 32px;\n",
              "    }\n",
              "\n",
              "    .colab-df-convert:hover {\n",
              "      background-color: #E2EBFA;\n",
              "      box-shadow: 0px 1px 2px rgba(60, 64, 67, 0.3), 0px 1px 3px 1px rgba(60, 64, 67, 0.15);\n",
              "      fill: #174EA6;\n",
              "    }\n",
              "\n",
              "    [theme=dark] .colab-df-convert {\n",
              "      background-color: #3B4455;\n",
              "      fill: #D2E3FC;\n",
              "    }\n",
              "\n",
              "    [theme=dark] .colab-df-convert:hover {\n",
              "      background-color: #434B5C;\n",
              "      box-shadow: 0px 1px 3px 1px rgba(0, 0, 0, 0.15);\n",
              "      filter: drop-shadow(0px 1px 2px rgba(0, 0, 0, 0.3));\n",
              "      fill: #FFFFFF;\n",
              "    }\n",
              "  </style>\n",
              "\n",
              "      <script>\n",
              "        const buttonEl =\n",
              "          document.querySelector('#df-776840e2-0d46-4d73-8d71-6005c1b072b2 button.colab-df-convert');\n",
              "        buttonEl.style.display =\n",
              "          google.colab.kernel.accessAllowed ? 'block' : 'none';\n",
              "\n",
              "        async function convertToInteractive(key) {\n",
              "          const element = document.querySelector('#df-776840e2-0d46-4d73-8d71-6005c1b072b2');\n",
              "          const dataTable =\n",
              "            await google.colab.kernel.invokeFunction('convertToInteractive',\n",
              "                                                     [key], {});\n",
              "          if (!dataTable) return;\n",
              "\n",
              "          const docLinkHtml = 'Like what you see? Visit the ' +\n",
              "            '<a target=\"_blank\" href=https://colab.research.google.com/notebooks/data_table.ipynb>data table notebook</a>'\n",
              "            + ' to learn more about interactive tables.';\n",
              "          element.innerHTML = '';\n",
              "          dataTable['output_type'] = 'display_data';\n",
              "          await google.colab.output.renderOutput(dataTable, element);\n",
              "          const docLink = document.createElement('div');\n",
              "          docLink.innerHTML = docLinkHtml;\n",
              "          element.appendChild(docLink);\n",
              "        }\n",
              "      </script>\n",
              "    </div>\n",
              "  </div>\n",
              "  "
            ]
          },
          "metadata": {},
          "execution_count": 11
        }
      ]
    },
    {
      "cell_type": "code",
      "source": [
        "patient_ids = df['Patient-Uid'].unique()\n",
        "patient_ids_df = pd.DataFrame(patient_ids, columns=['Patient-Uid'])"
      ],
      "metadata": {
        "id": "Q_1iJUjHA-A3"
      },
      "execution_count": null,
      "outputs": []
    },
    {
      "cell_type": "code",
      "source": [
        "patient_ids_df"
      ],
      "metadata": {
        "colab": {
          "base_uri": "https://localhost:8080/",
          "height": 424
        },
        "id": "3P9oPmOtBP2E",
        "outputId": "23df5461-d7ac-41c4-b72a-c7d299fd41bc"
      },
      "execution_count": null,
      "outputs": [
        {
          "output_type": "execute_result",
          "data": {
            "text/plain": [
              "                                Patient-Uid\n",
              "0      a0db1e73-1c7c-11ec-ae39-16262ee38c7f\n",
              "1      a0dc93f2-1c7c-11ec-9cd2-16262ee38c7f\n",
              "2      a0dc94c6-1c7c-11ec-a3a0-16262ee38c7f\n",
              "3      a0dc950b-1c7c-11ec-b6ec-16262ee38c7f\n",
              "4      a0dc9543-1c7c-11ec-bb63-16262ee38c7f\n",
              "...                                     ...\n",
              "27028  a0f0d4c5-1c7c-11ec-bfec-16262ee38c7f\n",
              "27029  a0f0d4f4-1c7c-11ec-b144-16262ee38c7f\n",
              "27030  a0f0d523-1c7c-11ec-89d2-16262ee38c7f\n",
              "27031  a0f0d553-1c7c-11ec-a70a-16262ee38c7f\n",
              "27032  a0f0d582-1c7c-11ec-a6c1-16262ee38c7f\n",
              "\n",
              "[27033 rows x 1 columns]"
            ],
            "text/html": [
              "\n",
              "  <div id=\"df-a8d001ec-3423-4b10-a562-c05985f0611c\">\n",
              "    <div class=\"colab-df-container\">\n",
              "      <div>\n",
              "<style scoped>\n",
              "    .dataframe tbody tr th:only-of-type {\n",
              "        vertical-align: middle;\n",
              "    }\n",
              "\n",
              "    .dataframe tbody tr th {\n",
              "        vertical-align: top;\n",
              "    }\n",
              "\n",
              "    .dataframe thead th {\n",
              "        text-align: right;\n",
              "    }\n",
              "</style>\n",
              "<table border=\"1\" class=\"dataframe\">\n",
              "  <thead>\n",
              "    <tr style=\"text-align: right;\">\n",
              "      <th></th>\n",
              "      <th>Patient-Uid</th>\n",
              "    </tr>\n",
              "  </thead>\n",
              "  <tbody>\n",
              "    <tr>\n",
              "      <th>0</th>\n",
              "      <td>a0db1e73-1c7c-11ec-ae39-16262ee38c7f</td>\n",
              "    </tr>\n",
              "    <tr>\n",
              "      <th>1</th>\n",
              "      <td>a0dc93f2-1c7c-11ec-9cd2-16262ee38c7f</td>\n",
              "    </tr>\n",
              "    <tr>\n",
              "      <th>2</th>\n",
              "      <td>a0dc94c6-1c7c-11ec-a3a0-16262ee38c7f</td>\n",
              "    </tr>\n",
              "    <tr>\n",
              "      <th>3</th>\n",
              "      <td>a0dc950b-1c7c-11ec-b6ec-16262ee38c7f</td>\n",
              "    </tr>\n",
              "    <tr>\n",
              "      <th>4</th>\n",
              "      <td>a0dc9543-1c7c-11ec-bb63-16262ee38c7f</td>\n",
              "    </tr>\n",
              "    <tr>\n",
              "      <th>...</th>\n",
              "      <td>...</td>\n",
              "    </tr>\n",
              "    <tr>\n",
              "      <th>27028</th>\n",
              "      <td>a0f0d4c5-1c7c-11ec-bfec-16262ee38c7f</td>\n",
              "    </tr>\n",
              "    <tr>\n",
              "      <th>27029</th>\n",
              "      <td>a0f0d4f4-1c7c-11ec-b144-16262ee38c7f</td>\n",
              "    </tr>\n",
              "    <tr>\n",
              "      <th>27030</th>\n",
              "      <td>a0f0d523-1c7c-11ec-89d2-16262ee38c7f</td>\n",
              "    </tr>\n",
              "    <tr>\n",
              "      <th>27031</th>\n",
              "      <td>a0f0d553-1c7c-11ec-a70a-16262ee38c7f</td>\n",
              "    </tr>\n",
              "    <tr>\n",
              "      <th>27032</th>\n",
              "      <td>a0f0d582-1c7c-11ec-a6c1-16262ee38c7f</td>\n",
              "    </tr>\n",
              "  </tbody>\n",
              "</table>\n",
              "<p>27033 rows × 1 columns</p>\n",
              "</div>\n",
              "      <button class=\"colab-df-convert\" onclick=\"convertToInteractive('df-a8d001ec-3423-4b10-a562-c05985f0611c')\"\n",
              "              title=\"Convert this dataframe to an interactive table.\"\n",
              "              style=\"display:none;\">\n",
              "        \n",
              "  <svg xmlns=\"http://www.w3.org/2000/svg\" height=\"24px\"viewBox=\"0 0 24 24\"\n",
              "       width=\"24px\">\n",
              "    <path d=\"M0 0h24v24H0V0z\" fill=\"none\"/>\n",
              "    <path d=\"M18.56 5.44l.94 2.06.94-2.06 2.06-.94-2.06-.94-.94-2.06-.94 2.06-2.06.94zm-11 1L8.5 8.5l.94-2.06 2.06-.94-2.06-.94L8.5 2.5l-.94 2.06-2.06.94zm10 10l.94 2.06.94-2.06 2.06-.94-2.06-.94-.94-2.06-.94 2.06-2.06.94z\"/><path d=\"M17.41 7.96l-1.37-1.37c-.4-.4-.92-.59-1.43-.59-.52 0-1.04.2-1.43.59L10.3 9.45l-7.72 7.72c-.78.78-.78 2.05 0 2.83L4 21.41c.39.39.9.59 1.41.59.51 0 1.02-.2 1.41-.59l7.78-7.78 2.81-2.81c.8-.78.8-2.07 0-2.86zM5.41 20L4 18.59l7.72-7.72 1.47 1.35L5.41 20z\"/>\n",
              "  </svg>\n",
              "      </button>\n",
              "      \n",
              "  <style>\n",
              "    .colab-df-container {\n",
              "      display:flex;\n",
              "      flex-wrap:wrap;\n",
              "      gap: 12px;\n",
              "    }\n",
              "\n",
              "    .colab-df-convert {\n",
              "      background-color: #E8F0FE;\n",
              "      border: none;\n",
              "      border-radius: 50%;\n",
              "      cursor: pointer;\n",
              "      display: none;\n",
              "      fill: #1967D2;\n",
              "      height: 32px;\n",
              "      padding: 0 0 0 0;\n",
              "      width: 32px;\n",
              "    }\n",
              "\n",
              "    .colab-df-convert:hover {\n",
              "      background-color: #E2EBFA;\n",
              "      box-shadow: 0px 1px 2px rgba(60, 64, 67, 0.3), 0px 1px 3px 1px rgba(60, 64, 67, 0.15);\n",
              "      fill: #174EA6;\n",
              "    }\n",
              "\n",
              "    [theme=dark] .colab-df-convert {\n",
              "      background-color: #3B4455;\n",
              "      fill: #D2E3FC;\n",
              "    }\n",
              "\n",
              "    [theme=dark] .colab-df-convert:hover {\n",
              "      background-color: #434B5C;\n",
              "      box-shadow: 0px 1px 3px 1px rgba(0, 0, 0, 0.15);\n",
              "      filter: drop-shadow(0px 1px 2px rgba(0, 0, 0, 0.3));\n",
              "      fill: #FFFFFF;\n",
              "    }\n",
              "  </style>\n",
              "\n",
              "      <script>\n",
              "        const buttonEl =\n",
              "          document.querySelector('#df-a8d001ec-3423-4b10-a562-c05985f0611c button.colab-df-convert');\n",
              "        buttonEl.style.display =\n",
              "          google.colab.kernel.accessAllowed ? 'block' : 'none';\n",
              "\n",
              "        async function convertToInteractive(key) {\n",
              "          const element = document.querySelector('#df-a8d001ec-3423-4b10-a562-c05985f0611c');\n",
              "          const dataTable =\n",
              "            await google.colab.kernel.invokeFunction('convertToInteractive',\n",
              "                                                     [key], {});\n",
              "          if (!dataTable) return;\n",
              "\n",
              "          const docLinkHtml = 'Like what you see? Visit the ' +\n",
              "            '<a target=\"_blank\" href=https://colab.research.google.com/notebooks/data_table.ipynb>data table notebook</a>'\n",
              "            + ' to learn more about interactive tables.';\n",
              "          element.innerHTML = '';\n",
              "          dataTable['output_type'] = 'display_data';\n",
              "          await google.colab.output.renderOutput(dataTable, element);\n",
              "          const docLink = document.createElement('div');\n",
              "          docLink.innerHTML = docLinkHtml;\n",
              "          element.appendChild(docLink);\n",
              "        }\n",
              "      </script>\n",
              "    </div>\n",
              "  </div>\n",
              "  "
            ]
          },
          "metadata": {},
          "execution_count": 13
        }
      ]
    },
    {
      "cell_type": "code",
      "source": [
        "df['Target'] = 0\n",
        "\n",
        "df_target = df[df['Incident'] == 'TARGET DRUG']\n",
        "\n",
        "df_target = df_target.groupby('Patient-Uid').agg({'Date': 'min'}).reset_index()\n",
        "df_target.columns = ['Patient-Uid', 'first_prescription']\n",
        "\n",
        "df = df.merge(df_target, on='Patient-Uid', how='left')\n",
        "\n",
        "df['days_since_first_prescription'] = (df['first_prescription'] - df['Date']).dt.days\n",
        "\n",
        "df.loc[(df['Incident'] == 'TARGET DRUG') & (df['days_since_first_prescription'] <= 30), 'Target'] = 1"
      ],
      "metadata": {
        "id": "-gX7wXw8SHXr"
      },
      "execution_count": null,
      "outputs": []
    },
    {
      "cell_type": "code",
      "source": [
        "df.Target.value_counts()"
      ],
      "metadata": {
        "colab": {
          "base_uri": "https://localhost:8080/"
        },
        "id": "IkTYKyZXTTzZ",
        "outputId": "22a52174-b91b-4a34-e3c7-6f5ae9e6d044"
      },
      "execution_count": null,
      "outputs": [
        {
          "output_type": "execute_result",
          "data": {
            "text/plain": [
              "0    2325575\n",
              "1      16302\n",
              "Name: Target, dtype: int64"
            ]
          },
          "metadata": {},
          "execution_count": 15
        }
      ]
    },
    {
      "cell_type": "code",
      "source": [
        "del df['first_prescription']\t"
      ],
      "metadata": {
        "id": "-FptTK1OTcpI"
      },
      "execution_count": null,
      "outputs": []
    },
    {
      "cell_type": "code",
      "source": [
        "del df['days_since_first_prescription']"
      ],
      "metadata": {
        "id": "-6qDGmowTlxH"
      },
      "execution_count": null,
      "outputs": []
    },
    {
      "cell_type": "code",
      "source": [
        "df['Target'].value_counts()"
      ],
      "metadata": {
        "colab": {
          "base_uri": "https://localhost:8080/"
        },
        "id": "QjF-anMrTrAK",
        "outputId": "ed96372d-b1fd-44e9-c9f6-ac7a1b2ddaf7"
      },
      "execution_count": null,
      "outputs": [
        {
          "output_type": "execute_result",
          "data": {
            "text/plain": [
              "0    2325575\n",
              "1      16302\n",
              "Name: Target, dtype: int64"
            ]
          },
          "metadata": {},
          "execution_count": 18
        }
      ]
    },
    {
      "cell_type": "code",
      "source": [
        "columns = ['PRIMARY_DIAGNOSIS', 'SYMPTOM_TYPE_0', 'DRUG_TYPE_0',\n",
        "'DRUG_TYPE_1', 'DRUG_TYPE_2', 'TEST_TYPE_0', 'DRUG_TYPE_3',\n",
        "'DRUG_TYPE_4', 'DRUG_TYPE_5', 'DRUG_TYPE_6', 'DRUG_TYPE_8',\n",
        "'DRUG_TYPE_7', 'SYMPTOM_TYPE_1', 'DRUG_TYPE_10', 'SYMPTOM_TYPE_29',\n",
        "'SYMPTOM_TYPE_2', 'DRUG_TYPE_11', 'DRUG_TYPE_9', 'DRUG_TYPE_13',\n",
        "'SYMPTOM_TYPE_5', 'TEST_TYPE_1', 'SYMPTOM_TYPE_6', 'TEST_TYPE_2',\n",
        "'SYMPTOM_TYPE_3', 'SYMPTOM_TYPE_8', 'DRUG_TYPE_14', 'DRUG_TYPE_12',\n",
        "'SYMPTOM_TYPE_9', 'SYMPTOM_TYPE_10', 'SYMPTOM_TYPE_7',\n",
        "'SYMPTOM_TYPE_11', 'TEST_TYPE_3', 'DRUG_TYPE_15', 'SYMPTOM_TYPE_4',\n",
        "'SYMPTOM_TYPE_14', 'SYMPTOM_TYPE_13', 'SYMPTOM_TYPE_16',\n",
        "'SYMPTOM_TYPE_17', 'SYMPTOM_TYPE_15', 'SYMPTOM_TYPE_18',\n",
        "'SYMPTOM_TYPE_12', 'SYMPTOM_TYPE_20', 'SYMPTOM_TYPE_21',\n",
        "'DRUG_TYPE_17', 'SYMPTOM_TYPE_22', 'TEST_TYPE_4',\n",
        "'SYMPTOM_TYPE_23', 'DRUG_TYPE_16', 'TEST_TYPE_5',\n",
        "'SYMPTOM_TYPE_19', 'SYMPTOM_TYPE_24', 'SYMPTOM_TYPE_25',\n",
        "'SYMPTOM_TYPE_26', 'SYMPTOM_TYPE_27', 'DRUG_TYPE_18',\n",
        "'SYMPTOM_TYPE_28', 'TARGET DRUG']\n",
        "\n",
        "for column in columns:\n",
        "    df[column] = 0\n",
        "\n",
        "for index, row in df.iterrows():\n",
        "    incident = row['Incident']\n",
        "    for column in columns:\n",
        "        if column in incident:\n",
        "            df.at[index, column] = 1\n"
      ],
      "metadata": {
        "id": "XAyyhk--UNRU"
      },
      "execution_count": null,
      "outputs": []
    },
    {
      "cell_type": "code",
      "source": [
        "print(df)"
      ],
      "metadata": {
        "colab": {
          "base_uri": "https://localhost:8080/"
        },
        "id": "gxLej3lTbOl-",
        "outputId": "b23b3125-7507-401a-d6ca-d75de493afff"
      },
      "execution_count": null,
      "outputs": [
        {
          "output_type": "stream",
          "name": "stdout",
          "text": [
            "                                  Patient-Uid       Date  \\\n",
            "0        a0db1e73-1c7c-11ec-ae39-16262ee38c7f 2015-09-22   \n",
            "1        a0db1e73-1c7c-11ec-ae39-16262ee38c7f 2018-04-13   \n",
            "2        a0db1e73-1c7c-11ec-ae39-16262ee38c7f 2018-05-02   \n",
            "3        a0db1e73-1c7c-11ec-ae39-16262ee38c7f 2018-11-23   \n",
            "4        a0db1e73-1c7c-11ec-ae39-16262ee38c7f 2018-11-24   \n",
            "...                                       ...        ...   \n",
            "2341872  a0f0d582-1c7c-11ec-a6c1-16262ee38c7f 2020-06-19   \n",
            "2341873  a0f0d582-1c7c-11ec-a6c1-16262ee38c7f 2020-07-09   \n",
            "2341874  a0f0d582-1c7c-11ec-a6c1-16262ee38c7f 2020-07-10   \n",
            "2341875  a0f0d582-1c7c-11ec-a6c1-16262ee38c7f 2020-08-05   \n",
            "2341876  a0f0d582-1c7c-11ec-a6c1-16262ee38c7f 2020-08-08   \n",
            "\n",
            "                                                  Incident  Target  \\\n",
            "0                                              DRUG_TYPE_7       0   \n",
            "1                                           SYMPTOM_TYPE_2       0   \n",
            "2                                              DRUG_TYPE_7       0   \n",
            "3        SYMPTOM_TYPE_0DRUG_TYPE_9DRUG_TYPE_0TEST_TYPE_...       0   \n",
            "4                                   DRUG_TYPE_7DRUG_TYPE_0       0   \n",
            "...                                                    ...     ...   \n",
            "2341872                                        DRUG_TYPE_6       0   \n",
            "2341873                                        TARGET DRUG       1   \n",
            "2341874                                        DRUG_TYPE_1       0   \n",
            "2341875                                        TARGET DRUG       1   \n",
            "2341876                                        DRUG_TYPE_5       0   \n",
            "\n",
            "         PRIMARY_DIAGNOSIS  SYMPTOM_TYPE_0  DRUG_TYPE_0  DRUG_TYPE_1  \\\n",
            "0                        0               0            0            0   \n",
            "1                        0               0            0            0   \n",
            "2                        0               0            0            0   \n",
            "3                        0               1            1            1   \n",
            "4                        0               0            1            0   \n",
            "...                    ...             ...          ...          ...   \n",
            "2341872                  0               0            0            0   \n",
            "2341873                  0               0            0            0   \n",
            "2341874                  0               0            0            1   \n",
            "2341875                  0               0            0            0   \n",
            "2341876                  0               0            0            0   \n",
            "\n",
            "         DRUG_TYPE_2  TEST_TYPE_0  ...  DRUG_TYPE_16  TEST_TYPE_5  \\\n",
            "0                  0            0  ...             0            0   \n",
            "1                  0            0  ...             0            0   \n",
            "2                  0            0  ...             0            0   \n",
            "3                  0            1  ...             0            0   \n",
            "4                  0            0  ...             0            0   \n",
            "...              ...          ...  ...           ...          ...   \n",
            "2341872            0            0  ...             0            0   \n",
            "2341873            0            0  ...             0            0   \n",
            "2341874            0            0  ...             0            0   \n",
            "2341875            0            0  ...             0            0   \n",
            "2341876            0            0  ...             0            0   \n",
            "\n",
            "         SYMPTOM_TYPE_19  SYMPTOM_TYPE_24  SYMPTOM_TYPE_25  SYMPTOM_TYPE_26  \\\n",
            "0                      0                0                0                0   \n",
            "1                      0                0                0                0   \n",
            "2                      0                0                0                0   \n",
            "3                      0                0                0                0   \n",
            "4                      0                0                0                0   \n",
            "...                  ...              ...              ...              ...   \n",
            "2341872                0                0                0                0   \n",
            "2341873                0                0                0                0   \n",
            "2341874                0                0                0                0   \n",
            "2341875                0                0                0                0   \n",
            "2341876                0                0                0                0   \n",
            "\n",
            "         SYMPTOM_TYPE_27  DRUG_TYPE_18  SYMPTOM_TYPE_28  TARGET DRUG  \n",
            "0                      0             0                0            0  \n",
            "1                      0             0                0            0  \n",
            "2                      0             0                0            0  \n",
            "3                      0             0                0            0  \n",
            "4                      0             0                0            0  \n",
            "...                  ...           ...              ...          ...  \n",
            "2341872                0             0                0            0  \n",
            "2341873                0             0                0            1  \n",
            "2341874                0             0                0            0  \n",
            "2341875                0             0                0            1  \n",
            "2341876                0             0                0            0  \n",
            "\n",
            "[2341877 rows x 61 columns]\n"
          ]
        }
      ]
    },
    {
      "cell_type": "code",
      "source": [
        "columns = ['PRIMARY_DIAGNOSIS', 'SYMPTOM_TYPE_0', 'DRUG_TYPE_0',\n",
        "'DRUG_TYPE_1', 'DRUG_TYPE_2', 'TEST_TYPE_0', 'DRUG_TYPE_3',\n",
        "'DRUG_TYPE_4', 'DRUG_TYPE_5', 'DRUG_TYPE_6', 'DRUG_TYPE_8',\n",
        "'DRUG_TYPE_7', 'SYMPTOM_TYPE_1', 'DRUG_TYPE_10', 'SYMPTOM_TYPE_29',\n",
        "'SYMPTOM_TYPE_2', 'DRUG_TYPE_11', 'DRUG_TYPE_9', 'DRUG_TYPE_13',\n",
        "'SYMPTOM_TYPE_5', 'TEST_TYPE_1', 'SYMPTOM_TYPE_6', 'TEST_TYPE_2',\n",
        "'SYMPTOM_TYPE_3', 'SYMPTOM_TYPE_8', 'DRUG_TYPE_14', 'DRUG_TYPE_12',\n",
        "'SYMPTOM_TYPE_9', 'SYMPTOM_TYPE_10', 'SYMPTOM_TYPE_7',\n",
        "'SYMPTOM_TYPE_11', 'TEST_TYPE_3', 'DRUG_TYPE_15', 'SYMPTOM_TYPE_4',\n",
        "'SYMPTOM_TYPE_14', 'SYMPTOM_TYPE_13', 'SYMPTOM_TYPE_16',\n",
        "'SYMPTOM_TYPE_17', 'SYMPTOM_TYPE_15', 'SYMPTOM_TYPE_18',\n",
        "'SYMPTOM_TYPE_12', 'SYMPTOM_TYPE_20', 'SYMPTOM_TYPE_21',\n",
        "'DRUG_TYPE_17', 'SYMPTOM_TYPE_22', 'TEST_TYPE_4',\n",
        "'SYMPTOM_TYPE_23', 'DRUG_TYPE_16', 'TEST_TYPE_5',\n",
        "'SYMPTOM_TYPE_19', 'SYMPTOM_TYPE_24', 'SYMPTOM_TYPE_25',\n",
        "'SYMPTOM_TYPE_26', 'SYMPTOM_TYPE_27', 'DRUG_TYPE_18',\n",
        "'SYMPTOM_TYPE_28']\n",
        "\n",
        "for column in columns:\n",
        "    df1[column] = 0\n",
        "\n",
        "for index, row in df.iterrows():\n",
        "    incident = row['Incident']\n",
        "    for column in columns:\n",
        "        if column in incident:\n",
        "            df1.at[index, column] = 1\n"
      ],
      "metadata": {
        "id": "7RpoM3BqrxF6"
      },
      "execution_count": null,
      "outputs": []
    },
    {
      "cell_type": "code",
      "source": [],
      "metadata": {
        "id": "ZlvTbZjSr994"
      },
      "execution_count": null,
      "outputs": []
    },
    {
      "cell_type": "code",
      "source": [
        "df1[''] = 0"
      ],
      "metadata": {
        "id": "OtcVisxJ0ydM"
      },
      "execution_count": null,
      "outputs": []
    },
    {
      "cell_type": "code",
      "source": [],
      "metadata": {
        "id": "wxCKWUK7gkTS"
      },
      "execution_count": null,
      "outputs": []
    },
    {
      "cell_type": "code",
      "source": [
        "df1['Incident'] = df['Incident']"
      ],
      "metadata": {
        "id": "frOhqODo07ag"
      },
      "execution_count": null,
      "outputs": []
    },
    {
      "cell_type": "code",
      "source": [
        "df2 = df1.copy()"
      ],
      "metadata": {
        "id": "zoyI1_oI1OrC"
      },
      "execution_count": null,
      "outputs": []
    },
    {
      "cell_type": "code",
      "source": [
        "df_unique = df.drop_duplicates(subset='Patient-Uid')\n",
        "df_grouped = df.groupby('Patient-Uid').sum()\n",
        "df_grouped = df_grouped.apply(lambda x: np.where(x>0, 1, 0))"
      ],
      "metadata": {
        "id": "i9Wx68an1JBX"
      },
      "execution_count": null,
      "outputs": []
    },
    {
      "cell_type": "code",
      "source": [
        "df_grouped"
      ],
      "metadata": {
        "colab": {
          "base_uri": "https://localhost:8080/",
          "height": 1000
        },
        "id": "gIFfJx3Ciw3C",
        "outputId": "d8149b75-a282-4585-a4ad-ec885af7b363"
      },
      "execution_count": null,
      "outputs": [
        {
          "output_type": "execute_result",
          "data": {
            "text/plain": [
              "                                      Target  PRIMARY_DIAGNOSIS  \\\n",
              "Patient-Uid                                                       \n",
              "a0db1e73-1c7c-11ec-ae39-16262ee38c7f       0                  1   \n",
              "a0dc93f2-1c7c-11ec-9cd2-16262ee38c7f       0                  1   \n",
              "a0dc94c6-1c7c-11ec-a3a0-16262ee38c7f       0                  1   \n",
              "a0dc950b-1c7c-11ec-b6ec-16262ee38c7f       0                  1   \n",
              "a0dc9543-1c7c-11ec-bb63-16262ee38c7f       0                  1   \n",
              "...                                      ...                ...   \n",
              "a0f0d4c5-1c7c-11ec-bfec-16262ee38c7f       1                  1   \n",
              "a0f0d4f4-1c7c-11ec-b144-16262ee38c7f       0                  1   \n",
              "a0f0d523-1c7c-11ec-89d2-16262ee38c7f       1                  1   \n",
              "a0f0d553-1c7c-11ec-a70a-16262ee38c7f       0                  1   \n",
              "a0f0d582-1c7c-11ec-a6c1-16262ee38c7f       1                  1   \n",
              "\n",
              "                                      SYMPTOM_TYPE_0  DRUG_TYPE_0  \\\n",
              "Patient-Uid                                                         \n",
              "a0db1e73-1c7c-11ec-ae39-16262ee38c7f               1            1   \n",
              "a0dc93f2-1c7c-11ec-9cd2-16262ee38c7f               1            1   \n",
              "a0dc94c6-1c7c-11ec-a3a0-16262ee38c7f               1            1   \n",
              "a0dc950b-1c7c-11ec-b6ec-16262ee38c7f               0            1   \n",
              "a0dc9543-1c7c-11ec-bb63-16262ee38c7f               1            1   \n",
              "...                                              ...          ...   \n",
              "a0f0d4c5-1c7c-11ec-bfec-16262ee38c7f               0            1   \n",
              "a0f0d4f4-1c7c-11ec-b144-16262ee38c7f               0            1   \n",
              "a0f0d523-1c7c-11ec-89d2-16262ee38c7f               0            1   \n",
              "a0f0d553-1c7c-11ec-a70a-16262ee38c7f               0            1   \n",
              "a0f0d582-1c7c-11ec-a6c1-16262ee38c7f               0            1   \n",
              "\n",
              "                                      DRUG_TYPE_1  DRUG_TYPE_2  TEST_TYPE_0  \\\n",
              "Patient-Uid                                                                   \n",
              "a0db1e73-1c7c-11ec-ae39-16262ee38c7f            1            1            1   \n",
              "a0dc93f2-1c7c-11ec-9cd2-16262ee38c7f            1            1            1   \n",
              "a0dc94c6-1c7c-11ec-a3a0-16262ee38c7f            1            1            1   \n",
              "a0dc950b-1c7c-11ec-b6ec-16262ee38c7f            1            1            0   \n",
              "a0dc9543-1c7c-11ec-bb63-16262ee38c7f            1            1            1   \n",
              "...                                           ...          ...          ...   \n",
              "a0f0d4c5-1c7c-11ec-bfec-16262ee38c7f            1            1            0   \n",
              "a0f0d4f4-1c7c-11ec-b144-16262ee38c7f            1            1            0   \n",
              "a0f0d523-1c7c-11ec-89d2-16262ee38c7f            1            1            0   \n",
              "a0f0d553-1c7c-11ec-a70a-16262ee38c7f            1            1            0   \n",
              "a0f0d582-1c7c-11ec-a6c1-16262ee38c7f            1            0            0   \n",
              "\n",
              "                                      DRUG_TYPE_3  DRUG_TYPE_4  DRUG_TYPE_5  \\\n",
              "Patient-Uid                                                                   \n",
              "a0db1e73-1c7c-11ec-ae39-16262ee38c7f            0            0            0   \n",
              "a0dc93f2-1c7c-11ec-9cd2-16262ee38c7f            1            0            0   \n",
              "a0dc94c6-1c7c-11ec-a3a0-16262ee38c7f            0            0            0   \n",
              "a0dc950b-1c7c-11ec-b6ec-16262ee38c7f            0            0            0   \n",
              "a0dc9543-1c7c-11ec-bb63-16262ee38c7f            1            0            0   \n",
              "...                                           ...          ...          ...   \n",
              "a0f0d4c5-1c7c-11ec-bfec-16262ee38c7f            0            0            0   \n",
              "a0f0d4f4-1c7c-11ec-b144-16262ee38c7f            1            1            0   \n",
              "a0f0d523-1c7c-11ec-89d2-16262ee38c7f            0            0            0   \n",
              "a0f0d553-1c7c-11ec-a70a-16262ee38c7f            1            0            1   \n",
              "a0f0d582-1c7c-11ec-a6c1-16262ee38c7f            0            0            1   \n",
              "\n",
              "                                      ...  DRUG_TYPE_16  TEST_TYPE_5  \\\n",
              "Patient-Uid                           ...                              \n",
              "a0db1e73-1c7c-11ec-ae39-16262ee38c7f  ...             0            0   \n",
              "a0dc93f2-1c7c-11ec-9cd2-16262ee38c7f  ...             0            0   \n",
              "a0dc94c6-1c7c-11ec-a3a0-16262ee38c7f  ...             0            0   \n",
              "a0dc950b-1c7c-11ec-b6ec-16262ee38c7f  ...             0            0   \n",
              "a0dc9543-1c7c-11ec-bb63-16262ee38c7f  ...             0            0   \n",
              "...                                   ...           ...          ...   \n",
              "a0f0d4c5-1c7c-11ec-bfec-16262ee38c7f  ...             0            0   \n",
              "a0f0d4f4-1c7c-11ec-b144-16262ee38c7f  ...             0            0   \n",
              "a0f0d523-1c7c-11ec-89d2-16262ee38c7f  ...             0            0   \n",
              "a0f0d553-1c7c-11ec-a70a-16262ee38c7f  ...             0            0   \n",
              "a0f0d582-1c7c-11ec-a6c1-16262ee38c7f  ...             0            0   \n",
              "\n",
              "                                      SYMPTOM_TYPE_19  SYMPTOM_TYPE_24  \\\n",
              "Patient-Uid                                                              \n",
              "a0db1e73-1c7c-11ec-ae39-16262ee38c7f                0                0   \n",
              "a0dc93f2-1c7c-11ec-9cd2-16262ee38c7f                0                0   \n",
              "a0dc94c6-1c7c-11ec-a3a0-16262ee38c7f                0                0   \n",
              "a0dc950b-1c7c-11ec-b6ec-16262ee38c7f                0                0   \n",
              "a0dc9543-1c7c-11ec-bb63-16262ee38c7f                0                0   \n",
              "...                                               ...              ...   \n",
              "a0f0d4c5-1c7c-11ec-bfec-16262ee38c7f                0                0   \n",
              "a0f0d4f4-1c7c-11ec-b144-16262ee38c7f                0                0   \n",
              "a0f0d523-1c7c-11ec-89d2-16262ee38c7f                0                0   \n",
              "a0f0d553-1c7c-11ec-a70a-16262ee38c7f                0                0   \n",
              "a0f0d582-1c7c-11ec-a6c1-16262ee38c7f                0                0   \n",
              "\n",
              "                                      SYMPTOM_TYPE_25  SYMPTOM_TYPE_26  \\\n",
              "Patient-Uid                                                              \n",
              "a0db1e73-1c7c-11ec-ae39-16262ee38c7f                0                0   \n",
              "a0dc93f2-1c7c-11ec-9cd2-16262ee38c7f                0                0   \n",
              "a0dc94c6-1c7c-11ec-a3a0-16262ee38c7f                0                0   \n",
              "a0dc950b-1c7c-11ec-b6ec-16262ee38c7f                0                0   \n",
              "a0dc9543-1c7c-11ec-bb63-16262ee38c7f                0                0   \n",
              "...                                               ...              ...   \n",
              "a0f0d4c5-1c7c-11ec-bfec-16262ee38c7f                0                0   \n",
              "a0f0d4f4-1c7c-11ec-b144-16262ee38c7f                0                0   \n",
              "a0f0d523-1c7c-11ec-89d2-16262ee38c7f                0                0   \n",
              "a0f0d553-1c7c-11ec-a70a-16262ee38c7f                0                0   \n",
              "a0f0d582-1c7c-11ec-a6c1-16262ee38c7f                0                0   \n",
              "\n",
              "                                      SYMPTOM_TYPE_27  DRUG_TYPE_18  \\\n",
              "Patient-Uid                                                           \n",
              "a0db1e73-1c7c-11ec-ae39-16262ee38c7f                0             0   \n",
              "a0dc93f2-1c7c-11ec-9cd2-16262ee38c7f                0             0   \n",
              "a0dc94c6-1c7c-11ec-a3a0-16262ee38c7f                0             0   \n",
              "a0dc950b-1c7c-11ec-b6ec-16262ee38c7f                0             0   \n",
              "a0dc9543-1c7c-11ec-bb63-16262ee38c7f                0             0   \n",
              "...                                               ...           ...   \n",
              "a0f0d4c5-1c7c-11ec-bfec-16262ee38c7f                0             0   \n",
              "a0f0d4f4-1c7c-11ec-b144-16262ee38c7f                0             0   \n",
              "a0f0d523-1c7c-11ec-89d2-16262ee38c7f                0             0   \n",
              "a0f0d553-1c7c-11ec-a70a-16262ee38c7f                0             0   \n",
              "a0f0d582-1c7c-11ec-a6c1-16262ee38c7f                0             0   \n",
              "\n",
              "                                      SYMPTOM_TYPE_28  TARGET DRUG  \n",
              "Patient-Uid                                                         \n",
              "a0db1e73-1c7c-11ec-ae39-16262ee38c7f                0            0  \n",
              "a0dc93f2-1c7c-11ec-9cd2-16262ee38c7f                0            0  \n",
              "a0dc94c6-1c7c-11ec-a3a0-16262ee38c7f                0            0  \n",
              "a0dc950b-1c7c-11ec-b6ec-16262ee38c7f                0            0  \n",
              "a0dc9543-1c7c-11ec-bb63-16262ee38c7f                0            0  \n",
              "...                                               ...          ...  \n",
              "a0f0d4c5-1c7c-11ec-bfec-16262ee38c7f                0            1  \n",
              "a0f0d4f4-1c7c-11ec-b144-16262ee38c7f                0            1  \n",
              "a0f0d523-1c7c-11ec-89d2-16262ee38c7f                0            1  \n",
              "a0f0d553-1c7c-11ec-a70a-16262ee38c7f                0            1  \n",
              "a0f0d582-1c7c-11ec-a6c1-16262ee38c7f                0            1  \n",
              "\n",
              "[27033 rows x 58 columns]"
            ],
            "text/html": [
              "\n",
              "  <div id=\"df-4e51fd43-0336-4e20-b7f8-3f6377a20bcf\">\n",
              "    <div class=\"colab-df-container\">\n",
              "      <div>\n",
              "<style scoped>\n",
              "    .dataframe tbody tr th:only-of-type {\n",
              "        vertical-align: middle;\n",
              "    }\n",
              "\n",
              "    .dataframe tbody tr th {\n",
              "        vertical-align: top;\n",
              "    }\n",
              "\n",
              "    .dataframe thead th {\n",
              "        text-align: right;\n",
              "    }\n",
              "</style>\n",
              "<table border=\"1\" class=\"dataframe\">\n",
              "  <thead>\n",
              "    <tr style=\"text-align: right;\">\n",
              "      <th></th>\n",
              "      <th>Target</th>\n",
              "      <th>PRIMARY_DIAGNOSIS</th>\n",
              "      <th>SYMPTOM_TYPE_0</th>\n",
              "      <th>DRUG_TYPE_0</th>\n",
              "      <th>DRUG_TYPE_1</th>\n",
              "      <th>DRUG_TYPE_2</th>\n",
              "      <th>TEST_TYPE_0</th>\n",
              "      <th>DRUG_TYPE_3</th>\n",
              "      <th>DRUG_TYPE_4</th>\n",
              "      <th>DRUG_TYPE_5</th>\n",
              "      <th>...</th>\n",
              "      <th>DRUG_TYPE_16</th>\n",
              "      <th>TEST_TYPE_5</th>\n",
              "      <th>SYMPTOM_TYPE_19</th>\n",
              "      <th>SYMPTOM_TYPE_24</th>\n",
              "      <th>SYMPTOM_TYPE_25</th>\n",
              "      <th>SYMPTOM_TYPE_26</th>\n",
              "      <th>SYMPTOM_TYPE_27</th>\n",
              "      <th>DRUG_TYPE_18</th>\n",
              "      <th>SYMPTOM_TYPE_28</th>\n",
              "      <th>TARGET DRUG</th>\n",
              "    </tr>\n",
              "    <tr>\n",
              "      <th>Patient-Uid</th>\n",
              "      <th></th>\n",
              "      <th></th>\n",
              "      <th></th>\n",
              "      <th></th>\n",
              "      <th></th>\n",
              "      <th></th>\n",
              "      <th></th>\n",
              "      <th></th>\n",
              "      <th></th>\n",
              "      <th></th>\n",
              "      <th></th>\n",
              "      <th></th>\n",
              "      <th></th>\n",
              "      <th></th>\n",
              "      <th></th>\n",
              "      <th></th>\n",
              "      <th></th>\n",
              "      <th></th>\n",
              "      <th></th>\n",
              "      <th></th>\n",
              "      <th></th>\n",
              "    </tr>\n",
              "  </thead>\n",
              "  <tbody>\n",
              "    <tr>\n",
              "      <th>a0db1e73-1c7c-11ec-ae39-16262ee38c7f</th>\n",
              "      <td>0</td>\n",
              "      <td>1</td>\n",
              "      <td>1</td>\n",
              "      <td>1</td>\n",
              "      <td>1</td>\n",
              "      <td>1</td>\n",
              "      <td>1</td>\n",
              "      <td>0</td>\n",
              "      <td>0</td>\n",
              "      <td>0</td>\n",
              "      <td>...</td>\n",
              "      <td>0</td>\n",
              "      <td>0</td>\n",
              "      <td>0</td>\n",
              "      <td>0</td>\n",
              "      <td>0</td>\n",
              "      <td>0</td>\n",
              "      <td>0</td>\n",
              "      <td>0</td>\n",
              "      <td>0</td>\n",
              "      <td>0</td>\n",
              "    </tr>\n",
              "    <tr>\n",
              "      <th>a0dc93f2-1c7c-11ec-9cd2-16262ee38c7f</th>\n",
              "      <td>0</td>\n",
              "      <td>1</td>\n",
              "      <td>1</td>\n",
              "      <td>1</td>\n",
              "      <td>1</td>\n",
              "      <td>1</td>\n",
              "      <td>1</td>\n",
              "      <td>1</td>\n",
              "      <td>0</td>\n",
              "      <td>0</td>\n",
              "      <td>...</td>\n",
              "      <td>0</td>\n",
              "      <td>0</td>\n",
              "      <td>0</td>\n",
              "      <td>0</td>\n",
              "      <td>0</td>\n",
              "      <td>0</td>\n",
              "      <td>0</td>\n",
              "      <td>0</td>\n",
              "      <td>0</td>\n",
              "      <td>0</td>\n",
              "    </tr>\n",
              "    <tr>\n",
              "      <th>a0dc94c6-1c7c-11ec-a3a0-16262ee38c7f</th>\n",
              "      <td>0</td>\n",
              "      <td>1</td>\n",
              "      <td>1</td>\n",
              "      <td>1</td>\n",
              "      <td>1</td>\n",
              "      <td>1</td>\n",
              "      <td>1</td>\n",
              "      <td>0</td>\n",
              "      <td>0</td>\n",
              "      <td>0</td>\n",
              "      <td>...</td>\n",
              "      <td>0</td>\n",
              "      <td>0</td>\n",
              "      <td>0</td>\n",
              "      <td>0</td>\n",
              "      <td>0</td>\n",
              "      <td>0</td>\n",
              "      <td>0</td>\n",
              "      <td>0</td>\n",
              "      <td>0</td>\n",
              "      <td>0</td>\n",
              "    </tr>\n",
              "    <tr>\n",
              "      <th>a0dc950b-1c7c-11ec-b6ec-16262ee38c7f</th>\n",
              "      <td>0</td>\n",
              "      <td>1</td>\n",
              "      <td>0</td>\n",
              "      <td>1</td>\n",
              "      <td>1</td>\n",
              "      <td>1</td>\n",
              "      <td>0</td>\n",
              "      <td>0</td>\n",
              "      <td>0</td>\n",
              "      <td>0</td>\n",
              "      <td>...</td>\n",
              "      <td>0</td>\n",
              "      <td>0</td>\n",
              "      <td>0</td>\n",
              "      <td>0</td>\n",
              "      <td>0</td>\n",
              "      <td>0</td>\n",
              "      <td>0</td>\n",
              "      <td>0</td>\n",
              "      <td>0</td>\n",
              "      <td>0</td>\n",
              "    </tr>\n",
              "    <tr>\n",
              "      <th>a0dc9543-1c7c-11ec-bb63-16262ee38c7f</th>\n",
              "      <td>0</td>\n",
              "      <td>1</td>\n",
              "      <td>1</td>\n",
              "      <td>1</td>\n",
              "      <td>1</td>\n",
              "      <td>1</td>\n",
              "      <td>1</td>\n",
              "      <td>1</td>\n",
              "      <td>0</td>\n",
              "      <td>0</td>\n",
              "      <td>...</td>\n",
              "      <td>0</td>\n",
              "      <td>0</td>\n",
              "      <td>0</td>\n",
              "      <td>0</td>\n",
              "      <td>0</td>\n",
              "      <td>0</td>\n",
              "      <td>0</td>\n",
              "      <td>0</td>\n",
              "      <td>0</td>\n",
              "      <td>0</td>\n",
              "    </tr>\n",
              "    <tr>\n",
              "      <th>...</th>\n",
              "      <td>...</td>\n",
              "      <td>...</td>\n",
              "      <td>...</td>\n",
              "      <td>...</td>\n",
              "      <td>...</td>\n",
              "      <td>...</td>\n",
              "      <td>...</td>\n",
              "      <td>...</td>\n",
              "      <td>...</td>\n",
              "      <td>...</td>\n",
              "      <td>...</td>\n",
              "      <td>...</td>\n",
              "      <td>...</td>\n",
              "      <td>...</td>\n",
              "      <td>...</td>\n",
              "      <td>...</td>\n",
              "      <td>...</td>\n",
              "      <td>...</td>\n",
              "      <td>...</td>\n",
              "      <td>...</td>\n",
              "      <td>...</td>\n",
              "    </tr>\n",
              "    <tr>\n",
              "      <th>a0f0d4c5-1c7c-11ec-bfec-16262ee38c7f</th>\n",
              "      <td>1</td>\n",
              "      <td>1</td>\n",
              "      <td>0</td>\n",
              "      <td>1</td>\n",
              "      <td>1</td>\n",
              "      <td>1</td>\n",
              "      <td>0</td>\n",
              "      <td>0</td>\n",
              "      <td>0</td>\n",
              "      <td>0</td>\n",
              "      <td>...</td>\n",
              "      <td>0</td>\n",
              "      <td>0</td>\n",
              "      <td>0</td>\n",
              "      <td>0</td>\n",
              "      <td>0</td>\n",
              "      <td>0</td>\n",
              "      <td>0</td>\n",
              "      <td>0</td>\n",
              "      <td>0</td>\n",
              "      <td>1</td>\n",
              "    </tr>\n",
              "    <tr>\n",
              "      <th>a0f0d4f4-1c7c-11ec-b144-16262ee38c7f</th>\n",
              "      <td>0</td>\n",
              "      <td>1</td>\n",
              "      <td>0</td>\n",
              "      <td>1</td>\n",
              "      <td>1</td>\n",
              "      <td>1</td>\n",
              "      <td>0</td>\n",
              "      <td>1</td>\n",
              "      <td>1</td>\n",
              "      <td>0</td>\n",
              "      <td>...</td>\n",
              "      <td>0</td>\n",
              "      <td>0</td>\n",
              "      <td>0</td>\n",
              "      <td>0</td>\n",
              "      <td>0</td>\n",
              "      <td>0</td>\n",
              "      <td>0</td>\n",
              "      <td>0</td>\n",
              "      <td>0</td>\n",
              "      <td>1</td>\n",
              "    </tr>\n",
              "    <tr>\n",
              "      <th>a0f0d523-1c7c-11ec-89d2-16262ee38c7f</th>\n",
              "      <td>1</td>\n",
              "      <td>1</td>\n",
              "      <td>0</td>\n",
              "      <td>1</td>\n",
              "      <td>1</td>\n",
              "      <td>1</td>\n",
              "      <td>0</td>\n",
              "      <td>0</td>\n",
              "      <td>0</td>\n",
              "      <td>0</td>\n",
              "      <td>...</td>\n",
              "      <td>0</td>\n",
              "      <td>0</td>\n",
              "      <td>0</td>\n",
              "      <td>0</td>\n",
              "      <td>0</td>\n",
              "      <td>0</td>\n",
              "      <td>0</td>\n",
              "      <td>0</td>\n",
              "      <td>0</td>\n",
              "      <td>1</td>\n",
              "    </tr>\n",
              "    <tr>\n",
              "      <th>a0f0d553-1c7c-11ec-a70a-16262ee38c7f</th>\n",
              "      <td>0</td>\n",
              "      <td>1</td>\n",
              "      <td>0</td>\n",
              "      <td>1</td>\n",
              "      <td>1</td>\n",
              "      <td>1</td>\n",
              "      <td>0</td>\n",
              "      <td>1</td>\n",
              "      <td>0</td>\n",
              "      <td>1</td>\n",
              "      <td>...</td>\n",
              "      <td>0</td>\n",
              "      <td>0</td>\n",
              "      <td>0</td>\n",
              "      <td>0</td>\n",
              "      <td>0</td>\n",
              "      <td>0</td>\n",
              "      <td>0</td>\n",
              "      <td>0</td>\n",
              "      <td>0</td>\n",
              "      <td>1</td>\n",
              "    </tr>\n",
              "    <tr>\n",
              "      <th>a0f0d582-1c7c-11ec-a6c1-16262ee38c7f</th>\n",
              "      <td>1</td>\n",
              "      <td>1</td>\n",
              "      <td>0</td>\n",
              "      <td>1</td>\n",
              "      <td>1</td>\n",
              "      <td>0</td>\n",
              "      <td>0</td>\n",
              "      <td>0</td>\n",
              "      <td>0</td>\n",
              "      <td>1</td>\n",
              "      <td>...</td>\n",
              "      <td>0</td>\n",
              "      <td>0</td>\n",
              "      <td>0</td>\n",
              "      <td>0</td>\n",
              "      <td>0</td>\n",
              "      <td>0</td>\n",
              "      <td>0</td>\n",
              "      <td>0</td>\n",
              "      <td>0</td>\n",
              "      <td>1</td>\n",
              "    </tr>\n",
              "  </tbody>\n",
              "</table>\n",
              "<p>27033 rows × 58 columns</p>\n",
              "</div>\n",
              "      <button class=\"colab-df-convert\" onclick=\"convertToInteractive('df-4e51fd43-0336-4e20-b7f8-3f6377a20bcf')\"\n",
              "              title=\"Convert this dataframe to an interactive table.\"\n",
              "              style=\"display:none;\">\n",
              "        \n",
              "  <svg xmlns=\"http://www.w3.org/2000/svg\" height=\"24px\"viewBox=\"0 0 24 24\"\n",
              "       width=\"24px\">\n",
              "    <path d=\"M0 0h24v24H0V0z\" fill=\"none\"/>\n",
              "    <path d=\"M18.56 5.44l.94 2.06.94-2.06 2.06-.94-2.06-.94-.94-2.06-.94 2.06-2.06.94zm-11 1L8.5 8.5l.94-2.06 2.06-.94-2.06-.94L8.5 2.5l-.94 2.06-2.06.94zm10 10l.94 2.06.94-2.06 2.06-.94-2.06-.94-.94-2.06-.94 2.06-2.06.94z\"/><path d=\"M17.41 7.96l-1.37-1.37c-.4-.4-.92-.59-1.43-.59-.52 0-1.04.2-1.43.59L10.3 9.45l-7.72 7.72c-.78.78-.78 2.05 0 2.83L4 21.41c.39.39.9.59 1.41.59.51 0 1.02-.2 1.41-.59l7.78-7.78 2.81-2.81c.8-.78.8-2.07 0-2.86zM5.41 20L4 18.59l7.72-7.72 1.47 1.35L5.41 20z\"/>\n",
              "  </svg>\n",
              "      </button>\n",
              "      \n",
              "  <style>\n",
              "    .colab-df-container {\n",
              "      display:flex;\n",
              "      flex-wrap:wrap;\n",
              "      gap: 12px;\n",
              "    }\n",
              "\n",
              "    .colab-df-convert {\n",
              "      background-color: #E8F0FE;\n",
              "      border: none;\n",
              "      border-radius: 50%;\n",
              "      cursor: pointer;\n",
              "      display: none;\n",
              "      fill: #1967D2;\n",
              "      height: 32px;\n",
              "      padding: 0 0 0 0;\n",
              "      width: 32px;\n",
              "    }\n",
              "\n",
              "    .colab-df-convert:hover {\n",
              "      background-color: #E2EBFA;\n",
              "      box-shadow: 0px 1px 2px rgba(60, 64, 67, 0.3), 0px 1px 3px 1px rgba(60, 64, 67, 0.15);\n",
              "      fill: #174EA6;\n",
              "    }\n",
              "\n",
              "    [theme=dark] .colab-df-convert {\n",
              "      background-color: #3B4455;\n",
              "      fill: #D2E3FC;\n",
              "    }\n",
              "\n",
              "    [theme=dark] .colab-df-convert:hover {\n",
              "      background-color: #434B5C;\n",
              "      box-shadow: 0px 1px 3px 1px rgba(0, 0, 0, 0.15);\n",
              "      filter: drop-shadow(0px 1px 2px rgba(0, 0, 0, 0.3));\n",
              "      fill: #FFFFFF;\n",
              "    }\n",
              "  </style>\n",
              "\n",
              "      <script>\n",
              "        const buttonEl =\n",
              "          document.querySelector('#df-4e51fd43-0336-4e20-b7f8-3f6377a20bcf button.colab-df-convert');\n",
              "        buttonEl.style.display =\n",
              "          google.colab.kernel.accessAllowed ? 'block' : 'none';\n",
              "\n",
              "        async function convertToInteractive(key) {\n",
              "          const element = document.querySelector('#df-4e51fd43-0336-4e20-b7f8-3f6377a20bcf');\n",
              "          const dataTable =\n",
              "            await google.colab.kernel.invokeFunction('convertToInteractive',\n",
              "                                                     [key], {});\n",
              "          if (!dataTable) return;\n",
              "\n",
              "          const docLinkHtml = 'Like what you see? Visit the ' +\n",
              "            '<a target=\"_blank\" href=https://colab.research.google.com/notebooks/data_table.ipynb>data table notebook</a>'\n",
              "            + ' to learn more about interactive tables.';\n",
              "          element.innerHTML = '';\n",
              "          dataTable['output_type'] = 'display_data';\n",
              "          await google.colab.output.renderOutput(dataTable, element);\n",
              "          const docLink = document.createElement('div');\n",
              "          docLink.innerHTML = docLinkHtml;\n",
              "          element.appendChild(docLink);\n",
              "        }\n",
              "      </script>\n",
              "    </div>\n",
              "  </div>\n",
              "  "
            ]
          },
          "metadata": {},
          "execution_count": 25
        }
      ]
    },
    {
      "cell_type": "code",
      "source": [
        "df_grouped.to_csv(\"trailer.csv\")"
      ],
      "metadata": {
        "id": "xtArJJPb1eB3"
      },
      "execution_count": null,
      "outputs": []
    },
    {
      "cell_type": "code",
      "source": [
        "df_grouped.shape"
      ],
      "metadata": {
        "colab": {
          "base_uri": "https://localhost:8080/"
        },
        "id": "0WsXj9971nWh",
        "outputId": "67c31444-ad22-4361-bbcc-466ed603a727"
      },
      "execution_count": null,
      "outputs": [
        {
          "output_type": "execute_result",
          "data": {
            "text/plain": [
              "(27033, 58)"
            ]
          },
          "metadata": {},
          "execution_count": 27
        }
      ]
    },
    {
      "cell_type": "code",
      "source": [
        "df_grouped.Target.value_counts()"
      ],
      "metadata": {
        "colab": {
          "base_uri": "https://localhost:8080/"
        },
        "id": "MGFuGd6W8q_U",
        "outputId": "ae46f252-751b-43fc-d838-c94b603835ea"
      },
      "execution_count": null,
      "outputs": [
        {
          "output_type": "execute_result",
          "data": {
            "text/plain": [
              "0    23489\n",
              "1     3544\n",
              "Name: Target, dtype: int64"
            ]
          },
          "metadata": {},
          "execution_count": 28
        }
      ]
    },
    {
      "cell_type": "code",
      "source": [
        "df_grouped.hist()"
      ],
      "metadata": {
        "colab": {
          "base_uri": "https://localhost:8080/",
          "height": 1000
        },
        "id": "rKhhUvXDXC3j",
        "outputId": "23879876-9330-4bcc-9d92-e2aeb6f81fc7"
      },
      "execution_count": null,
      "outputs": [
        {
          "output_type": "execute_result",
          "data": {
            "text/plain": [
              "array([[<matplotlib.axes._subplots.AxesSubplot object at 0x7f7119319f70>,\n",
              "        <matplotlib.axes._subplots.AxesSubplot object at 0x7f7119282400>,\n",
              "        <matplotlib.axes._subplots.AxesSubplot object at 0x7f71192ae820>,\n",
              "        <matplotlib.axes._subplots.AxesSubplot object at 0x7f7119257d60>,\n",
              "        <matplotlib.axes._subplots.AxesSubplot object at 0x7f71192141f0>,\n",
              "        <matplotlib.axes._subplots.AxesSubplot object at 0x7f711923f5e0>,\n",
              "        <matplotlib.axes._subplots.AxesSubplot object at 0x7f711923f6d0>,\n",
              "        <matplotlib.axes._subplots.AxesSubplot object at 0x7f71191e9be0>],\n",
              "       [<matplotlib.axes._subplots.AxesSubplot object at 0x7f7119150550>,\n",
              "        <matplotlib.axes._subplots.AxesSubplot object at 0x7f7119179460>,\n",
              "        <matplotlib.axes._subplots.AxesSubplot object at 0x7f7119126880>,\n",
              "        <matplotlib.axes._subplots.AxesSubplot object at 0x7f71190d5c70>,\n",
              "        <matplotlib.axes._subplots.AxesSubplot object at 0x7f7119082100>,\n",
              "        <matplotlib.axes._subplots.AxesSubplot object at 0x7f71190bc490>,\n",
              "        <matplotlib.axes._subplots.AxesSubplot object at 0x7f71190688b0>,\n",
              "        <matplotlib.axes._subplots.AxesSubplot object at 0x7f7119015cd0>],\n",
              "       [<matplotlib.axes._subplots.AxesSubplot object at 0x7f7118fd0130>,\n",
              "        <matplotlib.axes._subplots.AxesSubplot object at 0x7f7118ff9520>,\n",
              "        <matplotlib.axes._subplots.AxesSubplot object at 0x7f7118fa6910>,\n",
              "        <matplotlib.axes._subplots.AxesSubplot object at 0x7f7118f54d00>,\n",
              "        <matplotlib.axes._subplots.AxesSubplot object at 0x7f7118f0d130>,\n",
              "        <matplotlib.axes._subplots.AxesSubplot object at 0x7f7118f3b580>,\n",
              "        <matplotlib.axes._subplots.AxesSubplot object at 0x7f7118ee9970>,\n",
              "        <matplotlib.axes._subplots.AxesSubplot object at 0x7f7118e94dc0>],\n",
              "       [<matplotlib.axes._subplots.AxesSubplot object at 0x7f7118e501f0>,\n",
              "        <matplotlib.axes._subplots.AxesSubplot object at 0x7f7118e7e5e0>,\n",
              "        <matplotlib.axes._subplots.AxesSubplot object at 0x7f7118e2b9d0>,\n",
              "        <matplotlib.axes._subplots.AxesSubplot object at 0x7f7118dd7dc0>,\n",
              "        <matplotlib.axes._subplots.AxesSubplot object at 0x7f7118d921f0>,\n",
              "        <matplotlib.axes._subplots.AxesSubplot object at 0x7f7118dbc640>,\n",
              "        <matplotlib.axes._subplots.AxesSubplot object at 0x7f7118d6d5e0>,\n",
              "        <matplotlib.axes._subplots.AxesSubplot object at 0x7f7118d18d00>],\n",
              "       [<matplotlib.axes._subplots.AxesSubplot object at 0x7f7118ccf490>,\n",
              "        <matplotlib.axes._subplots.AxesSubplot object at 0x7f7118cf8bb0>,\n",
              "        <matplotlib.axes._subplots.AxesSubplot object at 0x7f7118cae310>,\n",
              "        <matplotlib.axes._subplots.AxesSubplot object at 0x7f7118c58a30>,\n",
              "        <matplotlib.axes._subplots.AxesSubplot object at 0x7f7118c0d1f0>,\n",
              "        <matplotlib.axes._subplots.AxesSubplot object at 0x7f7118c36910>,\n",
              "        <matplotlib.axes._subplots.AxesSubplot object at 0x7f7118be10d0>,\n",
              "        <matplotlib.axes._subplots.AxesSubplot object at 0x7f7118b99790>],\n",
              "       [<matplotlib.axes._subplots.AxesSubplot object at 0x7f7118b42eb0>,\n",
              "        <matplotlib.axes._subplots.AxesSubplot object at 0x7f7118b7a610>,\n",
              "        <matplotlib.axes._subplots.AxesSubplot object at 0x7f7118b23d30>,\n",
              "        <matplotlib.axes._subplots.AxesSubplot object at 0x7f7118adb490>,\n",
              "        <matplotlib.axes._subplots.AxesSubplot object at 0x7f7118a81bb0>,\n",
              "        <matplotlib.axes._subplots.AxesSubplot object at 0x7f7118aba310>,\n",
              "        <matplotlib.axes._subplots.AxesSubplot object at 0x7f7118a61a30>,\n",
              "        <matplotlib.axes._subplots.AxesSubplot object at 0x7f7118a19190>],\n",
              "       [<matplotlib.axes._subplots.AxesSubplot object at 0x7f71189c38b0>,\n",
              "        <matplotlib.axes._subplots.AxesSubplot object at 0x7f71189eefd0>,\n",
              "        <matplotlib.axes._subplots.AxesSubplot object at 0x7f71189a3730>,\n",
              "        <matplotlib.axes._subplots.AxesSubplot object at 0x7f711894ee50>,\n",
              "        <matplotlib.axes._subplots.AxesSubplot object at 0x7f71189025b0>,\n",
              "        <matplotlib.axes._subplots.AxesSubplot object at 0x7f711892ccd0>,\n",
              "        <matplotlib.axes._subplots.AxesSubplot object at 0x7f71188e4430>,\n",
              "        <matplotlib.axes._subplots.AxesSubplot object at 0x7f711888db50>],\n",
              "       [<matplotlib.axes._subplots.AxesSubplot object at 0x7f71188452b0>,\n",
              "        <matplotlib.axes._subplots.AxesSubplot object at 0x7f711886da30>,\n",
              "        <matplotlib.axes._subplots.AxesSubplot object at 0x7f71188260d0>,\n",
              "        <matplotlib.axes._subplots.AxesSubplot object at 0x7f71187c19a0>,\n",
              "        <matplotlib.axes._subplots.AxesSubplot object at 0x7f71187f8100>,\n",
              "        <matplotlib.axes._subplots.AxesSubplot object at 0x7f71187a2820>,\n",
              "        <matplotlib.axes._subplots.AxesSubplot object at 0x7f711874cf40>,\n",
              "        <matplotlib.axes._subplots.AxesSubplot object at 0x7f71187026a0>]],\n",
              "      dtype=object)"
            ]
          },
          "metadata": {},
          "execution_count": 29
        },
        {
          "output_type": "display_data",
          "data": {
            "text/plain": [
              "<Figure size 432x288 with 64 Axes>"
            ],
            "image/png": "[encoded data removed]"
          },
          "metadata": {
            "needs_background": "light"
          }
        }
      ]
    },
    {
      "cell_type": "code",
      "source": [
        "df_grouped.columns"
      ],
      "metadata": {
        "colab": {
          "base_uri": "https://localhost:8080/"
        },
        "id": "jL0ONrKjaxSq",
        "outputId": "1bc2fec6-8040-4c4e-ab68-ca6cafe075f3"
      },
      "execution_count": null,
      "outputs": [
        {
          "output_type": "execute_result",
          "data": {
            "text/plain": [
              "Index(['Target', 'PRIMARY_DIAGNOSIS', 'SYMPTOM_TYPE_0', 'DRUG_TYPE_0',\n",
              "       'DRUG_TYPE_1', 'DRUG_TYPE_2', 'TEST_TYPE_0', 'DRUG_TYPE_3',\n",
              "       'DRUG_TYPE_4', 'DRUG_TYPE_5', 'DRUG_TYPE_6', 'DRUG_TYPE_8',\n",
              "       'DRUG_TYPE_7', 'SYMPTOM_TYPE_1', 'DRUG_TYPE_10', 'SYMPTOM_TYPE_29',\n",
              "       'SYMPTOM_TYPE_2', 'DRUG_TYPE_11', 'DRUG_TYPE_9', 'DRUG_TYPE_13',\n",
              "       'SYMPTOM_TYPE_5', 'TEST_TYPE_1', 'SYMPTOM_TYPE_6', 'TEST_TYPE_2',\n",
              "       'SYMPTOM_TYPE_3', 'SYMPTOM_TYPE_8', 'DRUG_TYPE_14', 'DRUG_TYPE_12',\n",
              "       'SYMPTOM_TYPE_9', 'SYMPTOM_TYPE_10', 'SYMPTOM_TYPE_7',\n",
              "       'SYMPTOM_TYPE_11', 'TEST_TYPE_3', 'DRUG_TYPE_15', 'SYMPTOM_TYPE_4',\n",
              "       'SYMPTOM_TYPE_14', 'SYMPTOM_TYPE_13', 'SYMPTOM_TYPE_16',\n",
              "       'SYMPTOM_TYPE_17', 'SYMPTOM_TYPE_15', 'SYMPTOM_TYPE_18',\n",
              "       'SYMPTOM_TYPE_12', 'SYMPTOM_TYPE_20', 'SYMPTOM_TYPE_21', 'DRUG_TYPE_17',\n",
              "       'SYMPTOM_TYPE_22', 'TEST_TYPE_4', 'SYMPTOM_TYPE_23', 'DRUG_TYPE_16',\n",
              "       'TEST_TYPE_5', 'SYMPTOM_TYPE_19', 'SYMPTOM_TYPE_24', 'SYMPTOM_TYPE_25',\n",
              "       'SYMPTOM_TYPE_26', 'SYMPTOM_TYPE_27', 'DRUG_TYPE_18', 'SYMPTOM_TYPE_28',\n",
              "       'TARGET DRUG'],\n",
              "      dtype='object')"
            ]
          },
          "metadata": {},
          "execution_count": 30
        }
      ]
    },
    {
      "cell_type": "code",
      "source": [
        "for column in df_grouped.columns[1:]:\n",
        "    sns.countplot(x=column, data=df_grouped)\n",
        "    plt.show()\n"
      ],
      "metadata": {
        "colab": {
          "base_uri": "https://localhost:8080/",
          "height": 1000
        },
        "id": "49wvRassaqXe",
        "outputId": "d7aecb4a-9079-4e4f-edaf-70b5f757b39d"
      },
      "execution_count": null,
      "outputs": [
        {
          "output_type": "display_data",
          "data": {
            "text/plain": [
              "<Figure size 432x288 with 1 Axes>"
            ],
            "image/png": "[encoded data removed]"
          },
          "metadata": {
            "needs_background": "light"
          }
        },
        {
          "output_type": "display_data",
          "data": {
            "text/plain": [
              "<Figure size 432x288 with 1 Axes>"
            ],
            "image/png": "[encoded data removed]"
          },
          "metadata": {
            "needs_background": "light"
          }
        },
        {
          "output_type": "display_data",
          "data": {
            "text/plain": [
              "<Figure size 432x288 with 1 Axes>"
            ],
            "image/png": "[encoded data removed]"
          },
          "metadata": {
            "needs_background": "light"
          }
        },
        {
          "output_type": "display_data",
          "data": {
            "text/plain": [
              "<Figure size 432x288 with 1 Axes>"
            ],
            "image/png": "[encoded data removed]"
          },
          "metadata": {
            "needs_background": "light"
          }
        },
        {
          "output_type": "display_data",
          "data": {
            "text/plain": [
              "<Figure size 432x288 with 1 Axes>"
            ],
            "image/png": "[encoded data removed]"
          },
          "metadata": {
            "needs_background": "light"
          }
        },
        {
          "output_type": "display_data",
          "data": {
            "text/plain": [
              "<Figure size 432x288 with 1 Axes>"
            ],
            "image/png": "[encoded data removed]"
          },
          "metadata": {
            "needs_background": "light"
          }
        },
        {
          "output_type": "display_data",
          "data": {
            "text/plain": [
              "<Figure size 432x288 with 1 Axes>"
            ],
            "image/png": "[encoded data removed]"
          },
          "metadata": {
            "needs_background": "light"
          }
        },
        {
          "output_type": "display_data",
          "data": {
            "text/plain": [
              "<Figure size 432x288 with 1 Axes>"
            ],
            "image/png": "[encoded data removed]"
          },
          "metadata": {
            "needs_background": "light"
          }
        },
        {
          "output_type": "display_data",
          "data": {
            "text/plain": [
              "<Figure size 432x288 with 1 Axes>"
            ],
            "image/png": "[encoded data removed]"
          },
          "metadata": {
            "needs_background": "light"
          }
        },
        {
          "output_type": "display_data",
          "data": {
            "text/plain": [
              "<Figure size 432x288 with 1 Axes>"
            ],
            "image/png": "[encoded data removed]"
          },
          "metadata": {
            "needs_background": "light"
          }
        },
        {
          "output_type": "display_data",
          "data": {
            "text/plain": [
              "<Figure size 432x288 with 1 Axes>"
            ],
            "image/png": "[encoded data removed]"
          },
          "metadata": {
            "needs_background": "light"
          }
        },
        {
          "output_type": "display_data",
          "data": {
            "text/plain": [
              "<Figure size 432x288 with 1 Axes>"
            ],
            "image/png": "[encoded data removed]"
          },
          "metadata": {
            "needs_background": "light"
          }
        },
        {
          "output_type": "display_data",
          "data": {
            "text/plain": [
              "<Figure size 432x288 with 1 Axes>"
            ],
            "image/png": "[encoded data removed]"
          },
          "metadata": {
            "needs_background": "light"
          }
        },
        {
          "output_type": "display_data",
          "data": {
            "text/plain": [
              "<Figure size 432x288 with 1 Axes>"
            ],
            "image/png": "[encoded data removed]"
          },
          "metadata": {
            "needs_background": "light"
          }
        },
        {
          "output_type": "display_data",
          "data": {
            "text/plain": [
              "<Figure size 432x288 with 1 Axes>"
            ],
            "image/png": "[encoded data removed]"
          },
          "metadata": {
            "needs_background": "light"
          }
        },
        {
          "output_type": "display_data",
          "data": {
            "text/plain": [
              "<Figure size 432x288 with 1 Axes>"
            ],
            "image/png": "[encoded data removed]"
          },
          "metadata": {
            "needs_background": "light"
          }
        },
        {
          "output_type": "display_data",
          "data": {
            "text/plain": [
              "<Figure size 432x288 with 1 Axes>"
            ],
            "image/png": "[encoded data removed]"
          },
          "metadata": {
            "needs_background": "light"
          }
        },
        {
          "output_type": "display_data",
          "data": {
            "text/plain": [
              "<Figure size 432x288 with 1 Axes>"
            ],
            "image/png": "[encoded data removed]"
          },
          "metadata": {
            "needs_background": "light"
          }
        },
        {
          "output_type": "display_data",
          "data": {
            "text/plain": [
              "<Figure size 432x288 with 1 Axes>"
            ],
            "image/png": "[encoded data removed]"
          },
          "metadata": {
            "needs_background": "light"
          }
        },
        {
          "output_type": "display_data",
          "data": {
            "text/plain": [
              "<Figure size 432x288 with 1 Axes>"
            ],
            "image/png": "[encoded data removed]"
          },
          "metadata": {
            "needs_background": "light"
          }
        },
        {
          "output_type": "display_data",
          "data": {
            "text/plain": [
              "<Figure size 432x288 with 1 Axes>"
            ],
            "image/png": "[encoded data removed]"
          },
          "metadata": {
            "needs_background": "light"
          }
        },
        {
          "output_type": "display_data",
          "data": {
            "text/plain": [
              "<Figure size 432x288 with 1 Axes>"
            ],
            "image/png": "[encoded data removed]"
          },
          "metadata": {
            "needs_background": "light"
          }
        },
        {
          "output_type": "display_data",
          "data": {
            "text/plain": [
              "<Figure size 432x288 with 1 Axes>"
            ],
            "image/png": "[encoded data removed]"
          },
          "metadata": {
            "needs_background": "light"
          }
        },
        {
          "output_type": "display_data",
          "data": {
            "text/plain": [
              "<Figure size 432x288 with 1 Axes>"
            ],
            "image/png": "[encoded data removed]"
          },
          "metadata": {
            "needs_background": "light"
          }
        },
        {
          "output_type": "display_data",
          "data": {
            "text/plain": [
              "<Figure size 432x288 with 1 Axes>"
            ],
            "image/png": "[encoded data removed]"
          },
          "metadata": {
            "needs_background": "light"
          }
        },
        {
          "output_type": "display_data",
          "data": {
            "text/plain": [
              "<Figure size 432x288 with 1 Axes>"
            ],
            "image/png": "[encoded data removed]"
          },
          "metadata": {
            "needs_background": "light"
          }
        },
        {
          "output_type": "display_data",
          "data": {
            "text/plain": [
              "<Figure size 432x288 with 1 Axes>"
            ],
            "image/png": "[encoded data removed]"
          },
          "metadata": {
            "needs_background": "light"
          }
        },
        {
          "output_type": "display_data",
          "data": {
            "text/plain": [
              "<Figure size 432x288 with 1 Axes>"
            ],
            "image/png": "[encoded data removed]"
          },
          "metadata": {
            "needs_background": "light"
          }
        },
        {
          "output_type": "display_data",
          "data": {
            "text/plain": [
              "<Figure size 432x288 with 1 Axes>"
            ],
            "image/png": "[encoded data removed]"
          },
          "metadata": {
            "needs_background": "light"
          }
        },
        {
          "output_type": "display_data",
          "data": {
            "text/plain": [
              "<Figure size 432x288 with 1 Axes>"
            ],
            "image/png": "[encoded data removed]"
          },
          "metadata": {
            "needs_background": "light"
          }
        },
        {
          "output_type": "display_data",
          "data": {
            "text/plain": [
              "<Figure size 432x288 with 1 Axes>"
            ],
            "image/png": "[encoded data removed]"
          },
          "metadata": {
            "needs_background": "light"
          }
        },
        {
          "output_type": "display_data",
          "data": {
            "text/plain": [
              "<Figure size 432x288 with 1 Axes>"
            ],
            "image/png": "[encoded data removed]"
          },
          "metadata": {
            "needs_background": "light"
          }
        },
        {
          "output_type": "display_data",
          "data": {
            "text/plain": [
              "<Figure size 432x288 with 1 Axes>"
            ],
            "image/png": "[encoded data removed]"
          },
          "metadata": {
            "needs_background": "light"
          }
        },
        {
          "output_type": "display_data",
          "data": {
            "text/plain": [
              "<Figure size 432x288 with 1 Axes>"
            ],
            "image/png": "[encoded data removed]"
          },
          "metadata": {
            "needs_background": "light"
          }
        },
        {
          "output_type": "display_data",
          "data": {
            "text/plain": [
              "<Figure size 432x288 with 1 Axes>"
            ],
            "image/png": "[encoded data removed]"
          },
          "metadata": {
            "needs_background": "light"
          }
        },
        {
          "output_type": "display_data",
          "data": {
            "text/plain": [
              "<Figure size 432x288 with 1 Axes>"
            ],
            "image/png": "[encoded data removed]"
          },
          "metadata": {
            "needs_background": "light"
          }
        },
        {
          "output_type": "display_data",
          "data": {
            "text/plain": [
              "<Figure size 432x288 with 1 Axes>"
            ],
            "image/png": "[encoded data removed]"
          },
          "metadata": {
            "needs_background": "light"
          }
        },
        {
          "output_type": "display_data",
          "data": {
            "text/plain": [
              "<Figure size 432x288 with 1 Axes>"
            ],
            "image/png": "[encoded data removed]"
          },
          "metadata": {
            "needs_background": "light"
          }
        },
        {
          "output_type": "display_data",
          "data": {
            "text/plain": [
              "<Figure size 432x288 with 1 Axes>"
            ],
            "image/png": "[encoded data removed]"
          },
          "metadata": {
            "needs_background": "light"
          }
        },
        {
          "output_type": "display_data",
          "data": {
            "text/plain": [
              "<Figure size 432x288 with 1 Axes>"
            ],
            "image/png": "[encoded data removed]"
          },
          "metadata": {
            "needs_background": "light"
          }
        },
        {
          "output_type": "display_data",
          "data": {
            "text/plain": [
              "<Figure size 432x288 with 1 Axes>"
            ],
            "image/png": "[encoded data removed]"
          },
          "metadata": {
            "needs_background": "light"
          }
        },
        {
          "output_type": "display_data",
          "data": {
            "text/plain": [
              "<Figure size 432x288 with 1 Axes>"
            ],
            "image/png": "[encoded data removed]"
          },
          "metadata": {
            "needs_background": "light"
          }
        },
        {
          "output_type": "display_data",
          "data": {
            "text/plain": [
              "<Figure size 432x288 with 1 Axes>"
            ],
            "image/png": "[encoded data removed]"
          },
          "metadata": {
            "needs_background": "light"
          }
        },
        {
          "output_type": "display_data",
          "data": {
            "text/plain": [
              "<Figure size 432x288 with 1 Axes>"
            ],
            "image/png": "[encoded data removed]"
          },
          "metadata": {
            "needs_background": "light"
          }
        },
        {
          "output_type": "display_data",
          "data": {
            "text/plain": [
              "<Figure size 432x288 with 1 Axes>"
            ],
            "image/png": "[encoded data removed]"
          },
          "metadata": {
            "needs_background": "light"
          }
        },
        {
          "output_type": "display_data",
          "data": {
            "text/plain": [
              "<Figure size 432x288 with 1 Axes>"
            ],
            "image/png": "[encoded data removed]"
          },
          "metadata": {
            "needs_background": "light"
          }
        },
        {
          "output_type": "display_data",
          "data": {
            "text/plain": [
              "<Figure size 432x288 with 1 Axes>"
            ],
            "image/png": "[encoded data removed]"
          },
          "metadata": {
            "needs_background": "light"
          }
        },
        {
          "output_type": "display_data",
          "data": {
            "text/plain": [
              "<Figure size 432x288 with 1 Axes>"
            ],
            "image/png": "[encoded data removed]"
          },
          "metadata": {
            "needs_background": "light"
          }
        },
        {
          "output_type": "display_data",
          "data": {
            "text/plain": [
              "<Figure size 432x288 with 1 Axes>"
            ],
            "image/png": "[encoded data removed]"
          },
          "metadata": {
            "needs_background": "light"
          }
        },
        {
          "output_type": "display_data",
          "data": {
            "text/plain": [
              "<Figure size 432x288 with 1 Axes>"
            ],
            "image/png": "[encoded data removed]"
          },
          "metadata": {
            "needs_background": "light"
          }
        },
        {
          "output_type": "display_data",
          "data": {
            "text/plain": [
              "<Figure size 432x288 with 1 Axes>"
            ],
            "image/png": "[encoded data removed]"
          },
          "metadata": {
            "needs_background": "light"
          }
        },
        {
          "output_type": "display_data",
          "data": {
            "text/plain": [
              "<Figure size 432x288 with 1 Axes>"
            ],
            "image/png": "[encoded data removed]"
          },
          "metadata": {
            "needs_background": "light"
          }
        },
        {
          "output_type": "display_data",
          "data": {
            "text/plain": [
              "<Figure size 432x288 with 1 Axes>"
            ],
            "image/png": "[encoded data removed]"
          },
          "metadata": {
            "needs_background": "light"
          }
        },
        {
          "output_type": "display_data",
          "data": {
            "text/plain": [
              "<Figure size 432x288 with 1 Axes>"
            ],
            "image/png": "[encoded data removed]"
          },
          "metadata": {
            "needs_background": "light"
          }
        },
        {
          "output_type": "display_data",
          "data": {
            "text/plain": [
              "<Figure size 432x288 with 1 Axes>"
            ],
            "image/png": "[encoded data removed]"
          },
          "metadata": {
            "needs_background": "light"
          }
        },
        {
          "output_type": "display_data",
          "data": {
            "text/plain": [
              "<Figure size 432x288 with 1 Axes>"
            ],
            "image/png": "[encoded data removed]"
          },
          "metadata": {
            "needs_background": "light"
          }
        },
        {
          "output_type": "display_data",
          "data": {
            "text/plain": [
              "<Figure size 432x288 with 1 Axes>"
            ],
            "image/png": "[encoded data removed]"
          },
          "metadata": {
            "needs_background": "light"
          }
        }
      ]
    },
    {
      "cell_type": "code",
      "source": [
        "\n",
        "df_grouped.corr()['Target']"
      ],
      "metadata": {
        "colab": {
          "base_uri": "https://localhost:8080/"
        },
        "id": "tbEa0UFLcIvi",
        "outputId": "913021ad-31d7-42cc-8a5f-db8dd66ce2fd"
      },
      "execution_count": null,
      "outputs": [
        {
          "output_type": "execute_result",
          "data": {
            "text/plain": [
              "Target               1.000000\n",
              "PRIMARY_DIAGNOSIS         NaN\n",
              "SYMPTOM_TYPE_0       0.094158\n",
              "DRUG_TYPE_0          0.006322\n",
              "DRUG_TYPE_1          0.056482\n",
              "DRUG_TYPE_2          0.089157\n",
              "TEST_TYPE_0          0.043374\n",
              "DRUG_TYPE_3          0.178901\n",
              "DRUG_TYPE_4         -0.075330\n",
              "DRUG_TYPE_5         -0.015956\n",
              "DRUG_TYPE_6          0.092047\n",
              "DRUG_TYPE_8          0.008465\n",
              "DRUG_TYPE_7          0.040666\n",
              "SYMPTOM_TYPE_1       0.071296\n",
              "DRUG_TYPE_10         0.097720\n",
              "SYMPTOM_TYPE_29     -0.046314\n",
              "SYMPTOM_TYPE_2       0.025727\n",
              "DRUG_TYPE_11         0.083599\n",
              "DRUG_TYPE_9          0.135726\n",
              "DRUG_TYPE_13         0.046953\n",
              "SYMPTOM_TYPE_5       0.030211\n",
              "TEST_TYPE_1          0.063176\n",
              "SYMPTOM_TYPE_6       0.053864\n",
              "TEST_TYPE_2          0.117671\n",
              "SYMPTOM_TYPE_3       0.010539\n",
              "SYMPTOM_TYPE_8       0.017620\n",
              "DRUG_TYPE_14         0.012793\n",
              "DRUG_TYPE_12         0.047246\n",
              "SYMPTOM_TYPE_9       0.050767\n",
              "SYMPTOM_TYPE_10      0.024010\n",
              "SYMPTOM_TYPE_7       0.075965\n",
              "SYMPTOM_TYPE_11      0.019639\n",
              "TEST_TYPE_3          0.085644\n",
              "DRUG_TYPE_15         0.072609\n",
              "SYMPTOM_TYPE_4       0.023164\n",
              "SYMPTOM_TYPE_14      0.008364\n",
              "SYMPTOM_TYPE_13      0.030301\n",
              "SYMPTOM_TYPE_16      0.038309\n",
              "SYMPTOM_TYPE_17      0.012249\n",
              "SYMPTOM_TYPE_15      0.039522\n",
              "SYMPTOM_TYPE_18      0.007598\n",
              "SYMPTOM_TYPE_12      0.018586\n",
              "SYMPTOM_TYPE_20      0.004577\n",
              "SYMPTOM_TYPE_21     -0.003482\n",
              "DRUG_TYPE_17        -0.004151\n",
              "SYMPTOM_TYPE_22      0.032053\n",
              "TEST_TYPE_4         -0.001002\n",
              "SYMPTOM_TYPE_23     -0.004259\n",
              "DRUG_TYPE_16         0.029705\n",
              "TEST_TYPE_5          0.038668\n",
              "SYMPTOM_TYPE_19      0.017394\n",
              "SYMPTOM_TYPE_24      0.011755\n",
              "SYMPTOM_TYPE_25      0.003927\n",
              "SYMPTOM_TYPE_26      0.011339\n",
              "SYMPTOM_TYPE_27     -0.010301\n",
              "DRUG_TYPE_18        -0.002363\n",
              "SYMPTOM_TYPE_28      0.016286\n",
              "TARGET DRUG          0.533133\n",
              "Name: Target, dtype: float64"
            ]
          },
          "metadata": {},
          "execution_count": 32
        }
      ]
    },
    {
      "cell_type": "code",
      "source": [
        "#DRUG_TYPE_3,DRUG_TYPE_9,TEST_TYPE_2,TARGET DRUG,SYMPTOM_TYPE_0,DRUG_TYPE_2,TEST_TYPE_3,DRUG_TYPE_15,DRUG_TYPE_6,DRUG_TYPE_10"
      ],
      "metadata": {
        "id": "HfkGRO6xd0X1"
      },
      "execution_count": null,
      "outputs": []
    },
    {
      "cell_type": "code",
      "source": [
        "df_grouped['TARGET DRUG'].value_counts()"
      ],
      "metadata": {
        "colab": {
          "base_uri": "https://localhost:8080/"
        },
        "id": "Rw2kaqtohcsv",
        "outputId": "62e03430-10df-466f-e92e-cdb9e360ebf5"
      },
      "execution_count": null,
      "outputs": [
        {
          "output_type": "execute_result",
          "data": {
            "text/plain": [
              "0    17659\n",
              "1     9374\n",
              "Name: TARGET DRUG, dtype: int64"
            ]
          },
          "metadata": {},
          "execution_count": 36
        }
      ]
    },
    {
      "cell_type": "code",
      "source": [
        "# Create an empty DataFrame with the desired column name\n",
        "df2 = pd.DataFrame(columns=['Target'])"
      ],
      "metadata": {
        "id": "aWXFdKKsXeST"
      },
      "execution_count": null,
      "outputs": []
    },
    {
      "cell_type": "code",
      "source": [
        "df2['Target'] = df_grouped['Target']"
      ],
      "metadata": {
        "id": "wsiNz5_2gL7g"
      },
      "execution_count": null,
      "outputs": []
    },
    {
      "cell_type": "code",
      "source": [
        "X = df_grouped.drop(['Target'], axis = 1) #array of features\n",
        "y = df2['Target']#array of targets\n",
        "     "
      ],
      "metadata": {
        "id": "vwuC1e2JgJXP"
      },
      "execution_count": null,
      "outputs": []
    },
    {
      "cell_type": "code",
      "source": [
        "def balance_data(X, y):\n",
        "\n",
        "  smt = SMOTEENN(sampling_strategy='all')\n",
        "  X_smt, y_smt = smt.fit_resample(X, y)\n",
        "  return X_smt, y_smt\n",
        "\n",
        "X = df_grouped.drop(['Target'], axis = 1) #array of features\n",
        "y = df2['Target']#array of targets\n",
        "\n",
        "X_smt, y_smt = balance_data(X, y)"
      ],
      "metadata": {
        "id": "U98hO5bsU8Va"
      },
      "execution_count": null,
      "outputs": []
    },
    {
      "cell_type": "code",
      "source": [
        "from sklearn.model_selection import train_test_split\n",
        "X_train, X_test, y_train, y_test = train_test_split(X_smt, y_smt, test_size=0.2, random_state=0)"
      ],
      "metadata": {
        "id": "pqZa9j91hLhw"
      },
      "execution_count": null,
      "outputs": []
    },
    {
      "cell_type": "code",
      "source": [
        "0.01,0.02,0.03,0.04,0.05,0.06,0.07,0.08,0.09,0.1,0.11,0.12,0.13,0.14,0.15,0.2,0.5,0.7,1"
      ],
      "metadata": {
        "id": "lYKX_cMwAJAb"
      },
      "execution_count": null,
      "outputs": []
    },
    {
      "cell_type": "code",
      "source": [
        "0.1,0.11,0.12,0.13,0.14,0.15,0.2,0.5,0.7,1,1.01,1.02,1.03,1.04,1.05,1.06,1.07,1.08,1.09,2,2.02,2.04"
      ],
      "metadata": {
        "id": "OCK2oT6Bapbw"
      },
      "execution_count": null,
      "outputs": []
    },
    {
      "cell_type": "code",
      "source": [
        "for lr in [0.01,0.02,0.03,0.04,0.05,0.06,0.07,0.08,0.09,0.1,0.11,0.12,0.13,0.14,0.15,0.2,0.5,0.7,1]:\n",
        "  model = xgb.XGBClassifier(learning_rate = lr, n_estimators=100, verbosity = 0) # initialise the model\n",
        "  model.fit(X_train,y_train) #train the model\n",
        "  model.score(X_test, y_test)\n",
        "  print(\"Learning rate : \", lr, \" Train score : \", model.score(X_train,y_train), \" Cross-Val score : \", np.mean(cross_val_score(model, X_train, y_train, cv=10)))"
      ],
      "metadata": {
        "colab": {
          "base_uri": "https://localhost:8080/"
        },
        "id": "CYAtMpgokXX7",
        "outputId": "7ca9032d-c00a-4196-8f59-e37cbdab8aa9"
      },
      "execution_count": null,
      "outputs": [
        {
          "output_type": "stream",
          "name": "stdout",
          "text": [
            "Learning rate :  0.01  Train score :  0.990829586092129  Cross-Val score :  0.990829577076387\n",
            "Learning rate :  0.02  Train score :  0.990829586092129  Cross-Val score :  0.990829577076387\n",
            "Learning rate :  0.03  Train score :  0.990829586092129  Cross-Val score :  0.990829577076387\n",
            "Learning rate :  0.04  Train score :  0.990829586092129  Cross-Val score :  0.990829577076387\n",
            "Learning rate :  0.05  Train score :  0.990829586092129  Cross-Val score :  0.990829577076387\n",
            "Learning rate :  0.06  Train score :  0.9908649930956344  Cross-Val score :  0.990829577076387\n",
            "Learning rate :  0.07  Train score :  0.9909004000991396  Cross-Val score :  0.990829577076387\n",
            "Learning rate :  0.08  Train score :  0.9909712141061502  Cross-Val score :  0.990829577076387\n",
            "Learning rate :  0.09  Train score :  0.9910066211096555  Cross-Val score :  0.9908649753064754\n",
            "Learning rate :  0.1  Train score :  0.9910066211096555  Cross-Val score :  0.9909003860713479\n",
            "Learning rate :  0.11  Train score :  0.9910774351166661  Cross-Val score :  0.9909003860713479\n",
            "Learning rate :  0.12  Train score :  0.9911482491236767  Cross-Val score :  0.9909003860713479\n",
            "Learning rate :  0.13  Train score :  0.9912190631306872  Cross-Val score :  0.9908649627716913\n",
            "Learning rate :  0.14  Train score :  0.9912898771376978  Cross-Val score :  0.9907941663115144\n",
            "Learning rate :  0.15  Train score :  0.9912190631306872  Cross-Val score :  0.9909003735365639\n",
            "Learning rate :  0.2  Train score :  0.9914669121552243  Cross-Val score :  0.9907233573165535\n",
            "Learning rate :  0.5  Train score :  0.9923166802393514  Cross-Val score :  0.9905463285617587\n",
            "Learning rate :  0.7  Train score :  0.9929540063024467  Cross-Val score :  0.9904400962671411\n",
            "Learning rate :  1  Train score :  0.9936267393690472  Cross-Val score :  0.9899089974679736\n"
          ]
        }
      ]
    },
    {
      "cell_type": "code",
      "source": [
        "model = xgb.XGBClassifier(learning_rate = 0.13, n_estimators=100)\n",
        "model.fit(x_train,y_train) #train the model\n",
        "model.score(x_test, y_test) # scoring the model"
      ],
      "metadata": {
        "colab": {
          "base_uri": "https://localhost:8080/"
        },
        "id": "UwwnOb0n2cmq",
        "outputId": "50e7eef6-aa56-4160-8d2f-771f907d5b6c"
      },
      "execution_count": null,
      "outputs": [
        {
          "output_type": "execute_result",
          "data": {
            "text/plain": [
              "0.9907945050276165"
            ]
          },
          "metadata": {},
          "execution_count": 60
        }
      ]
    },
    {
      "cell_type": "code",
      "source": [
        "y_pred = model.predict(x_test)\n",
        "y_pred"
      ],
      "metadata": {
        "colab": {
          "base_uri": "https://localhost:8080/"
        },
        "id": "XnlIwbkP2lHG",
        "outputId": "82f5e269-dffb-4426-a1e4-34077ea17946"
      },
      "execution_count": null,
      "outputs": [
        {
          "output_type": "execute_result",
          "data": {
            "text/plain": [
              "array([0, 0, 1, ..., 1, 0, 1])"
            ]
          },
          "metadata": {},
          "execution_count": 61
        }
      ]
    },
    {
      "cell_type": "code",
      "source": [
        "xgb_score = f1_score(y_test,y_pred)\n",
        "xgb_score"
      ],
      "metadata": {
        "colab": {
          "base_uri": "https://localhost:8080/"
        },
        "id": "RZQxGdwX25z6",
        "outputId": "158278d1-381b-4f1e-ae87-1a0d331f8056"
      },
      "execution_count": null,
      "outputs": [
        {
          "output_type": "execute_result",
          "data": {
            "text/plain": [
              "0.9917794359428355"
            ]
          },
          "metadata": {},
          "execution_count": 62
        }
      ]
    }
  ]
}