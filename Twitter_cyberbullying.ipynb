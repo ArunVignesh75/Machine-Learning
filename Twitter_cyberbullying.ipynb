{
  "nbformat": 4,
  "nbformat_minor": 0,
  "metadata": {
    "colab": {
      "provenance": [],
      "authorship_tag": "ABX9TyP76bDvheSnsadmkQoxB/9L",
      "include_colab_link": true
    },
    "kernelspec": {
      "name": "python3",
      "display_name": "Python 3"
    },
    "language_info": {
      "name": "python"
    }
  },
  "cells": [
    {
      "cell_type": "markdown",
      "metadata": {
        "id": "view-in-github",
        "colab_type": "text"
      },
      "source": [
        "<a href=\"https://colab.research.google.com/github/ArunVignesh75/Machine-Learning/blob/main/Twitter_cyberbullying.ipynb\" target=\"_parent\"><img src=\"https://colab.research.google.com/assets/colab-badge.svg\" alt=\"Open In Colab\"/></a>"
      ]
    },
    {
      "cell_type": "markdown",
      "source": [
        "#Cyber Bullying Classification using RNN"
      ],
      "metadata": {
        "id": "XgXp_gy6LSGG"
      }
    },
    {
      "cell_type": "markdown",
      "source": [
        "#Dataset Description:\n",
        "\n",
        "This dataset is from sources related to the automatic detection of cyber-bullying. The data is from social media platform like Twitter, Wikipedia. The data contain text and labeled as bullying or not. The data contains different types of cyber-bullying like hate speech, aggression, insults and toxicity."
      ],
      "metadata": {
        "id": "fsNWethwLTrS"
      }
    },
    {
      "cell_type": "markdown",
      "source": [
        "#Contents\n",
        "\n",
        "1.Import nescessary Packages\n",
        "\n",
        "2.Load the Dataset\n",
        "\n",
        "3.Pre-Processing the Data\n",
        "\n",
        "4.Split the Dataset\n",
        "\n",
        "5.Initializing the Model\n",
        "\n",
        "6.Evaluating the Model\n"
      ],
      "metadata": {
        "id": "6z3L_keYLT6x"
      }
    },
    {
      "cell_type": "markdown",
      "source": [
        "#Import nescessary Packages"
      ],
      "metadata": {
        "id": "SK8C-S2mNGjQ"
      }
    },
    {
      "cell_type": "code",
      "execution_count": 1,
      "metadata": {
        "id": "OcqG4kRU4MNy"
      },
      "outputs": [],
      "source": [
        "import pandas as pd\n",
        "import re\n",
        "import nltk\n",
        "from sklearn.preprocessing import LabelEncoder\n",
        "from nltk.corpus import stopwords\n",
        "from nltk.stem import PorterStemmer, WordNetLemmatizer\n",
        "from nltk.tokenize import word_tokenize\n",
        "from sklearn.feature_extraction.text import CountVectorizer, TfidfVectorizer"
      ]
    },
    {
      "cell_type": "code",
      "source": [
        "import numpy as np\n",
        "from keras.preprocessing.text import Tokenizer\n",
        "from tensorflow.keras.preprocessing.sequence import pad_sequences\n",
        "from keras.utils import to_categorical\n",
        "from keras.layers import Dense, Embedding, LSTM\n",
        "from keras.models import Sequential\n",
        "from sklearn.model_selection import train_test_split"
      ],
      "metadata": {
        "id": "gFXNlQiaFqUA"
      },
      "execution_count": 2,
      "outputs": []
    },
    {
      "cell_type": "code",
      "source": [
        "# download nltk resources\n",
        "nltk.download('stopwords')\n",
        "nltk.download('punkt')\n",
        "nltk.download('wordnet')"
      ],
      "metadata": {
        "colab": {
          "base_uri": "https://localhost:8080/"
        },
        "id": "E2o2s5Vb70-9",
        "outputId": "1c9ac772-1f18-4fe6-9722-5bc26997ec87"
      },
      "execution_count": 3,
      "outputs": [
        {
          "output_type": "stream",
          "name": "stderr",
          "text": [
            "[nltk_data] Downloading package stopwords to /root/nltk_data...\n",
            "[nltk_data]   Unzipping corpora/stopwords.zip.\n",
            "[nltk_data] Downloading package punkt to /root/nltk_data...\n",
            "[nltk_data]   Unzipping tokenizers/punkt.zip.\n",
            "[nltk_data] Downloading package wordnet to /root/nltk_data...\n"
          ]
        },
        {
          "output_type": "execute_result",
          "data": {
            "text/plain": [
              "True"
            ]
          },
          "metadata": {},
          "execution_count": 3
        }
      ]
    },
    {
      "cell_type": "code",
      "source": [
        "# define stop words\n",
        "stop_words = set(stopwords.words('english'))"
      ],
      "metadata": {
        "id": "zBzueRxu7-td"
      },
      "execution_count": 4,
      "outputs": []
    },
    {
      "cell_type": "markdown",
      "source": [
        "#Loading the Dataset"
      ],
      "metadata": {
        "id": "tOUioGSGNViF"
      }
    },
    {
      "cell_type": "code",
      "source": [
        "df = pd.read_csv(\"twitter_parsed_dataset.csv\")\n",
        "df"
      ],
      "metadata": {
        "colab": {
          "base_uri": "https://localhost:8080/",
          "height": 468
        },
        "id": "Ol4EqQxLxTEr",
        "outputId": "434cd258-f19b-4108-8903-4c87db20c1c4"
      },
      "execution_count": 5,
      "outputs": [
        {
          "output_type": "execute_result",
          "data": {
            "text/plain": [
              "                       index                     id  \\\n",
              "0      5.74948705591165E+017  5.74948705591165E+017   \n",
              "1      5.71917888690393E+017  5.71917888690393E+017   \n",
              "2      3.90255841338601E+017  3.90255841338601E+017   \n",
              "3      5.68208850655916E+017  5.68208850655916E+017   \n",
              "4      5.75596338802373E+017  5.75596338802373E+017   \n",
              "...                      ...                    ...   \n",
              "16846  5.75606766236475E+017  5.75606766236475E+017   \n",
              "16847  5.72333822886326E+017  5.72333822886326E+017   \n",
              "16848  5.72326950057845E+017  5.72326950057845E+017   \n",
              "16849  5.74799612642357E+017  5.74799612642357E+017   \n",
              "16850  5.68826121153684E+017  5.68826121153684E+017   \n",
              "\n",
              "                                                    Text Annotation  oh_label  \n",
              "0      @halalflaws @biebervalue @greenlinerzjm I read...       none       0.0  \n",
              "1      @ShreyaBafna3 Now you idiots claim that people...       none       0.0  \n",
              "2      RT @Mooseoftorment Call me sexist, but when I ...     sexism       1.0  \n",
              "3      @g0ssipsquirrelx Wrong, ISIS follows the examp...     racism       1.0  \n",
              "4                                 #mkr No No No No No No       none       0.0  \n",
              "...                                                  ...        ...       ...  \n",
              "16846  Feeling so sorry for the girls, they should be...       none       0.0  \n",
              "16847  #MKR 'pretty good dishes we're happy with' - O...       none       0.0  \n",
              "16848  RT @colonelkickhead: Deconstructed lemon tart!...       none       0.0  \n",
              "16849  @versacezaynx @nyazpolitics @greenlinerzjm You...       none       0.0  \n",
              "16850  And before you protest that you're *not* mad, ...       none       0.0  \n",
              "\n",
              "[16851 rows x 5 columns]"
            ],
            "text/html": [
              "\n",
              "  <div id=\"df-ebf83ee9-5059-4c25-9c78-b919003e1e0e\">\n",
              "    <div class=\"colab-df-container\">\n",
              "      <div>\n",
              "<style scoped>\n",
              "    .dataframe tbody tr th:only-of-type {\n",
              "        vertical-align: middle;\n",
              "    }\n",
              "\n",
              "    .dataframe tbody tr th {\n",
              "        vertical-align: top;\n",
              "    }\n",
              "\n",
              "    .dataframe thead th {\n",
              "        text-align: right;\n",
              "    }\n",
              "</style>\n",
              "<table border=\"1\" class=\"dataframe\">\n",
              "  <thead>\n",
              "    <tr style=\"text-align: right;\">\n",
              "      <th></th>\n",
              "      <th>index</th>\n",
              "      <th>id</th>\n",
              "      <th>Text</th>\n",
              "      <th>Annotation</th>\n",
              "      <th>oh_label</th>\n",
              "    </tr>\n",
              "  </thead>\n",
              "  <tbody>\n",
              "    <tr>\n",
              "      <th>0</th>\n",
              "      <td>5.74948705591165E+017</td>\n",
              "      <td>5.74948705591165E+017</td>\n",
              "      <td>@halalflaws @biebervalue @greenlinerzjm I read...</td>\n",
              "      <td>none</td>\n",
              "      <td>0.0</td>\n",
              "    </tr>\n",
              "    <tr>\n",
              "      <th>1</th>\n",
              "      <td>5.71917888690393E+017</td>\n",
              "      <td>5.71917888690393E+017</td>\n",
              "      <td>@ShreyaBafna3 Now you idiots claim that people...</td>\n",
              "      <td>none</td>\n",
              "      <td>0.0</td>\n",
              "    </tr>\n",
              "    <tr>\n",
              "      <th>2</th>\n",
              "      <td>3.90255841338601E+017</td>\n",
              "      <td>3.90255841338601E+017</td>\n",
              "      <td>RT @Mooseoftorment Call me sexist, but when I ...</td>\n",
              "      <td>sexism</td>\n",
              "      <td>1.0</td>\n",
              "    </tr>\n",
              "    <tr>\n",
              "      <th>3</th>\n",
              "      <td>5.68208850655916E+017</td>\n",
              "      <td>5.68208850655916E+017</td>\n",
              "      <td>@g0ssipsquirrelx Wrong, ISIS follows the examp...</td>\n",
              "      <td>racism</td>\n",
              "      <td>1.0</td>\n",
              "    </tr>\n",
              "    <tr>\n",
              "      <th>4</th>\n",
              "      <td>5.75596338802373E+017</td>\n",
              "      <td>5.75596338802373E+017</td>\n",
              "      <td>#mkr No No No No No No</td>\n",
              "      <td>none</td>\n",
              "      <td>0.0</td>\n",
              "    </tr>\n",
              "    <tr>\n",
              "      <th>...</th>\n",
              "      <td>...</td>\n",
              "      <td>...</td>\n",
              "      <td>...</td>\n",
              "      <td>...</td>\n",
              "      <td>...</td>\n",
              "    </tr>\n",
              "    <tr>\n",
              "      <th>16846</th>\n",
              "      <td>5.75606766236475E+017</td>\n",
              "      <td>5.75606766236475E+017</td>\n",
              "      <td>Feeling so sorry for the girls, they should be...</td>\n",
              "      <td>none</td>\n",
              "      <td>0.0</td>\n",
              "    </tr>\n",
              "    <tr>\n",
              "      <th>16847</th>\n",
              "      <td>5.72333822886326E+017</td>\n",
              "      <td>5.72333822886326E+017</td>\n",
              "      <td>#MKR 'pretty good dishes we're happy with' - O...</td>\n",
              "      <td>none</td>\n",
              "      <td>0.0</td>\n",
              "    </tr>\n",
              "    <tr>\n",
              "      <th>16848</th>\n",
              "      <td>5.72326950057845E+017</td>\n",
              "      <td>5.72326950057845E+017</td>\n",
              "      <td>RT @colonelkickhead: Deconstructed lemon tart!...</td>\n",
              "      <td>none</td>\n",
              "      <td>0.0</td>\n",
              "    </tr>\n",
              "    <tr>\n",
              "      <th>16849</th>\n",
              "      <td>5.74799612642357E+017</td>\n",
              "      <td>5.74799612642357E+017</td>\n",
              "      <td>@versacezaynx @nyazpolitics @greenlinerzjm You...</td>\n",
              "      <td>none</td>\n",
              "      <td>0.0</td>\n",
              "    </tr>\n",
              "    <tr>\n",
              "      <th>16850</th>\n",
              "      <td>5.68826121153684E+017</td>\n",
              "      <td>5.68826121153684E+017</td>\n",
              "      <td>And before you protest that you're *not* mad, ...</td>\n",
              "      <td>none</td>\n",
              "      <td>0.0</td>\n",
              "    </tr>\n",
              "  </tbody>\n",
              "</table>\n",
              "<p>16851 rows × 5 columns</p>\n",
              "</div>\n",
              "      <button class=\"colab-df-convert\" onclick=\"convertToInteractive('df-ebf83ee9-5059-4c25-9c78-b919003e1e0e')\"\n",
              "              title=\"Convert this dataframe to an interactive table.\"\n",
              "              style=\"display:none;\">\n",
              "        \n",
              "  <svg xmlns=\"http://www.w3.org/2000/svg\" height=\"24px\"viewBox=\"0 0 24 24\"\n",
              "       width=\"24px\">\n",
              "    <path d=\"M0 0h24v24H0V0z\" fill=\"none\"/>\n",
              "    <path d=\"M18.56 5.44l.94 2.06.94-2.06 2.06-.94-2.06-.94-.94-2.06-.94 2.06-2.06.94zm-11 1L8.5 8.5l.94-2.06 2.06-.94-2.06-.94L8.5 2.5l-.94 2.06-2.06.94zm10 10l.94 2.06.94-2.06 2.06-.94-2.06-.94-.94-2.06-.94 2.06-2.06.94z\"/><path d=\"M17.41 7.96l-1.37-1.37c-.4-.4-.92-.59-1.43-.59-.52 0-1.04.2-1.43.59L10.3 9.45l-7.72 7.72c-.78.78-.78 2.05 0 2.83L4 21.41c.39.39.9.59 1.41.59.51 0 1.02-.2 1.41-.59l7.78-7.78 2.81-2.81c.8-.78.8-2.07 0-2.86zM5.41 20L4 18.59l7.72-7.72 1.47 1.35L5.41 20z\"/>\n",
              "  </svg>\n",
              "      </button>\n",
              "      \n",
              "  <style>\n",
              "    .colab-df-container {\n",
              "      display:flex;\n",
              "      flex-wrap:wrap;\n",
              "      gap: 12px;\n",
              "    }\n",
              "\n",
              "    .colab-df-convert {\n",
              "      background-color: #E8F0FE;\n",
              "      border: none;\n",
              "      border-radius: 50%;\n",
              "      cursor: pointer;\n",
              "      display: none;\n",
              "      fill: #1967D2;\n",
              "      height: 32px;\n",
              "      padding: 0 0 0 0;\n",
              "      width: 32px;\n",
              "    }\n",
              "\n",
              "    .colab-df-convert:hover {\n",
              "      background-color: #E2EBFA;\n",
              "      box-shadow: 0px 1px 2px rgba(60, 64, 67, 0.3), 0px 1px 3px 1px rgba(60, 64, 67, 0.15);\n",
              "      fill: #174EA6;\n",
              "    }\n",
              "\n",
              "    [theme=dark] .colab-df-convert {\n",
              "      background-color: #3B4455;\n",
              "      fill: #D2E3FC;\n",
              "    }\n",
              "\n",
              "    [theme=dark] .colab-df-convert:hover {\n",
              "      background-color: #434B5C;\n",
              "      box-shadow: 0px 1px 3px 1px rgba(0, 0, 0, 0.15);\n",
              "      filter: drop-shadow(0px 1px 2px rgba(0, 0, 0, 0.3));\n",
              "      fill: #FFFFFF;\n",
              "    }\n",
              "  </style>\n",
              "\n",
              "      <script>\n",
              "        const buttonEl =\n",
              "          document.querySelector('#df-ebf83ee9-5059-4c25-9c78-b919003e1e0e button.colab-df-convert');\n",
              "        buttonEl.style.display =\n",
              "          google.colab.kernel.accessAllowed ? 'block' : 'none';\n",
              "\n",
              "        async function convertToInteractive(key) {\n",
              "          const element = document.querySelector('#df-ebf83ee9-5059-4c25-9c78-b919003e1e0e');\n",
              "          const dataTable =\n",
              "            await google.colab.kernel.invokeFunction('convertToInteractive',\n",
              "                                                     [key], {});\n",
              "          if (!dataTable) return;\n",
              "\n",
              "          const docLinkHtml = 'Like what you see? Visit the ' +\n",
              "            '<a target=\"_blank\" href=https://colab.research.google.com/notebooks/data_table.ipynb>data table notebook</a>'\n",
              "            + ' to learn more about interactive tables.';\n",
              "          element.innerHTML = '';\n",
              "          dataTable['output_type'] = 'display_data';\n",
              "          await google.colab.output.renderOutput(dataTable, element);\n",
              "          const docLink = document.createElement('div');\n",
              "          docLink.innerHTML = docLinkHtml;\n",
              "          element.appendChild(docLink);\n",
              "        }\n",
              "      </script>\n",
              "    </div>\n",
              "  </div>\n",
              "  "
            ]
          },
          "metadata": {},
          "execution_count": 5
        }
      ]
    },
    {
      "cell_type": "code",
      "source": [
        "df.info()"
      ],
      "metadata": {
        "colab": {
          "base_uri": "https://localhost:8080/"
        },
        "id": "5AvaRNIn010m",
        "outputId": "3bbff149-c69a-4730-9d79-f1188daedd82"
      },
      "execution_count": 6,
      "outputs": [
        {
          "output_type": "stream",
          "name": "stdout",
          "text": [
            "<class 'pandas.core.frame.DataFrame'>\n",
            "RangeIndex: 16851 entries, 0 to 16850\n",
            "Data columns (total 5 columns):\n",
            " #   Column      Non-Null Count  Dtype  \n",
            "---  ------      --------------  -----  \n",
            " 0   index       16851 non-null  object \n",
            " 1   id          16850 non-null  object \n",
            " 2   Text        16850 non-null  object \n",
            " 3   Annotation  16848 non-null  object \n",
            " 4   oh_label    16848 non-null  float64\n",
            "dtypes: float64(1), object(4)\n",
            "memory usage: 658.4+ KB\n"
          ]
        }
      ]
    },
    {
      "cell_type": "markdown",
      "source": [
        "#Checking for Null values"
      ],
      "metadata": {
        "id": "SNMAmt1MNiIo"
      }
    },
    {
      "cell_type": "code",
      "source": [
        "df.isnull().sum()"
      ],
      "metadata": {
        "colab": {
          "base_uri": "https://localhost:8080/"
        },
        "id": "ejkwseNa08hf",
        "outputId": "9e7ced9b-38c4-4eb6-eabe-d10cbfc5d74a"
      },
      "execution_count": 7,
      "outputs": [
        {
          "output_type": "execute_result",
          "data": {
            "text/plain": [
              "index         0\n",
              "id            1\n",
              "Text          1\n",
              "Annotation    3\n",
              "oh_label      3\n",
              "dtype: int64"
            ]
          },
          "metadata": {},
          "execution_count": 7
        }
      ]
    },
    {
      "cell_type": "code",
      "source": [
        "#Dropping the null values\n",
        "df = df.dropna()"
      ],
      "metadata": {
        "id": "3HBu5Uch1D3d"
      },
      "execution_count": 8,
      "outputs": []
    },
    {
      "cell_type": "code",
      "source": [
        "df.isnull().sum()"
      ],
      "metadata": {
        "colab": {
          "base_uri": "https://localhost:8080/"
        },
        "id": "FPq-ue0N1Rto",
        "outputId": "13298e45-0273-4615-989e-91f8b9451562"
      },
      "execution_count": 9,
      "outputs": [
        {
          "output_type": "execute_result",
          "data": {
            "text/plain": [
              "index         0\n",
              "id            0\n",
              "Text          0\n",
              "Annotation    0\n",
              "oh_label      0\n",
              "dtype: int64"
            ]
          },
          "metadata": {},
          "execution_count": 9
        }
      ]
    },
    {
      "cell_type": "code",
      "source": [
        "df.describe()"
      ],
      "metadata": {
        "colab": {
          "base_uri": "https://localhost:8080/",
          "height": 300
        },
        "id": "loqco-Mv1WvV",
        "outputId": "2912b54e-f64b-4891-b47b-f501e2635dd0"
      },
      "execution_count": 10,
      "outputs": [
        {
          "output_type": "execute_result",
          "data": {
            "text/plain": [
              "           oh_label\n",
              "count  16848.000000\n",
              "mean       0.317367\n",
              "std        0.465465\n",
              "min        0.000000\n",
              "25%        0.000000\n",
              "50%        0.000000\n",
              "75%        1.000000\n",
              "max        1.000000"
            ],
            "text/html": [
              "\n",
              "  <div id=\"df-c8d93e7c-b474-45f6-be59-73fc42dc3c36\">\n",
              "    <div class=\"colab-df-container\">\n",
              "      <div>\n",
              "<style scoped>\n",
              "    .dataframe tbody tr th:only-of-type {\n",
              "        vertical-align: middle;\n",
              "    }\n",
              "\n",
              "    .dataframe tbody tr th {\n",
              "        vertical-align: top;\n",
              "    }\n",
              "\n",
              "    .dataframe thead th {\n",
              "        text-align: right;\n",
              "    }\n",
              "</style>\n",
              "<table border=\"1\" class=\"dataframe\">\n",
              "  <thead>\n",
              "    <tr style=\"text-align: right;\">\n",
              "      <th></th>\n",
              "      <th>oh_label</th>\n",
              "    </tr>\n",
              "  </thead>\n",
              "  <tbody>\n",
              "    <tr>\n",
              "      <th>count</th>\n",
              "      <td>16848.000000</td>\n",
              "    </tr>\n",
              "    <tr>\n",
              "      <th>mean</th>\n",
              "      <td>0.317367</td>\n",
              "    </tr>\n",
              "    <tr>\n",
              "      <th>std</th>\n",
              "      <td>0.465465</td>\n",
              "    </tr>\n",
              "    <tr>\n",
              "      <th>min</th>\n",
              "      <td>0.000000</td>\n",
              "    </tr>\n",
              "    <tr>\n",
              "      <th>25%</th>\n",
              "      <td>0.000000</td>\n",
              "    </tr>\n",
              "    <tr>\n",
              "      <th>50%</th>\n",
              "      <td>0.000000</td>\n",
              "    </tr>\n",
              "    <tr>\n",
              "      <th>75%</th>\n",
              "      <td>1.000000</td>\n",
              "    </tr>\n",
              "    <tr>\n",
              "      <th>max</th>\n",
              "      <td>1.000000</td>\n",
              "    </tr>\n",
              "  </tbody>\n",
              "</table>\n",
              "</div>\n",
              "      <button class=\"colab-df-convert\" onclick=\"convertToInteractive('df-c8d93e7c-b474-45f6-be59-73fc42dc3c36')\"\n",
              "              title=\"Convert this dataframe to an interactive table.\"\n",
              "              style=\"display:none;\">\n",
              "        \n",
              "  <svg xmlns=\"http://www.w3.org/2000/svg\" height=\"24px\"viewBox=\"0 0 24 24\"\n",
              "       width=\"24px\">\n",
              "    <path d=\"M0 0h24v24H0V0z\" fill=\"none\"/>\n",
              "    <path d=\"M18.56 5.44l.94 2.06.94-2.06 2.06-.94-2.06-.94-.94-2.06-.94 2.06-2.06.94zm-11 1L8.5 8.5l.94-2.06 2.06-.94-2.06-.94L8.5 2.5l-.94 2.06-2.06.94zm10 10l.94 2.06.94-2.06 2.06-.94-2.06-.94-.94-2.06-.94 2.06-2.06.94z\"/><path d=\"M17.41 7.96l-1.37-1.37c-.4-.4-.92-.59-1.43-.59-.52 0-1.04.2-1.43.59L10.3 9.45l-7.72 7.72c-.78.78-.78 2.05 0 2.83L4 21.41c.39.39.9.59 1.41.59.51 0 1.02-.2 1.41-.59l7.78-7.78 2.81-2.81c.8-.78.8-2.07 0-2.86zM5.41 20L4 18.59l7.72-7.72 1.47 1.35L5.41 20z\"/>\n",
              "  </svg>\n",
              "      </button>\n",
              "      \n",
              "  <style>\n",
              "    .colab-df-container {\n",
              "      display:flex;\n",
              "      flex-wrap:wrap;\n",
              "      gap: 12px;\n",
              "    }\n",
              "\n",
              "    .colab-df-convert {\n",
              "      background-color: #E8F0FE;\n",
              "      border: none;\n",
              "      border-radius: 50%;\n",
              "      cursor: pointer;\n",
              "      display: none;\n",
              "      fill: #1967D2;\n",
              "      height: 32px;\n",
              "      padding: 0 0 0 0;\n",
              "      width: 32px;\n",
              "    }\n",
              "\n",
              "    .colab-df-convert:hover {\n",
              "      background-color: #E2EBFA;\n",
              "      box-shadow: 0px 1px 2px rgba(60, 64, 67, 0.3), 0px 1px 3px 1px rgba(60, 64, 67, 0.15);\n",
              "      fill: #174EA6;\n",
              "    }\n",
              "\n",
              "    [theme=dark] .colab-df-convert {\n",
              "      background-color: #3B4455;\n",
              "      fill: #D2E3FC;\n",
              "    }\n",
              "\n",
              "    [theme=dark] .colab-df-convert:hover {\n",
              "      background-color: #434B5C;\n",
              "      box-shadow: 0px 1px 3px 1px rgba(0, 0, 0, 0.15);\n",
              "      filter: drop-shadow(0px 1px 2px rgba(0, 0, 0, 0.3));\n",
              "      fill: #FFFFFF;\n",
              "    }\n",
              "  </style>\n",
              "\n",
              "      <script>\n",
              "        const buttonEl =\n",
              "          document.querySelector('#df-c8d93e7c-b474-45f6-be59-73fc42dc3c36 button.colab-df-convert');\n",
              "        buttonEl.style.display =\n",
              "          google.colab.kernel.accessAllowed ? 'block' : 'none';\n",
              "\n",
              "        async function convertToInteractive(key) {\n",
              "          const element = document.querySelector('#df-c8d93e7c-b474-45f6-be59-73fc42dc3c36');\n",
              "          const dataTable =\n",
              "            await google.colab.kernel.invokeFunction('convertToInteractive',\n",
              "                                                     [key], {});\n",
              "          if (!dataTable) return;\n",
              "\n",
              "          const docLinkHtml = 'Like what you see? Visit the ' +\n",
              "            '<a target=\"_blank\" href=https://colab.research.google.com/notebooks/data_table.ipynb>data table notebook</a>'\n",
              "            + ' to learn more about interactive tables.';\n",
              "          element.innerHTML = '';\n",
              "          dataTable['output_type'] = 'display_data';\n",
              "          await google.colab.output.renderOutput(dataTable, element);\n",
              "          const docLink = document.createElement('div');\n",
              "          docLink.innerHTML = docLinkHtml;\n",
              "          element.appendChild(docLink);\n",
              "        }\n",
              "      </script>\n",
              "    </div>\n",
              "  </div>\n",
              "  "
            ]
          },
          "metadata": {},
          "execution_count": 10
        }
      ]
    },
    {
      "cell_type": "markdown",
      "source": [
        "#Pre-Processing the Data"
      ],
      "metadata": {
        "id": "dpGS1GzENxXV"
      }
    },
    {
      "cell_type": "code",
      "source": [
        "label_names = ['none', 'racism', 'sexism']\n"
      ],
      "metadata": {
        "id": "0X9XMnZgXDmG"
      },
      "execution_count": 11,
      "outputs": []
    },
    {
      "cell_type": "code",
      "source": [
        "# initialize lemmatizer\n",
        "lemmatizer = WordNetLemmatizer()"
      ],
      "metadata": {
        "id": "ou4BB8lx8E1g"
      },
      "execution_count": 12,
      "outputs": []
    },
    {
      "cell_type": "code",
      "source": [
        "def preprocess_text(text):\n",
        "    # convert text to lowercase and remove punctuations\n",
        "    text = text.lower()\n",
        "    text = re.sub(r'[^\\w\\s]', '', text)\n",
        "\n",
        "    # remove words starting with @ symbol\n",
        "    text = re.sub(r'@\\w+', '', text)\n",
        "\n",
        "    # tokenize the text\n",
        "    tokens = word_tokenize(text)\n",
        "\n",
        "    # remove stop words\n",
        "    tokens = [token for token in tokens if token not in stop_words]\n",
        "\n",
        "    # apply lemmatization\n",
        "    tokens_lemmatized = [lemmatizer.lemmatize(token) for token in tokens]\n",
        "\n",
        "    # remove symbols other than text\n",
        "    tokens_lemmatized = [re.sub(r'[^a-zA-Z0-9]', '', token) for token in tokens_lemmatized]\n",
        "\n",
        "    return ' '.join(tokens_lemmatized)\n",
        "\n",
        "df['Text_preprocessed'] = df['Text'].apply(preprocess_text)"
      ],
      "metadata": {
        "colab": {
          "base_uri": "https://localhost:8080/"
        },
        "id": "WArJWWGabeSG",
        "outputId": "f78159ff-e79c-4ad8-8bfe-ab809ea39ed0"
      },
      "execution_count": 15,
      "outputs": [
        {
          "output_type": "stream",
          "name": "stderr",
          "text": [
            "<ipython-input-15-0e8d7ea4db79>:23: SettingWithCopyWarning: \n",
            "A value is trying to be set on a copy of a slice from a DataFrame.\n",
            "Try using .loc[row_indexer,col_indexer] = value instead\n",
            "\n",
            "See the caveats in the documentation: https://pandas.pydata.org/pandas-docs/stable/user_guide/indexing.html#returning-a-view-versus-a-copy\n",
            "  df['Text_preprocessed'] = df['Text'].apply(preprocess_text)\n"
          ]
        }
      ]
    },
    {
      "cell_type": "code",
      "source": [
        "df['Text_preprocessed']"
      ],
      "metadata": {
        "colab": {
          "base_uri": "https://localhost:8080/"
        },
        "id": "37l1iojo828W",
        "outputId": "46c0f2e2-fbdc-49bb-ba90-8265cebf42c2"
      },
      "execution_count": 16,
      "outputs": [
        {
          "output_type": "execute_result",
          "data": {
            "text/plain": [
              "0        halalflaws biebervalue greenlinerzjm read cont...\n",
              "1        shreyabafna3 idiot claim people tried stop bec...\n",
              "2        rt mooseoftorment call sexist go auto place id...\n",
              "3        g0ssipsquirrelx wrong isi follows example moha...\n",
              "4                                                      mkr\n",
              "                               ...                        \n",
              "16846     feeling sorry girl safe kat andre going home mkr\n",
              "16847    mkr pretty good dish happy ok well im never ea...\n",
              "16848    rt colonelkickhead deconstructed lemon tartcan...\n",
              "16849    versacezaynx nyazpolitics greenlinerzjm stupid...\n",
              "16850    protest youre mad there much reason youd tweet...\n",
              "Name: Text_preprocessed, Length: 16848, dtype: object"
            ]
          },
          "metadata": {},
          "execution_count": 16
        }
      ]
    },
    {
      "cell_type": "code",
      "source": [
        "# Find maximum length\n",
        "max_len = 0\n",
        "for text in df['Text_preprocessed']:\n",
        "    if len(text) > max_len:\n",
        "        max_len = len(text)\n",
        "print(f'Maximum tweet length: {max_len}')\n"
      ],
      "metadata": {
        "colab": {
          "base_uri": "https://localhost:8080/"
        },
        "id": "PtRgwLh68b3s",
        "outputId": "6a12bb8f-b69b-458e-a2f4-d8bdf8a8d93c"
      },
      "execution_count": 17,
      "outputs": [
        {
          "output_type": "stream",
          "name": "stdout",
          "text": [
            "Maximum tweet length: 132\n"
          ]
        }
      ]
    },
    {
      "cell_type": "markdown",
      "source": [
        "Encoding the Target Variable"
      ],
      "metadata": {
        "id": "tBYVoaJeODip"
      }
    },
    {
      "cell_type": "code",
      "source": [
        "# Convert target variable to numerical values\n",
        "le = LabelEncoder()\n",
        "df['Annotation_num'] = le.fit_transform(df['Annotation'])"
      ],
      "metadata": {
        "colab": {
          "base_uri": "https://localhost:8080/"
        },
        "id": "AgjkoknAJVzj",
        "outputId": "2c6b1435-57ab-496a-a443-7e36c2587a11"
      },
      "execution_count": 18,
      "outputs": [
        {
          "output_type": "stream",
          "name": "stderr",
          "text": [
            "<ipython-input-18-eea89c79f286>:3: SettingWithCopyWarning: \n",
            "A value is trying to be set on a copy of a slice from a DataFrame.\n",
            "Try using .loc[row_indexer,col_indexer] = value instead\n",
            "\n",
            "See the caveats in the documentation: https://pandas.pydata.org/pandas-docs/stable/user_guide/indexing.html#returning-a-view-versus-a-copy\n",
            "  df['Annotation_num'] = le.fit_transform(df['Annotation'])\n"
          ]
        }
      ]
    },
    {
      "cell_type": "code",
      "source": [
        "# vectorize the preprocessed text using Tf-Idf\n",
        "vectorizer_tfidf = TfidfVectorizer()\n",
        "vectorizer_tfidf.fit_transform(df['Text_preprocessed'])\n",
        "\n",
        "# convert preprocessed text to word embeddings\n",
        "# code not shown, as this requires pre-trained word embeddings"
      ],
      "metadata": {
        "colab": {
          "base_uri": "https://localhost:8080/"
        },
        "id": "VgfnOops8b-b",
        "outputId": "22de0f56-aa53-4e93-ed0a-27d4ae6ba957"
      },
      "execution_count": 19,
      "outputs": [
        {
          "output_type": "execute_result",
          "data": {
            "text/plain": [
              "<16848x24054 sparse matrix of type '<class 'numpy.float64'>'\n",
              "\twith 152470 stored elements in Compressed Sparse Row format>"
            ]
          },
          "metadata": {},
          "execution_count": 19
        }
      ]
    },
    {
      "cell_type": "code",
      "source": [
        "tokenizer = Tokenizer(num_words=5000, split=' ')\n",
        "tokenizer.fit_on_texts(df['Text_preprocessed'].values)\n",
        "X = tokenizer.texts_to_sequences(df['Text_preprocessed'].values)\n",
        "X = pad_sequences(X, maxlen=max_len)"
      ],
      "metadata": {
        "id": "zuajnFjs_cHK"
      },
      "execution_count": 20,
      "outputs": []
    },
    {
      "cell_type": "code",
      "source": [
        "df"
      ],
      "metadata": {
        "colab": {
          "base_uri": "https://localhost:8080/",
          "height": 904
        },
        "id": "zH4v4LH3Jusj",
        "outputId": "8a320751-656d-4e68-ffa8-b48535241ef5"
      },
      "execution_count": 21,
      "outputs": [
        {
          "output_type": "execute_result",
          "data": {
            "text/plain": [
              "                       index                     id  \\\n",
              "0      5.74948705591165E+017  5.74948705591165E+017   \n",
              "1      5.71917888690393E+017  5.71917888690393E+017   \n",
              "2      3.90255841338601E+017  3.90255841338601E+017   \n",
              "3      5.68208850655916E+017  5.68208850655916E+017   \n",
              "4      5.75596338802373E+017  5.75596338802373E+017   \n",
              "...                      ...                    ...   \n",
              "16846  5.75606766236475E+017  5.75606766236475E+017   \n",
              "16847  5.72333822886326E+017  5.72333822886326E+017   \n",
              "16848  5.72326950057845E+017  5.72326950057845E+017   \n",
              "16849  5.74799612642357E+017  5.74799612642357E+017   \n",
              "16850  5.68826121153684E+017  5.68826121153684E+017   \n",
              "\n",
              "                                                    Text Annotation  oh_label  \\\n",
              "0      @halalflaws @biebervalue @greenlinerzjm I read...       none       0.0   \n",
              "1      @ShreyaBafna3 Now you idiots claim that people...       none       0.0   \n",
              "2      RT @Mooseoftorment Call me sexist, but when I ...     sexism       1.0   \n",
              "3      @g0ssipsquirrelx Wrong, ISIS follows the examp...     racism       1.0   \n",
              "4                                 #mkr No No No No No No       none       0.0   \n",
              "...                                                  ...        ...       ...   \n",
              "16846  Feeling so sorry for the girls, they should be...       none       0.0   \n",
              "16847  #MKR 'pretty good dishes we're happy with' - O...       none       0.0   \n",
              "16848  RT @colonelkickhead: Deconstructed lemon tart!...       none       0.0   \n",
              "16849  @versacezaynx @nyazpolitics @greenlinerzjm You...       none       0.0   \n",
              "16850  And before you protest that you're *not* mad, ...       none       0.0   \n",
              "\n",
              "                                       Text_preprocessed  Annotation_num  \n",
              "0      halalflaws biebervalue greenlinerzjm read cont...               0  \n",
              "1      shreyabafna3 idiot claim people tried stop bec...               0  \n",
              "2      rt mooseoftorment call sexist go auto place id...               2  \n",
              "3      g0ssipsquirrelx wrong isi follows example moha...               1  \n",
              "4                                                    mkr               0  \n",
              "...                                                  ...             ...  \n",
              "16846   feeling sorry girl safe kat andre going home mkr               0  \n",
              "16847  mkr pretty good dish happy ok well im never ea...               0  \n",
              "16848  rt colonelkickhead deconstructed lemon tartcan...               0  \n",
              "16849  versacezaynx nyazpolitics greenlinerzjm stupid...               0  \n",
              "16850  protest youre mad there much reason youd tweet...               0  \n",
              "\n",
              "[16848 rows x 7 columns]"
            ],
            "text/html": [
              "\n",
              "  <div id=\"df-4de26a35-0407-4985-9790-9b28976e9e13\">\n",
              "    <div class=\"colab-df-container\">\n",
              "      <div>\n",
              "<style scoped>\n",
              "    .dataframe tbody tr th:only-of-type {\n",
              "        vertical-align: middle;\n",
              "    }\n",
              "\n",
              "    .dataframe tbody tr th {\n",
              "        vertical-align: top;\n",
              "    }\n",
              "\n",
              "    .dataframe thead th {\n",
              "        text-align: right;\n",
              "    }\n",
              "</style>\n",
              "<table border=\"1\" class=\"dataframe\">\n",
              "  <thead>\n",
              "    <tr style=\"text-align: right;\">\n",
              "      <th></th>\n",
              "      <th>index</th>\n",
              "      <th>id</th>\n",
              "      <th>Text</th>\n",
              "      <th>Annotation</th>\n",
              "      <th>oh_label</th>\n",
              "      <th>Text_preprocessed</th>\n",
              "      <th>Annotation_num</th>\n",
              "    </tr>\n",
              "  </thead>\n",
              "  <tbody>\n",
              "    <tr>\n",
              "      <th>0</th>\n",
              "      <td>5.74948705591165E+017</td>\n",
              "      <td>5.74948705591165E+017</td>\n",
              "      <td>@halalflaws @biebervalue @greenlinerzjm I read...</td>\n",
              "      <td>none</td>\n",
              "      <td>0.0</td>\n",
              "      <td>halalflaws biebervalue greenlinerzjm read cont...</td>\n",
              "      <td>0</td>\n",
              "    </tr>\n",
              "    <tr>\n",
              "      <th>1</th>\n",
              "      <td>5.71917888690393E+017</td>\n",
              "      <td>5.71917888690393E+017</td>\n",
              "      <td>@ShreyaBafna3 Now you idiots claim that people...</td>\n",
              "      <td>none</td>\n",
              "      <td>0.0</td>\n",
              "      <td>shreyabafna3 idiot claim people tried stop bec...</td>\n",
              "      <td>0</td>\n",
              "    </tr>\n",
              "    <tr>\n",
              "      <th>2</th>\n",
              "      <td>3.90255841338601E+017</td>\n",
              "      <td>3.90255841338601E+017</td>\n",
              "      <td>RT @Mooseoftorment Call me sexist, but when I ...</td>\n",
              "      <td>sexism</td>\n",
              "      <td>1.0</td>\n",
              "      <td>rt mooseoftorment call sexist go auto place id...</td>\n",
              "      <td>2</td>\n",
              "    </tr>\n",
              "    <tr>\n",
              "      <th>3</th>\n",
              "      <td>5.68208850655916E+017</td>\n",
              "      <td>5.68208850655916E+017</td>\n",
              "      <td>@g0ssipsquirrelx Wrong, ISIS follows the examp...</td>\n",
              "      <td>racism</td>\n",
              "      <td>1.0</td>\n",
              "      <td>g0ssipsquirrelx wrong isi follows example moha...</td>\n",
              "      <td>1</td>\n",
              "    </tr>\n",
              "    <tr>\n",
              "      <th>4</th>\n",
              "      <td>5.75596338802373E+017</td>\n",
              "      <td>5.75596338802373E+017</td>\n",
              "      <td>#mkr No No No No No No</td>\n",
              "      <td>none</td>\n",
              "      <td>0.0</td>\n",
              "      <td>mkr</td>\n",
              "      <td>0</td>\n",
              "    </tr>\n",
              "    <tr>\n",
              "      <th>...</th>\n",
              "      <td>...</td>\n",
              "      <td>...</td>\n",
              "      <td>...</td>\n",
              "      <td>...</td>\n",
              "      <td>...</td>\n",
              "      <td>...</td>\n",
              "      <td>...</td>\n",
              "    </tr>\n",
              "    <tr>\n",
              "      <th>16846</th>\n",
              "      <td>5.75606766236475E+017</td>\n",
              "      <td>5.75606766236475E+017</td>\n",
              "      <td>Feeling so sorry for the girls, they should be...</td>\n",
              "      <td>none</td>\n",
              "      <td>0.0</td>\n",
              "      <td>feeling sorry girl safe kat andre going home mkr</td>\n",
              "      <td>0</td>\n",
              "    </tr>\n",
              "    <tr>\n",
              "      <th>16847</th>\n",
              "      <td>5.72333822886326E+017</td>\n",
              "      <td>5.72333822886326E+017</td>\n",
              "      <td>#MKR 'pretty good dishes we're happy with' - O...</td>\n",
              "      <td>none</td>\n",
              "      <td>0.0</td>\n",
              "      <td>mkr pretty good dish happy ok well im never ea...</td>\n",
              "      <td>0</td>\n",
              "    </tr>\n",
              "    <tr>\n",
              "      <th>16848</th>\n",
              "      <td>5.72326950057845E+017</td>\n",
              "      <td>5.72326950057845E+017</td>\n",
              "      <td>RT @colonelkickhead: Deconstructed lemon tart!...</td>\n",
              "      <td>none</td>\n",
              "      <td>0.0</td>\n",
              "      <td>rt colonelkickhead deconstructed lemon tartcan...</td>\n",
              "      <td>0</td>\n",
              "    </tr>\n",
              "    <tr>\n",
              "      <th>16849</th>\n",
              "      <td>5.74799612642357E+017</td>\n",
              "      <td>5.74799612642357E+017</td>\n",
              "      <td>@versacezaynx @nyazpolitics @greenlinerzjm You...</td>\n",
              "      <td>none</td>\n",
              "      <td>0.0</td>\n",
              "      <td>versacezaynx nyazpolitics greenlinerzjm stupid...</td>\n",
              "      <td>0</td>\n",
              "    </tr>\n",
              "    <tr>\n",
              "      <th>16850</th>\n",
              "      <td>5.68826121153684E+017</td>\n",
              "      <td>5.68826121153684E+017</td>\n",
              "      <td>And before you protest that you're *not* mad, ...</td>\n",
              "      <td>none</td>\n",
              "      <td>0.0</td>\n",
              "      <td>protest youre mad there much reason youd tweet...</td>\n",
              "      <td>0</td>\n",
              "    </tr>\n",
              "  </tbody>\n",
              "</table>\n",
              "<p>16848 rows × 7 columns</p>\n",
              "</div>\n",
              "      <button class=\"colab-df-convert\" onclick=\"convertToInteractive('df-4de26a35-0407-4985-9790-9b28976e9e13')\"\n",
              "              title=\"Convert this dataframe to an interactive table.\"\n",
              "              style=\"display:none;\">\n",
              "        \n",
              "  <svg xmlns=\"http://www.w3.org/2000/svg\" height=\"24px\"viewBox=\"0 0 24 24\"\n",
              "       width=\"24px\">\n",
              "    <path d=\"M0 0h24v24H0V0z\" fill=\"none\"/>\n",
              "    <path d=\"M18.56 5.44l.94 2.06.94-2.06 2.06-.94-2.06-.94-.94-2.06-.94 2.06-2.06.94zm-11 1L8.5 8.5l.94-2.06 2.06-.94-2.06-.94L8.5 2.5l-.94 2.06-2.06.94zm10 10l.94 2.06.94-2.06 2.06-.94-2.06-.94-.94-2.06-.94 2.06-2.06.94z\"/><path d=\"M17.41 7.96l-1.37-1.37c-.4-.4-.92-.59-1.43-.59-.52 0-1.04.2-1.43.59L10.3 9.45l-7.72 7.72c-.78.78-.78 2.05 0 2.83L4 21.41c.39.39.9.59 1.41.59.51 0 1.02-.2 1.41-.59l7.78-7.78 2.81-2.81c.8-.78.8-2.07 0-2.86zM5.41 20L4 18.59l7.72-7.72 1.47 1.35L5.41 20z\"/>\n",
              "  </svg>\n",
              "      </button>\n",
              "      \n",
              "  <style>\n",
              "    .colab-df-container {\n",
              "      display:flex;\n",
              "      flex-wrap:wrap;\n",
              "      gap: 12px;\n",
              "    }\n",
              "\n",
              "    .colab-df-convert {\n",
              "      background-color: #E8F0FE;\n",
              "      border: none;\n",
              "      border-radius: 50%;\n",
              "      cursor: pointer;\n",
              "      display: none;\n",
              "      fill: #1967D2;\n",
              "      height: 32px;\n",
              "      padding: 0 0 0 0;\n",
              "      width: 32px;\n",
              "    }\n",
              "\n",
              "    .colab-df-convert:hover {\n",
              "      background-color: #E2EBFA;\n",
              "      box-shadow: 0px 1px 2px rgba(60, 64, 67, 0.3), 0px 1px 3px 1px rgba(60, 64, 67, 0.15);\n",
              "      fill: #174EA6;\n",
              "    }\n",
              "\n",
              "    [theme=dark] .colab-df-convert {\n",
              "      background-color: #3B4455;\n",
              "      fill: #D2E3FC;\n",
              "    }\n",
              "\n",
              "    [theme=dark] .colab-df-convert:hover {\n",
              "      background-color: #434B5C;\n",
              "      box-shadow: 0px 1px 3px 1px rgba(0, 0, 0, 0.15);\n",
              "      filter: drop-shadow(0px 1px 2px rgba(0, 0, 0, 0.3));\n",
              "      fill: #FFFFFF;\n",
              "    }\n",
              "  </style>\n",
              "\n",
              "      <script>\n",
              "        const buttonEl =\n",
              "          document.querySelector('#df-4de26a35-0407-4985-9790-9b28976e9e13 button.colab-df-convert');\n",
              "        buttonEl.style.display =\n",
              "          google.colab.kernel.accessAllowed ? 'block' : 'none';\n",
              "\n",
              "        async function convertToInteractive(key) {\n",
              "          const element = document.querySelector('#df-4de26a35-0407-4985-9790-9b28976e9e13');\n",
              "          const dataTable =\n",
              "            await google.colab.kernel.invokeFunction('convertToInteractive',\n",
              "                                                     [key], {});\n",
              "          if (!dataTable) return;\n",
              "\n",
              "          const docLinkHtml = 'Like what you see? Visit the ' +\n",
              "            '<a target=\"_blank\" href=https://colab.research.google.com/notebooks/data_table.ipynb>data table notebook</a>'\n",
              "            + ' to learn more about interactive tables.';\n",
              "          element.innerHTML = '';\n",
              "          dataTable['output_type'] = 'display_data';\n",
              "          await google.colab.output.renderOutput(dataTable, element);\n",
              "          const docLink = document.createElement('div');\n",
              "          docLink.innerHTML = docLinkHtml;\n",
              "          element.appendChild(docLink);\n",
              "        }\n",
              "      </script>\n",
              "    </div>\n",
              "  </div>\n",
              "  "
            ]
          },
          "metadata": {},
          "execution_count": 21
        }
      ]
    },
    {
      "cell_type": "code",
      "source": [
        "# Convert target variable to categorical\n",
        "y = to_categorical(df['Annotation_num'].values)"
      ],
      "metadata": {
        "id": "fMS99pOZFfKo"
      },
      "execution_count": 22,
      "outputs": []
    },
    {
      "cell_type": "markdown",
      "source": [
        "#Splitting the Dataset"
      ],
      "metadata": {
        "id": "xlTxXBk2ONJY"
      }
    },
    {
      "cell_type": "code",
      "source": [
        "# Split data into train and test sets\n",
        "X_train, X_test, y_train, y_test = train_test_split(X, y, test_size=0.25)"
      ],
      "metadata": {
        "id": "U__FxnX6Ffb0"
      },
      "execution_count": 23,
      "outputs": []
    },
    {
      "cell_type": "markdown",
      "source": [
        "#Initializing the Model"
      ],
      "metadata": {
        "id": "Cmba41p-OT5L"
      }
    },
    {
      "cell_type": "code",
      "source": [
        "# Build RNN model\n",
        "model = Sequential()\n",
        "model.add(Embedding(5000, 128, input_length=X.shape[1]))\n",
        "model.add(LSTM(128, dropout=0.2, recurrent_dropout=0.2))\n",
        "model.add(Dense(3, activation='softmax'))\n",
        "model.compile(loss='categorical_crossentropy', optimizer='adam', metrics=['accuracy'])"
      ],
      "metadata": {
        "id": "a6JkPiA_Ffga"
      },
      "execution_count": 24,
      "outputs": []
    },
    {
      "cell_type": "code",
      "source": [
        "# Train model\n",
        "model.fit(X_train, y_train, epochs=10, batch_size=32, validation_data=(X_test, y_test))\n"
      ],
      "metadata": {
        "colab": {
          "base_uri": "https://localhost:8080/"
        },
        "id": "tlOZLluKFfmq",
        "outputId": "9042f023-1541-48b4-df36-cb47f338aa63"
      },
      "execution_count": 25,
      "outputs": [
        {
          "output_type": "stream",
          "name": "stdout",
          "text": [
            "Epoch 1/10\n",
            "395/395 [==============================] - 219s 537ms/step - loss: 0.5211 - accuracy: 0.7969 - val_loss: 0.4071 - val_accuracy: 0.8483\n",
            "Epoch 2/10\n",
            "395/395 [==============================] - 230s 582ms/step - loss: 0.3170 - accuracy: 0.8778 - val_loss: 0.3735 - val_accuracy: 0.8549\n",
            "Epoch 3/10\n",
            "395/395 [==============================] - 240s 608ms/step - loss: 0.2340 - accuracy: 0.9110 - val_loss: 0.4031 - val_accuracy: 0.8540\n",
            "Epoch 4/10\n",
            "395/395 [==============================] - 217s 550ms/step - loss: 0.1805 - accuracy: 0.9328 - val_loss: 0.4609 - val_accuracy: 0.8333\n",
            "Epoch 5/10\n",
            "395/395 [==============================] - 176s 446ms/step - loss: 0.1412 - accuracy: 0.9483 - val_loss: 0.5348 - val_accuracy: 0.8400\n",
            "Epoch 6/10\n",
            "395/395 [==============================] - 174s 441ms/step - loss: 0.1105 - accuracy: 0.9606 - val_loss: 0.6071 - val_accuracy: 0.8262\n",
            "Epoch 7/10\n",
            "395/395 [==============================] - 179s 453ms/step - loss: 0.0891 - accuracy: 0.9687 - val_loss: 0.6871 - val_accuracy: 0.8226\n",
            "Epoch 8/10\n",
            "395/395 [==============================] - 176s 446ms/step - loss: 0.0762 - accuracy: 0.9740 - val_loss: 0.7414 - val_accuracy: 0.8210\n",
            "Epoch 9/10\n",
            "395/395 [==============================] - 178s 450ms/step - loss: 0.0636 - accuracy: 0.9788 - val_loss: 0.8622 - val_accuracy: 0.8086\n",
            "Epoch 10/10\n",
            "395/395 [==============================] - 173s 438ms/step - loss: 0.0569 - accuracy: 0.9810 - val_loss: 0.9307 - val_accuracy: 0.8162\n"
          ]
        },
        {
          "output_type": "execute_result",
          "data": {
            "text/plain": [
              "<keras.callbacks.History at 0x7f134e13b250>"
            ]
          },
          "metadata": {},
          "execution_count": 25
        }
      ]
    },
    {
      "cell_type": "markdown",
      "source": [
        "#Evaluating the Model"
      ],
      "metadata": {
        "id": "VNjKZtUiObDA"
      }
    },
    {
      "cell_type": "code",
      "source": [
        "# Evaluate model\n",
        "loss, accuracy = model.evaluate(X_test, y_test, verbose=0)\n",
        "print(f'Test loss: {loss:.3f}')\n",
        "print(f'Test accuracy: {accuracy:.3f}')\n"
      ],
      "metadata": {
        "colab": {
          "base_uri": "https://localhost:8080/"
        },
        "id": "6h2VBlieFfjf",
        "outputId": "572ac8d5-1911-4f2f-b7e6-5f1d7a105557"
      },
      "execution_count": 26,
      "outputs": [
        {
          "output_type": "stream",
          "name": "stdout",
          "text": [
            "Test loss: 0.931\n",
            "Test accuracy: 0.816\n"
          ]
        }
      ]
    },
    {
      "cell_type": "markdown",
      "source": [
        "#Predictions"
      ],
      "metadata": {
        "id": "vYybw_kaOgQ6"
      }
    },
    {
      "cell_type": "code",
      "source": [
        "# Make predictions on new data\n",
        "new_data = ['RT @Millhouse66 @Maureen_JS nooo not sexist but most women are bad drivers','A good Muslim is good despite his bad religion, not because of it.', 'Another tweet to classify']\n",
        "\n",
        "# preprocess each text separately using list comprehension\n",
        "new_data_processed = [preprocess_text(text) for text in new_data]\n",
        "\n",
        "# convert preprocessed text to padded sequences\n",
        "new_data_seq = tokenizer.texts_to_sequences(new_data_processed)\n",
        "new_data_padded = pad_sequences(new_data_seq, maxlen=132)\n",
        "\n",
        "# Make predictions using the loaded model\n",
        "predictions = model.predict(new_data_padded)\n"
      ],
      "metadata": {
        "colab": {
          "base_uri": "https://localhost:8080/"
        },
        "id": "bq-YY_nQqmzv",
        "outputId": "316eddab-1033-4b8e-991f-b2319ba10cc6"
      },
      "execution_count": 31,
      "outputs": [
        {
          "output_type": "stream",
          "name": "stdout",
          "text": [
            "1/1 [==============================] - 0s 81ms/step\n"
          ]
        }
      ]
    },
    {
      "cell_type": "code",
      "source": [
        "for i, pred in enumerate(predictions):\n",
        "     label = np.argmax(pred)\n",
        "     print(f'Tweet {i+1} prediction: {label_names[label]}')"
      ],
      "metadata": {
        "colab": {
          "base_uri": "https://localhost:8080/"
        },
        "id": "HzEXcrEyqrRx",
        "outputId": "2277856d-802d-4809-ea49-07097cf5be5a"
      },
      "execution_count": 32,
      "outputs": [
        {
          "output_type": "stream",
          "name": "stdout",
          "text": [
            "Tweet 1 prediction: sexism\n",
            "Tweet 2 prediction: racism\n",
            "Tweet 3 prediction: none\n"
          ]
        }
      ]
    },
    {
      "cell_type": "markdown",
      "source": [
        "At first, I imported nesscessary packages,then loaded the dataset then I performed exploratory data analysis for better understanding each of dataset associated with Cyber Bullying.\n",
        "\n",
        "Next, I pre-processed the data for my model and performed RNN. The accuracy rate of this model is 81%. And then, I did some predictions.\n",
        "\n",
        "With predictions we ca clearly  see that model has predicted correctly.\n",
        "\n",
        "\n",
        "Hereby I explored the dataset and pre-processed the data, then i trained two RNN model and evaluated the model.\n",
        "\n",
        "Thank you."
      ],
      "metadata": {
        "id": "NURwiLipUhnD"
      }
    }
  ]
}