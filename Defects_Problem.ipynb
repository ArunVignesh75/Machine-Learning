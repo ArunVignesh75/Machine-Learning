{
  "nbformat": 4,
  "nbformat_minor": 0,
  "metadata": {
    "colab": {
      "provenance": [],
      "authorship_tag": "ABX9TyMeCqtJIQlZw7COI6nIKPXu",
      "include_colab_link": true
    },
    "kernelspec": {
      "name": "python3",
      "display_name": "Python 3"
    },
    "language_info": {
      "name": "python"
    }
  },
  "cells": [
    {
      "cell_type": "markdown",
      "metadata": {
        "id": "view-in-github",
        "colab_type": "text"
      },
      "source": [
        "<a href=\"https://colab.research.google.com/github/ArunVignesh75/Machine-Learning/blob/main/Defects_Problem.ipynb\" target=\"_parent\"><img src=\"https://colab.research.google.com/assets/colab-badge.svg\" alt=\"Open In Colab\"/></a>"
      ]
    },
    {
      "cell_type": "code",
      "execution_count": null,
      "metadata": {
        "id": "5yPXro5eOJIO"
      },
      "outputs": [],
      "source": [
        "import cv2\n",
        "import numpy as np\n",
        "from google.colab.patches import cv2_imshow"
      ]
    },
    {
      "cell_type": "code",
      "source": [
        "# Define the path to the reference \"good\" image and test images\n",
        "reference_image_path = '/content/good.png'\n",
        "test_image_paths = [\n",
        "    '/content/defect1.png',\n",
        "    '/content/defect2.png',\n",
        "    '/content/defect3.png',\n",
        "    '/content/defect4.png'\n",
        "]\n"
      ],
      "metadata": {
        "id": "HXvyAWFWb4Ip"
      },
      "execution_count": null,
      "outputs": []
    },
    {
      "cell_type": "code",
      "source": [
        "# Define the path to the reference \"good\" image and test images\n",
        "reference_image_path = '/content/good.png'\n",
        "test_image_paths = [\n",
        "    '/content/defect1.png',\n",
        "    '/content/defect2.png',\n",
        "    '/content/defect3.png',\n",
        "    '/content/defect4.png'\n",
        "]\n",
        "\n",
        "# Function to detect and return the parameters (center and radius) of a perfect circle\n",
        "def detect_perfect_circle(image):\n",
        "    # Convert the image to grayscale\n",
        "    gray_image = cv2.cvtColor(image, cv2.COLOR_BGR2GRAY)\n",
        "\n",
        "    # Apply Hough Circle Transform to detect circles\n",
        "    circles = cv2.HoughCircles(\n",
        "        gray_image, cv2.HOUGH_GRADIENT, dp=1, minDist=50,\n",
        "        param1=50, param2=30, minRadius=200, maxRadius=300  # Adjust minRadius and maxRadius as needed\n",
        "    )\n",
        "\n",
        "    if circles is not None:\n",
        "        # Extract parameters of the detected circle\n",
        "        x, y, radius = circles[0][0]\n",
        "        center = (int(x), int(y))\n",
        "        radius = int(radius)\n",
        "        return center, radius\n",
        "    else:\n",
        "        return None\n",
        "\n",
        "# Load and preprocess the reference \"good\" image\n",
        "reference_image = cv2.imread(reference_image_path)\n",
        "if reference_image is None:\n",
        "    print(f\"Could not load the reference image from {reference_image_path}\")\n",
        "else:\n",
        "    # Detect the perfect circle in the reference image\n",
        "    reference_circle = detect_perfect_circle(reference_image)\n",
        "    if reference_circle is not None:\n",
        "        reference_center, reference_radius = reference_circle\n",
        "        print(f\"Reference circle: Center={reference_center}, Radius={reference_radius}\")\n",
        "    else:\n",
        "        print(\"No perfect circle found in the reference image.\")\n",
        "\n",
        "# Loop through the test images and compare with the reference circle\n",
        "for i, test_image_path in enumerate(test_image_paths, 1):\n",
        "    test_image = cv2.imread(test_image_path)\n",
        "    if test_image is None:\n",
        "        print(f\"Could not load image from {test_image_path}\")\n",
        "        continue\n",
        "\n",
        "    # Detect circles in the test image\n",
        "    detected_circle = detect_perfect_circle(test_image)\n",
        "\n",
        "    if detected_circle is not None:\n",
        "        detected_center, detected_radius = detected_circle\n",
        "        print(f\"Test Image {i} circle: Center={detected_center}, Radius={detected_radius}\")\n",
        "\n",
        "        # Compare with the reference circle\n",
        "        radius_diff = abs(reference_radius - detected_radius)\n",
        "        if radius_diff <= 5:  # Adjust the threshold as needed\n",
        "            print(f\"Test Image {i} is a good image.\")\n",
        "        else:\n",
        "            print(f\"Test Image {i} has defects.\")\n",
        "    else:\n",
        "        print(f\"No perfect circle found in Test Image {i}.\")\n"
      ],
      "metadata": {
        "id": "AlGZpO0ga5Bc",
        "colab": {
          "base_uri": "https://localhost:8080/"
        },
        "outputId": "9c470a4b-847e-4dbb-980f-3a1c2fbd4019"
      },
      "execution_count": null,
      "outputs": [
        {
          "output_type": "stream",
          "name": "stdout",
          "text": [
            "Reference circle: Center=(564, 540), Radius=220\n",
            "Test Image 1 circle: Center=(564, 540), Radius=220\n",
            "Test Image 1 is a good image.\n",
            "Test Image 2 circle: Center=(564, 540), Radius=220\n",
            "Test Image 2 is a good image.\n",
            "Test Image 3 circle: Center=(571, 549), Radius=210\n",
            "Test Image 3 has defects.\n",
            "Test Image 4 circle: Center=(564, 540), Radius=220\n",
            "Test Image 4 is a good image.\n"
          ]
        }
      ]
    }
  ]
}